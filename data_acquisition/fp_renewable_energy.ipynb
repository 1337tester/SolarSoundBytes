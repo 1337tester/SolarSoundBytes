{
 "cells": [
  {
   "cell_type": "markdown",
   "id": "c6382b58",
   "metadata": {},
   "source": [
    "# imports"
   ]
  },
  {
   "cell_type": "code",
   "execution_count": null,
   "id": "0ed60d48",
   "metadata": {},
   "outputs": [],
   "source": [
    "import numpy as np\n",
    "import pandas as pd\n",
    "import matplotlib.pyplot as plt"
   ]
  },
  {
   "cell_type": "markdown",
   "id": "f26c33b8",
   "metadata": {},
   "source": [
    "# get data"
   ]
  },
  {
   "cell_type": "code",
   "execution_count": null,
   "id": "6c9c84aa",
   "metadata": {},
   "outputs": [],
   "source": [
    "path_2_root = '../'\n",
    "path_2_data = path_2_root + 'data/csv/renewable_energy/'\n",
    "filename = '20250607_global_renewable_energy.csv'\n",
    "df = pd.read_csv(path_2_data + filename)\n",
    "df.head(2)"
   ]
  },
  {
   "cell_type": "code",
   "execution_count": null,
   "id": "8996e12b",
   "metadata": {},
   "outputs": [],
   "source": [
    "import pycountry\n",
    "\n",
    "def get_country_alpha3(name):\n",
    "    try:\n",
    "        return pycountry.countries.lookup(name).alpha_3\n",
    "    except LookupError:\n",
    "        return None\n",
    "\n",
    "# First, create the Country Code column\n",
    "df['Country Code'] = df['Country'].apply(get_country_alpha3)\n",
    "\n",
    "# Then reorder columns if desired\n",
    "cols = ['Country Code'] + [col for col in df.columns if col != 'Country Code']\n",
    "df = df[cols]\n",
    "\n",
    "df.head(2)"
   ]
  },
  {
   "cell_type": "code",
   "execution_count": null,
   "id": "c4b361a1",
   "metadata": {
    "vscode": {
     "languageId": "r"
    }
   },
   "outputs": [],
   "source": [
    "# function to plot desired data by using its column name (e.g. 'Production (GWh)') for a user-defined target country and energy type\n",
    "def plot_column_country_energytype(country_df, country, column, energy_type):\n",
    "  if column not in df.columns:\n",
    "    print(f\"Column '{column}' not found in dataframe.\")\n",
    "    return\n",
    "  country_df = df[(df['Country Code'] == country) & (df['Energy Type'] == energy_type)]\n",
    "  if country_df.empty:\n",
    "    print(f\"No data found for country '{country}' with energy type '{energy_type}'.\")\n",
    "    return\n",
    "  plt.figure(figsize=(10, 6))\n",
    "  plt.plot(country_df['Year'], country_df[column], marker='o')\n",
    "  plt.title(f\"{column} over Years for {country} ({energy_type})\")\n",
    "  plt.xlabel('Year')\n",
    "  plt.ylabel(column)\n",
    "  plt.grid(True)\n",
    "  plt.show()\n",
    "\n",
    "country_df = df\n",
    "country = 'USA'\n",
    "column = 'Production (GWh)'\n",
    "energy_type = 'Hydro'\n",
    "plot_column_country_energytype(country_df, country, column, energy_type)"
   ]
  },
  {
   "cell_type": "code",
   "execution_count": null,
   "id": "15821b6f",
   "metadata": {},
   "outputs": [],
   "source": []
  }
 ],
 "metadata": {
  "kernelspec": {
   "display_name": "SolarSoundBytes",
   "language": "python",
   "name": "python3"
  },
  "language_info": {
   "codemirror_mode": {
    "name": "ipython",
    "version": 3
   },
   "file_extension": ".py",
   "mimetype": "text/x-python",
   "name": "python",
   "nbconvert_exporter": "python",
   "pygments_lexer": "ipython3",
   "version": "3.10.6"
  }
 },
 "nbformat": 4,
 "nbformat_minor": 5
}
