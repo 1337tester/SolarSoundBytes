{
 "cells": [
  {
   "cell_type": "code",
   "execution_count": 1,
   "id": "9c2d4742",
   "metadata": {},
   "outputs": [],
   "source": [
    "import pandas as pd\n",
    "import numpy as np\n",
    "import string\n",
    "import re\n",
    "from nltk.tokenize import word_tokenize\n",
    "from nltk.corpus import stopwords\n",
    "from nltk.stem import WordNetLemmatizer\n",
    "from datetime import datetime\n",
    "import pandas as pd\n",
    "import json\n",
    "import os"
   ]
  },
  {
   "cell_type": "code",
   "execution_count": 2,
   "id": "c6fe1df2",
   "metadata": {},
   "outputs": [
    {
     "name": "stdout",
     "output_type": "stream",
     "text": [
      "Combined data saved to /Users/enrique/Documents/03_LeWagon/Final_Project/Articles_Combined/combined_articles.csv\n"
     ]
    }
   ],
   "source": [
    "csv_folder_path = '/Users/enrique/Documents/03_LeWagon/Final_Project/From_Fadri'\n",
    "\n",
    "all_articles_list = []\n",
    "\n",
    "for filename in os.listdir(csv_folder_path):\n",
    "    if filename.endswith(\".csv\"):\n",
    "        file_path = os.path.join(csv_folder_path, filename)\n",
    "        try:\n",
    "            df = pd.read_csv(file_path)\n",
    "            # Ensure the required columns are present\n",
    "            required_cols = ['title', 'description', 'content', 'url', 'image', 'publishedAt', 'source']\n",
    "            if all(col in df.columns for col in required_cols):\n",
    "                all_articles_list.append(df[required_cols])\n",
    "            else:\n",
    "                print(f\"Skipping {filename}: Missing required columns.\")\n",
    "        except Exception as e:\n",
    "            print(f\"Error reading {filename}: {e}\")\n",
    "\n",
    "if all_articles_list:\n",
    "    combined_df = pd.concat(all_articles_list, ignore_index=True)\n",
    "else:\n",
    "    combined_df = pd.DataFrame(columns=['title', 'description', 'content', 'url', 'image', 'publishedAt', 'source'])\n",
    "    print(\"No valid CSV files found with required columns.\")\n",
    "\n",
    "\n",
    "output_csv_path = '/Users/enrique/Documents/03_LeWagon/Final_Project/Articles_Combined/combined_articles.csv'\n",
    "combined_df.to_csv(output_csv_path, index=False)\n",
    "\n",
    "print(f\"Combined data saved to {output_csv_path}\")"
   ]
  },
  {
   "cell_type": "markdown",
   "id": "4c87e616",
   "metadata": {},
   "source": [
    "# Dataset Overview"
   ]
  },
  {
   "cell_type": "code",
   "execution_count": 3,
   "id": "c5c92095",
   "metadata": {},
   "outputs": [
    {
     "data": {
      "text/html": [
       "<div>\n",
       "<style scoped>\n",
       "    .dataframe tbody tr th:only-of-type {\n",
       "        vertical-align: middle;\n",
       "    }\n",
       "\n",
       "    .dataframe tbody tr th {\n",
       "        vertical-align: top;\n",
       "    }\n",
       "\n",
       "    .dataframe thead th {\n",
       "        text-align: right;\n",
       "    }\n",
       "</style>\n",
       "<table border=\"1\" class=\"dataframe\">\n",
       "  <thead>\n",
       "    <tr style=\"text-align: right;\">\n",
       "      <th></th>\n",
       "      <th>title</th>\n",
       "      <th>description</th>\n",
       "      <th>content</th>\n",
       "      <th>url</th>\n",
       "      <th>image</th>\n",
       "      <th>publishedAt</th>\n",
       "      <th>source</th>\n",
       "    </tr>\n",
       "  </thead>\n",
       "  <tbody>\n",
       "    <tr>\n",
       "      <th>0</th>\n",
       "      <td>Corre raises €4m from sale of Dutch battery en...</td>\n",
       "      <td>Shares in renewable energy storage developer h...</td>\n",
       "      <td>Corre Energy, a developer of storage systems f...</td>\n",
       "      <td>https://www.irishtimes.com/business/2024/12/19...</td>\n",
       "      <td>https://www.irishtimes.com/resizer/v2/TIJLAB7T...</td>\n",
       "      <td>2024-12-19T11:42:00Z</td>\n",
       "      <td>{'name': 'The Irish Times', 'url': 'https://ww...</td>\n",
       "    </tr>\n",
       "    <tr>\n",
       "      <th>1</th>\n",
       "      <td>Giant Underground 'Batteries' Are Shaping the ...</td>\n",
       "      <td>We're wasting too much of the clean energy we ...</td>\n",
       "      <td>Solar panels and wind turbines give the world ...</td>\n",
       "      <td>https://gizmodo.com/giant-underground-batterie...</td>\n",
       "      <td>https://gizmodo.com/app/uploads/2024/12/hydros...</td>\n",
       "      <td>2024-12-07T17:00:48Z</td>\n",
       "      <td>{'name': 'Gizmodo', 'url': 'https://gizmodo.com'}</td>\n",
       "    </tr>\n",
       "    <tr>\n",
       "      <th>2</th>\n",
       "      <td>Dudley Council refusal of Halesowen renewable ...</td>\n",
       "      <td>Halesowen renewable energy storage facility ap...</td>\n",
       "      <td>Our community members are treated to special o...</td>\n",
       "      <td>https://www.birminghammail.co.uk/black-country...</td>\n",
       "      <td>https://i2-prod.birminghammail.co.uk/incoming/...</td>\n",
       "      <td>2024-11-24T05:39:00Z</td>\n",
       "      <td>{'name': 'Birmingham Live', 'url': 'https://ww...</td>\n",
       "    </tr>\n",
       "    <tr>\n",
       "      <th>3</th>\n",
       "      <td>India's Power Ministry Empowers Renewable Stor...</td>\n",
       "      <td>The Union power ministry urges states to waive...</td>\n",
       "      <td>The Union power ministry of India has directed...</td>\n",
       "      <td>https://www.devdiscourse.com/article/business/...</td>\n",
       "      <td>https://www.devdiscourse.com/remote.axd?https:...</td>\n",
       "      <td>2024-11-20T11:20:31Z</td>\n",
       "      <td>{'name': 'Devdiscourse', 'url': 'https://www.d...</td>\n",
       "    </tr>\n",
       "    <tr>\n",
       "      <th>4</th>\n",
       "      <td>India and Australia Unveil Ambitious Renewable...</td>\n",
       "      <td>India and Australia have launched the Renewabl...</td>\n",
       "      <td>India and Australia have inaugurated a Renewab...</td>\n",
       "      <td>https://www.devdiscourse.com/article/headlines...</td>\n",
       "      <td>https://www.devdiscourse.com/remote.axd?https:...</td>\n",
       "      <td>2024-11-19T18:42:34Z</td>\n",
       "      <td>{'name': 'Devdiscourse', 'url': 'https://www.d...</td>\n",
       "    </tr>\n",
       "  </tbody>\n",
       "</table>\n",
       "</div>"
      ],
      "text/plain": [
       "                                               title  \\\n",
       "0  Corre raises €4m from sale of Dutch battery en...   \n",
       "1  Giant Underground 'Batteries' Are Shaping the ...   \n",
       "2  Dudley Council refusal of Halesowen renewable ...   \n",
       "3  India's Power Ministry Empowers Renewable Stor...   \n",
       "4  India and Australia Unveil Ambitious Renewable...   \n",
       "\n",
       "                                         description  \\\n",
       "0  Shares in renewable energy storage developer h...   \n",
       "1  We're wasting too much of the clean energy we ...   \n",
       "2  Halesowen renewable energy storage facility ap...   \n",
       "3  The Union power ministry urges states to waive...   \n",
       "4  India and Australia have launched the Renewabl...   \n",
       "\n",
       "                                             content  \\\n",
       "0  Corre Energy, a developer of storage systems f...   \n",
       "1  Solar panels and wind turbines give the world ...   \n",
       "2  Our community members are treated to special o...   \n",
       "3  The Union power ministry of India has directed...   \n",
       "4  India and Australia have inaugurated a Renewab...   \n",
       "\n",
       "                                                 url  \\\n",
       "0  https://www.irishtimes.com/business/2024/12/19...   \n",
       "1  https://gizmodo.com/giant-underground-batterie...   \n",
       "2  https://www.birminghammail.co.uk/black-country...   \n",
       "3  https://www.devdiscourse.com/article/business/...   \n",
       "4  https://www.devdiscourse.com/article/headlines...   \n",
       "\n",
       "                                               image           publishedAt  \\\n",
       "0  https://www.irishtimes.com/resizer/v2/TIJLAB7T...  2024-12-19T11:42:00Z   \n",
       "1  https://gizmodo.com/app/uploads/2024/12/hydros...  2024-12-07T17:00:48Z   \n",
       "2  https://i2-prod.birminghammail.co.uk/incoming/...  2024-11-24T05:39:00Z   \n",
       "3  https://www.devdiscourse.com/remote.axd?https:...  2024-11-20T11:20:31Z   \n",
       "4  https://www.devdiscourse.com/remote.axd?https:...  2024-11-19T18:42:34Z   \n",
       "\n",
       "                                              source  \n",
       "0  {'name': 'The Irish Times', 'url': 'https://ww...  \n",
       "1  {'name': 'Gizmodo', 'url': 'https://gizmodo.com'}  \n",
       "2  {'name': 'Birmingham Live', 'url': 'https://ww...  \n",
       "3  {'name': 'Devdiscourse', 'url': 'https://www.d...  \n",
       "4  {'name': 'Devdiscourse', 'url': 'https://www.d...  "
      ]
     },
     "execution_count": 3,
     "metadata": {},
     "output_type": "execute_result"
    }
   ],
   "source": [
    "df = pd.read_csv(\"/Users/enrique/Documents/03_LeWagon/Final_Project/Articles_Combined/combined_articles.csv\")\n",
    "df.head()"
   ]
  },
  {
   "cell_type": "code",
   "execution_count": 4,
   "id": "bcc9f593",
   "metadata": {},
   "outputs": [
    {
     "data": {
      "text/plain": [
       "(72, 7)"
      ]
     },
     "execution_count": 4,
     "metadata": {},
     "output_type": "execute_result"
    }
   ],
   "source": [
    "df.shape"
   ]
  },
  {
   "cell_type": "markdown",
   "id": "04301a28",
   "metadata": {},
   "source": [
    "### Date column needs to be **dtype** format!"
   ]
  },
  {
   "cell_type": "code",
   "execution_count": 5,
   "id": "2c73a1bf",
   "metadata": {},
   "outputs": [
    {
     "name": "stdout",
     "output_type": "stream",
     "text": [
      "datetime64[ns, UTC]\n"
     ]
    },
    {
     "name": "stderr",
     "output_type": "stream",
     "text": [
      "/var/folders/52/7ccrs33x6bl334rw1cb76c0h0000gn/T/ipykernel_76353/1960375795.py:1: UserWarning: Parsing dates in %Y-%m-%dT%H:%M:%S%z format when dayfirst=True was specified. Pass `dayfirst=False` or specify a format to silence this warning.\n",
      "  df['Date'] = pd.to_datetime(df['publishedAt'], dayfirst=True, errors='coerce')\n"
     ]
    }
   ],
   "source": [
    "df['Date'] = pd.to_datetime(df['publishedAt'], dayfirst=True, errors='coerce')\n",
    "print(df['Date'].dtype)"
   ]
  },
  {
   "cell_type": "code",
   "execution_count": 6,
   "id": "0a2cd07f",
   "metadata": {},
   "outputs": [],
   "source": [
    "#unique_domains = df['source'].unique()\n",
    "#unique_domains"
   ]
  },
  {
   "cell_type": "code",
   "execution_count": 7,
   "id": "dafd9c07",
   "metadata": {},
   "outputs": [
    {
     "data": {
      "text/html": [
       "<div>\n",
       "<style scoped>\n",
       "    .dataframe tbody tr th:only-of-type {\n",
       "        vertical-align: middle;\n",
       "    }\n",
       "\n",
       "    .dataframe tbody tr th {\n",
       "        vertical-align: top;\n",
       "    }\n",
       "\n",
       "    .dataframe thead th {\n",
       "        text-align: right;\n",
       "    }\n",
       "</style>\n",
       "<table border=\"1\" class=\"dataframe\">\n",
       "  <thead>\n",
       "    <tr style=\"text-align: right;\">\n",
       "      <th></th>\n",
       "      <th>title</th>\n",
       "      <th>description</th>\n",
       "      <th>content</th>\n",
       "      <th>url</th>\n",
       "      <th>image</th>\n",
       "      <th>publishedAt</th>\n",
       "      <th>source</th>\n",
       "      <th>Date</th>\n",
       "    </tr>\n",
       "  </thead>\n",
       "  <tbody>\n",
       "    <tr>\n",
       "      <th>0</th>\n",
       "      <td>Corre raises €4m from sale of Dutch battery en...</td>\n",
       "      <td>Shares in renewable energy storage developer h...</td>\n",
       "      <td>Corre Energy, a developer of storage systems f...</td>\n",
       "      <td>https://www.irishtimes.com/business/2024/12/19...</td>\n",
       "      <td>https://www.irishtimes.com/resizer/v2/TIJLAB7T...</td>\n",
       "      <td>2024-12-19T11:42:00Z</td>\n",
       "      <td>{'name': 'The Irish Times', 'url': 'https://ww...</td>\n",
       "      <td>2024-12-19 11:42:00+00:00</td>\n",
       "    </tr>\n",
       "    <tr>\n",
       "      <th>1</th>\n",
       "      <td>Giant Underground 'Batteries' Are Shaping the ...</td>\n",
       "      <td>We're wasting too much of the clean energy we ...</td>\n",
       "      <td>Solar panels and wind turbines give the world ...</td>\n",
       "      <td>https://gizmodo.com/giant-underground-batterie...</td>\n",
       "      <td>https://gizmodo.com/app/uploads/2024/12/hydros...</td>\n",
       "      <td>2024-12-07T17:00:48Z</td>\n",
       "      <td>{'name': 'Gizmodo', 'url': 'https://gizmodo.com'}</td>\n",
       "      <td>2024-12-07 17:00:48+00:00</td>\n",
       "    </tr>\n",
       "    <tr>\n",
       "      <th>2</th>\n",
       "      <td>Dudley Council refusal of Halesowen renewable ...</td>\n",
       "      <td>Halesowen renewable energy storage facility ap...</td>\n",
       "      <td>Our community members are treated to special o...</td>\n",
       "      <td>https://www.birminghammail.co.uk/black-country...</td>\n",
       "      <td>https://i2-prod.birminghammail.co.uk/incoming/...</td>\n",
       "      <td>2024-11-24T05:39:00Z</td>\n",
       "      <td>{'name': 'Birmingham Live', 'url': 'https://ww...</td>\n",
       "      <td>2024-11-24 05:39:00+00:00</td>\n",
       "    </tr>\n",
       "  </tbody>\n",
       "</table>\n",
       "</div>"
      ],
      "text/plain": [
       "                                               title  \\\n",
       "0  Corre raises €4m from sale of Dutch battery en...   \n",
       "1  Giant Underground 'Batteries' Are Shaping the ...   \n",
       "2  Dudley Council refusal of Halesowen renewable ...   \n",
       "\n",
       "                                         description  \\\n",
       "0  Shares in renewable energy storage developer h...   \n",
       "1  We're wasting too much of the clean energy we ...   \n",
       "2  Halesowen renewable energy storage facility ap...   \n",
       "\n",
       "                                             content  \\\n",
       "0  Corre Energy, a developer of storage systems f...   \n",
       "1  Solar panels and wind turbines give the world ...   \n",
       "2  Our community members are treated to special o...   \n",
       "\n",
       "                                                 url  \\\n",
       "0  https://www.irishtimes.com/business/2024/12/19...   \n",
       "1  https://gizmodo.com/giant-underground-batterie...   \n",
       "2  https://www.birminghammail.co.uk/black-country...   \n",
       "\n",
       "                                               image           publishedAt  \\\n",
       "0  https://www.irishtimes.com/resizer/v2/TIJLAB7T...  2024-12-19T11:42:00Z   \n",
       "1  https://gizmodo.com/app/uploads/2024/12/hydros...  2024-12-07T17:00:48Z   \n",
       "2  https://i2-prod.birminghammail.co.uk/incoming/...  2024-11-24T05:39:00Z   \n",
       "\n",
       "                                              source                      Date  \n",
       "0  {'name': 'The Irish Times', 'url': 'https://ww... 2024-12-19 11:42:00+00:00  \n",
       "1  {'name': 'Gizmodo', 'url': 'https://gizmodo.com'} 2024-12-07 17:00:48+00:00  \n",
       "2  {'name': 'Birmingham Live', 'url': 'https://ww... 2024-11-24 05:39:00+00:00  "
      ]
     },
     "execution_count": 7,
     "metadata": {},
     "output_type": "execute_result"
    }
   ],
   "source": [
    "df.head(3)"
   ]
  },
  {
   "cell_type": "code",
   "execution_count": 8,
   "id": "46110b42",
   "metadata": {},
   "outputs": [
    {
     "data": {
      "text/html": [
       "<div>\n",
       "<style scoped>\n",
       "    .dataframe tbody tr th:only-of-type {\n",
       "        vertical-align: middle;\n",
       "    }\n",
       "\n",
       "    .dataframe tbody tr th {\n",
       "        vertical-align: top;\n",
       "    }\n",
       "\n",
       "    .dataframe thead th {\n",
       "        text-align: right;\n",
       "    }\n",
       "</style>\n",
       "<table border=\"1\" class=\"dataframe\">\n",
       "  <thead>\n",
       "    <tr style=\"text-align: right;\">\n",
       "      <th></th>\n",
       "      <th>title</th>\n",
       "      <th>description</th>\n",
       "      <th>content</th>\n",
       "      <th>url</th>\n",
       "      <th>image</th>\n",
       "      <th>publishedAt</th>\n",
       "      <th>source</th>\n",
       "      <th>Date</th>\n",
       "    </tr>\n",
       "  </thead>\n",
       "  <tbody>\n",
       "    <tr>\n",
       "      <th>0</th>\n",
       "      <td>Corre raises €4m from sale of Dutch battery en...</td>\n",
       "      <td>Shares in renewable energy storage developer h...</td>\n",
       "      <td>Corre Energy, a developer of storage systems f...</td>\n",
       "      <td>https://www.irishtimes.com/business/2024/12/19...</td>\n",
       "      <td>https://www.irishtimes.com/resizer/v2/TIJLAB7T...</td>\n",
       "      <td>2024-12-19T11:42:00Z</td>\n",
       "      <td>{'name': 'The Irish Times', 'url': 'https://ww...</td>\n",
       "      <td>2024-12-19 11:42:00+00:00</td>\n",
       "    </tr>\n",
       "    <tr>\n",
       "      <th>1</th>\n",
       "      <td>Giant Underground 'Batteries' Are Shaping the ...</td>\n",
       "      <td>We're wasting too much of the clean energy we ...</td>\n",
       "      <td>Solar panels and wind turbines give the world ...</td>\n",
       "      <td>https://gizmodo.com/giant-underground-batterie...</td>\n",
       "      <td>https://gizmodo.com/app/uploads/2024/12/hydros...</td>\n",
       "      <td>2024-12-07T17:00:48Z</td>\n",
       "      <td>{'name': 'Gizmodo', 'url': 'https://gizmodo.com'}</td>\n",
       "      <td>2024-12-07 17:00:48+00:00</td>\n",
       "    </tr>\n",
       "  </tbody>\n",
       "</table>\n",
       "</div>"
      ],
      "text/plain": [
       "                                               title  \\\n",
       "0  Corre raises €4m from sale of Dutch battery en...   \n",
       "1  Giant Underground 'Batteries' Are Shaping the ...   \n",
       "\n",
       "                                         description  \\\n",
       "0  Shares in renewable energy storage developer h...   \n",
       "1  We're wasting too much of the clean energy we ...   \n",
       "\n",
       "                                             content  \\\n",
       "0  Corre Energy, a developer of storage systems f...   \n",
       "1  Solar panels and wind turbines give the world ...   \n",
       "\n",
       "                                                 url  \\\n",
       "0  https://www.irishtimes.com/business/2024/12/19...   \n",
       "1  https://gizmodo.com/giant-underground-batterie...   \n",
       "\n",
       "                                               image           publishedAt  \\\n",
       "0  https://www.irishtimes.com/resizer/v2/TIJLAB7T...  2024-12-19T11:42:00Z   \n",
       "1  https://gizmodo.com/app/uploads/2024/12/hydros...  2024-12-07T17:00:48Z   \n",
       "\n",
       "                                              source                      Date  \n",
       "0  {'name': 'The Irish Times', 'url': 'https://ww... 2024-12-19 11:42:00+00:00  \n",
       "1  {'name': 'Gizmodo', 'url': 'https://gizmodo.com'} 2024-12-07 17:00:48+00:00  "
      ]
     },
     "execution_count": 8,
     "metadata": {},
     "output_type": "execute_result"
    }
   ],
   "source": [
    "df.drop(columns=['image', 'publishedAt'])\n",
    "df.head(2)"
   ]
  },
  {
   "cell_type": "markdown",
   "id": "bdb74258",
   "metadata": {},
   "source": [
    "# Text Cleaning:\n",
    "**Preprocessing:** lowercase, delete numbers, punctuation and symbols (#\"*!&%), splitting, tokenizing?, removing stopwords, lemmatizing"
   ]
  },
  {
   "cell_type": "code",
   "execution_count": 21,
   "id": "04e43ad5",
   "metadata": {},
   "outputs": [
    {
     "data": {
      "text/html": [
       "<div>\n",
       "<style scoped>\n",
       "    .dataframe tbody tr th:only-of-type {\n",
       "        vertical-align: middle;\n",
       "    }\n",
       "\n",
       "    .dataframe tbody tr th {\n",
       "        vertical-align: top;\n",
       "    }\n",
       "\n",
       "    .dataframe thead th {\n",
       "        text-align: right;\n",
       "    }\n",
       "</style>\n",
       "<table border=\"1\" class=\"dataframe\">\n",
       "  <thead>\n",
       "    <tr style=\"text-align: right;\">\n",
       "      <th></th>\n",
       "      <th>Clean_Title</th>\n",
       "      <th>Clean_Description</th>\n",
       "      <th>Clean_Source</th>\n",
       "      <th>Clean_Content</th>\n",
       "      <th>Clean_Date</th>\n",
       "    </tr>\n",
       "  </thead>\n",
       "  <tbody>\n",
       "    <tr>\n",
       "      <th>0</th>\n",
       "      <td>corre raises €4m from sale of dutch battery en...</td>\n",
       "      <td>shares in renewable energy storage developer h...</td>\n",
       "      <td>the irish times</td>\n",
       "      <td>corre energy, a developer of storage systems f...</td>\n",
       "      <td>2024-12-19</td>\n",
       "    </tr>\n",
       "    <tr>\n",
       "      <th>1</th>\n",
       "      <td>giant underground 'batteries' are shaping the ...</td>\n",
       "      <td>we're wasting too much of the clean energy we ...</td>\n",
       "      <td>gizmodo</td>\n",
       "      <td>solar panels and wind turbines give the world ...</td>\n",
       "      <td>2024-12-07</td>\n",
       "    </tr>\n",
       "    <tr>\n",
       "      <th>2</th>\n",
       "      <td>dudley council refusal of halesowen renewable ...</td>\n",
       "      <td>halesowen renewable energy storage facility ap...</td>\n",
       "      <td>birmingham live</td>\n",
       "      <td>our community members are treated to special o...</td>\n",
       "      <td>2024-11-24</td>\n",
       "    </tr>\n",
       "    <tr>\n",
       "      <th>3</th>\n",
       "      <td>india's power ministry empowers renewable stor...</td>\n",
       "      <td>the union power ministry urges states to waive...</td>\n",
       "      <td>devdiscourse</td>\n",
       "      <td>the union power ministry of india has directed...</td>\n",
       "      <td>2024-11-20</td>\n",
       "    </tr>\n",
       "    <tr>\n",
       "      <th>4</th>\n",
       "      <td>india and australia unveil ambitious renewable...</td>\n",
       "      <td>india and australia have launched the renewabl...</td>\n",
       "      <td>devdiscourse</td>\n",
       "      <td>india and australia have inaugurated a renewab...</td>\n",
       "      <td>2024-11-19</td>\n",
       "    </tr>\n",
       "  </tbody>\n",
       "</table>\n",
       "</div>"
      ],
      "text/plain": [
       "                                         Clean_Title  \\\n",
       "0  corre raises €4m from sale of dutch battery en...   \n",
       "1  giant underground 'batteries' are shaping the ...   \n",
       "2  dudley council refusal of halesowen renewable ...   \n",
       "3  india's power ministry empowers renewable stor...   \n",
       "4  india and australia unveil ambitious renewable...   \n",
       "\n",
       "                                   Clean_Description     Clean_Source  \\\n",
       "0  shares in renewable energy storage developer h...  the irish times   \n",
       "1  we're wasting too much of the clean energy we ...          gizmodo   \n",
       "2  halesowen renewable energy storage facility ap...  birmingham live   \n",
       "3  the union power ministry urges states to waive...     devdiscourse   \n",
       "4  india and australia have launched the renewabl...     devdiscourse   \n",
       "\n",
       "                                       Clean_Content  Clean_Date  \n",
       "0  corre energy, a developer of storage systems f...  2024-12-19  \n",
       "1  solar panels and wind turbines give the world ...  2024-12-07  \n",
       "2  our community members are treated to special o...  2024-11-24  \n",
       "3  the union power ministry of india has directed...  2024-11-20  \n",
       "4  india and australia have inaugurated a renewab...  2024-11-19  "
      ]
     },
     "execution_count": 21,
     "metadata": {},
     "output_type": "execute_result"
    }
   ],
   "source": [
    "stop_words = set(stopwords.words('english'))\n",
    "lemmatizer = WordNetLemmatizer()\n",
    "\n",
    "def preprocess_text(text):\n",
    "    text = text.lower()\n",
    "    #text = text.translate(str.maketrans(\"\", \"\", string.punctuation))#takes 2 arguments \"\", \"\", for string.punctuation\n",
    "    text = re.sub(r\".*'name':\\s*'([^']+)'.*\", r'\\1', text)\n",
    "    text = re.sub(r'^name\\s+(.+?)\\s+url\\s+https.*', r'\\1', text)\n",
    "    #text = ''.join(char for char in text if not char.isdigit())\n",
    "\n",
    "    tokens = text.split()\n",
    "    #tokens = [word for word in tokens if word not in stop_words]\n",
    "    #tokens = [lemmatizer.lemmatize(word) for word in tokens]\n",
    "\n",
    "    return ' '.join(tokens)\n",
    "\n",
    "df['Clean_Title'] = df['title'].apply(preprocess_text)\n",
    "df['Clean_Description'] = df['description'].apply(preprocess_text)\n",
    "df['Clean_Source'] = df['source'].apply(preprocess_text)\n",
    "df['Clean_Content'] = df['content'].apply(preprocess_text)\n",
    "df['Clean_Date'] = pd.to_datetime(df['Date'], errors='coerce').dt.strftime('%Y-%m-%d')\n",
    "\n",
    "df_clean = df.copy()\n",
    "\n",
    "df_clean = df.drop(columns=['url', 'image', 'publishedAt', 'title', 'description', 'content', 'source', \"Date\"])\n",
    "df_clean.head()"
   ]
  },
  {
   "cell_type": "code",
   "execution_count": 22,
   "id": "8b14f7b8",
   "metadata": {},
   "outputs": [
    {
     "data": {
      "text/plain": [
       "Clean_Source\n",
       "jimmys post                        12\n",
       "devdiscourse                        9\n",
       "livemint                            6\n",
       "the irish times                     5\n",
       "interesting engineering             5\n",
       "the indian express                  3\n",
       "seeking alpha                       2\n",
       "the conversation uk                 2\n",
       "slashgear                           2\n",
       "techcrunch                          2\n",
       "the australian financial review     2\n",
       "reuters                             2\n",
       "gizmodo                             1\n",
       "birmingham live                     1\n",
       "the boston globe                    1\n",
       "the verge                           1\n",
       "the financial express               1\n",
       "cbc.ca                              1\n",
       "elliotlaketoday.com                 1\n",
       "guelphtoday                         1\n",
       "bradfordtoday                       1\n",
       "abc news                            1\n",
       "baytoday                            1\n",
       "vancouver is awesome                1\n",
       "sootoday                            1\n",
       "spark chronicles                    1\n",
       "firstpost                           1\n",
       "deccan herald                       1\n",
       "cnbc                                1\n",
       "digital news asia                   1\n",
       "the globe and mail                  1\n",
       "manilastandard.net                  1\n",
       "Name: count, dtype: int64"
      ]
     },
     "execution_count": 22,
     "metadata": {},
     "output_type": "execute_result"
    }
   ],
   "source": [
    "df_clean.Clean_Source.value_counts().sort_values(ascending=False)"
   ]
  },
  {
   "cell_type": "markdown",
   "id": "ea7d55c6",
   "metadata": {},
   "source": [
    "# Sentiment Analysis"
   ]
  },
  {
   "cell_type": "code",
   "execution_count": 23,
   "id": "bc17e58d",
   "metadata": {},
   "outputs": [],
   "source": [
    "#%pip install transformers torch\n",
    "#%pip install datasets\n",
    "#%pip install 'transformers[torch]'\n",
    "# %pip install vaderSentiment\n"
   ]
  },
  {
   "cell_type": "code",
   "execution_count": 24,
   "id": "fb34fd26",
   "metadata": {},
   "outputs": [
    {
     "name": "stderr",
     "output_type": "stream",
     "text": [
      "[nltk_data] Downloading package punkt to /Users/enrique/nltk_data...\n",
      "[nltk_data]   Package punkt is already up-to-date!\n"
     ]
    }
   ],
   "source": [
    "import transformers\n",
    "from transformers import pipeline\n",
    "from transformers import AutoTokenizer, AutoModelForSequenceClassification\n",
    "import torch\n",
    "import nltk\n",
    "nltk.download('punkt')\n",
    "from nltk.tokenize import sent_tokenize\n",
    "from collections import Counter\n",
    "from sklearn.metrics import accuracy_score, precision_recall_fscore_support\n",
    "from datasets import Dataset, ClassLabel\n",
    "from transformers import TrainingArguments\n",
    "from transformers import Trainer\n",
    "from vaderSentiment.vaderSentiment import SentimentIntensityAnalyzer\n"
   ]
  },
  {
   "cell_type": "markdown",
   "id": "7852ec0b",
   "metadata": {},
   "source": [
    "# Setting up different models to test their performance"
   ]
  },
  {
   "cell_type": "markdown",
   "id": "9d90c4aa",
   "metadata": {},
   "source": [
    "## Comparing different models: RobErta, distilBERT, VADER"
   ]
  },
  {
   "cell_type": "code",
   "execution_count": 26,
   "id": "99e4ea97",
   "metadata": {},
   "outputs": [
    {
     "name": "stderr",
     "output_type": "stream",
     "text": [
      "Device set to use mps:0\n"
     ]
    },
    {
     "data": {
      "text/plain": [
       "'sentiment_pipeline_distilbert_V3 = pipeline(\\n    \"sentiment-analysis\",\\n    model=\"/Users/enrique/Documents/03_LeWagon/Final_Project/FineTuned-models/finetuned_distilbert_V3\",\\n    return_all_scores=True)\\n'"
      ]
     },
     "execution_count": 26,
     "metadata": {},
     "output_type": "execute_result"
    }
   ],
   "source": [
    "#sentiment_pipeline_roberta = pipeline(\"sentiment-analysis\", model=\"cardiffnlp/twitter-roberta-base-sentiment-latest\", return_all_scores=True)\n",
    "sentiment_pipeline_distilbert = pipeline(\"sentiment-analysis\", model=\"distilbert-base-uncased-finetuned-sst-2-english\", return_all_scores=True)\n",
    "#sentiment_pipeline_vader = SentimentIntensityAnalyzer()\n",
    "\n",
    "# Adding fine-tune models into the equation\n",
    "\"\"\"sentiment_pipeline_distilbert_V3 = pipeline(\n",
    "    \"sentiment-analysis\",\n",
    "    model=\"/Users/enrique/Documents/03_LeWagon/Final_Project/FineTuned-models/finetuned_distilbert_V3\",\n",
    "    return_all_scores=True)\n",
    "\"\"\""
   ]
  },
  {
   "cell_type": "markdown",
   "id": "bb4d6ffe",
   "metadata": {},
   "source": [
    "## We need to devide full articles into ***chunks*** of a **N** of sentences."
   ]
  },
  {
   "cell_type": "code",
   "execution_count": 27,
   "id": "7e9741f9",
   "metadata": {},
   "outputs": [],
   "source": [
    "def split_into_chunks(text, max_sentences=5):\n",
    "    \"Devide a text in chunks of N sentences\"\n",
    "    sentences = sent_tokenize(text)\n",
    "    return [' '.join(sentences[i:i+max_sentences]) for i in range(0, len(sentences), max_sentences)]\n"
   ]
  },
  {
   "cell_type": "code",
   "execution_count": 31,
   "id": "759908b4",
   "metadata": {},
   "outputs": [],
   "source": [
    "def analyze_sentiment_chunked(text, sentiment_pipeline):\n",
    "    \"Analyse sentiment of chunks and labels 'mixed' if there is a meaningful draw\"\n",
    "\n",
    "    if hasattr(sentiment_pipeline, 'polarity_scores'):\n",
    "        return pd.Series(sentiment_pipeline.polarity_scores(text[:514]))\n",
    "\n",
    "    else:\n",
    "        return pd.Series(sentiment_pipeline(text[:514]))#, truncation=True)[0] for chunk in chunks]\n"
   ]
  },
  {
   "cell_type": "code",
   "execution_count": null,
   "id": "860b3252",
   "metadata": {},
   "outputs": [],
   "source": [
    "#test = df_sample['Clean_Content'][0]\n",
    "#test\n",
    "#chunks = split_into_chunks(test)\n",
    "#len(chunks)"
   ]
  },
  {
   "cell_type": "code",
   "execution_count": null,
   "id": "5382c401",
   "metadata": {},
   "outputs": [],
   "source": [
    "#[sentiment_pipeline_distilbert_conf(chunk, truncation=True) for chunk in chunks]"
   ]
  },
  {
   "cell_type": "code",
   "execution_count": null,
   "id": "418e240d",
   "metadata": {},
   "outputs": [],
   "source": [
    "#[sentiment_pipeline_distilbert(chunk, truncation=True) for chunk in chunks]"
   ]
  },
  {
   "cell_type": "markdown",
   "id": "dca4c4a1",
   "metadata": {},
   "source": []
  },
  {
   "cell_type": "code",
   "execution_count": 32,
   "id": "d4974e7e",
   "metadata": {},
   "outputs": [
    {
     "data": {
      "text/plain": [
       "{'distilbert': <transformers.pipelines.text_classification.TextClassificationPipeline at 0x165eee350>}"
      ]
     },
     "execution_count": 32,
     "metadata": {},
     "output_type": "execute_result"
    }
   ],
   "source": [
    "models = {\n",
    "    #'roberta': sentiment_pipeline_roberta,\n",
    "    'distilbert': sentiment_pipeline_distilbert,\n",
    "    #'vader': sentiment_pipeline_vader,\n",
    "    #'distilbert_V3': sentiment_pipeline_distilbert_V3\n",
    "    }\n",
    "models"
   ]
  },
  {
   "cell_type": "code",
   "execution_count": 48,
   "id": "1b38498a",
   "metadata": {},
   "outputs": [
    {
     "data": {
      "text/html": [
       "<div>\n",
       "<style scoped>\n",
       "    .dataframe tbody tr th:only-of-type {\n",
       "        vertical-align: middle;\n",
       "    }\n",
       "\n",
       "    .dataframe tbody tr th {\n",
       "        vertical-align: top;\n",
       "    }\n",
       "\n",
       "    .dataframe thead th {\n",
       "        text-align: right;\n",
       "    }\n",
       "</style>\n",
       "<table border=\"1\" class=\"dataframe\">\n",
       "  <thead>\n",
       "    <tr style=\"text-align: right;\">\n",
       "      <th></th>\n",
       "      <th>Clean_Title</th>\n",
       "      <th>Clean_Description</th>\n",
       "      <th>Clean_Source</th>\n",
       "      <th>Clean_Content</th>\n",
       "      <th>Clean_Date</th>\n",
       "    </tr>\n",
       "  </thead>\n",
       "  <tbody>\n",
       "    <tr>\n",
       "      <th>0</th>\n",
       "      <td>corre raises €4m from sale of dutch battery en...</td>\n",
       "      <td>shares in renewable energy storage developer h...</td>\n",
       "      <td>the irish times</td>\n",
       "      <td>corre energy, a developer of storage systems f...</td>\n",
       "      <td>2024-12-19</td>\n",
       "    </tr>\n",
       "    <tr>\n",
       "      <th>1</th>\n",
       "      <td>giant underground 'batteries' are shaping the ...</td>\n",
       "      <td>we're wasting too much of the clean energy we ...</td>\n",
       "      <td>gizmodo</td>\n",
       "      <td>solar panels and wind turbines give the world ...</td>\n",
       "      <td>2024-12-07</td>\n",
       "    </tr>\n",
       "  </tbody>\n",
       "</table>\n",
       "</div>"
      ],
      "text/plain": [
       "                                         Clean_Title  \\\n",
       "0  corre raises €4m from sale of dutch battery en...   \n",
       "1  giant underground 'batteries' are shaping the ...   \n",
       "\n",
       "                                   Clean_Description     Clean_Source  \\\n",
       "0  shares in renewable energy storage developer h...  the irish times   \n",
       "1  we're wasting too much of the clean energy we ...          gizmodo   \n",
       "\n",
       "                                       Clean_Content  Clean_Date  \n",
       "0  corre energy, a developer of storage systems f...  2024-12-19  \n",
       "1  solar panels and wind turbines give the world ...  2024-12-07  "
      ]
     },
     "execution_count": 48,
     "metadata": {},
     "output_type": "execute_result"
    }
   ],
   "source": [
    "df_sample = df_clean.copy()\n",
    "df_sample.head(2)"
   ]
  },
  {
   "cell_type": "code",
   "execution_count": 49,
   "id": "272832b9",
   "metadata": {},
   "outputs": [
    {
     "name": "stdout",
     "output_type": "stream",
     "text": [
      "Processing with model: distilbert\n",
      "Processing with model: distilbert is done ✅\n"
     ]
    }
   ],
   "source": [
    "for key, value in models.items():\n",
    "    print(f\"Processing with model: {key}\")\n",
    "    preds = df_sample['Clean_Content'].apply(lambda x: analyze_sentiment_chunked(x, value))\n",
    "    preds.columns = [f\"{key}_{col}\" for col in preds.columns]\n",
    "    df_sample = pd.concat([df_sample, preds], axis=1)\n",
    "    print(f\"Processing with model: {key} is done ✅\")\n",
    "#df_sample.iloc[0]['Clean Article Text']"
   ]
  },
  {
   "cell_type": "code",
   "execution_count": 50,
   "id": "ab8ca44b",
   "metadata": {},
   "outputs": [
    {
     "data": {
      "text/html": [
       "<div>\n",
       "<style scoped>\n",
       "    .dataframe tbody tr th:only-of-type {\n",
       "        vertical-align: middle;\n",
       "    }\n",
       "\n",
       "    .dataframe tbody tr th {\n",
       "        vertical-align: top;\n",
       "    }\n",
       "\n",
       "    .dataframe thead th {\n",
       "        text-align: right;\n",
       "    }\n",
       "</style>\n",
       "<table border=\"1\" class=\"dataframe\">\n",
       "  <thead>\n",
       "    <tr style=\"text-align: right;\">\n",
       "      <th></th>\n",
       "      <th>Clean_Title</th>\n",
       "      <th>Clean_Description</th>\n",
       "      <th>Clean_Source</th>\n",
       "      <th>Clean_Content</th>\n",
       "      <th>Clean_Date</th>\n",
       "      <th>distilbert_0</th>\n",
       "    </tr>\n",
       "  </thead>\n",
       "  <tbody>\n",
       "    <tr>\n",
       "      <th>0</th>\n",
       "      <td>corre raises €4m from sale of dutch battery en...</td>\n",
       "      <td>shares in renewable energy storage developer h...</td>\n",
       "      <td>the irish times</td>\n",
       "      <td>corre energy, a developer of storage systems f...</td>\n",
       "      <td>2024-12-19</td>\n",
       "      <td>[{'label': 'NEGATIVE', 'score': 0.768901526927...</td>\n",
       "    </tr>\n",
       "    <tr>\n",
       "      <th>1</th>\n",
       "      <td>giant underground 'batteries' are shaping the ...</td>\n",
       "      <td>we're wasting too much of the clean energy we ...</td>\n",
       "      <td>gizmodo</td>\n",
       "      <td>solar panels and wind turbines give the world ...</td>\n",
       "      <td>2024-12-07</td>\n",
       "      <td>[{'label': 'NEGATIVE', 'score': 0.990027010440...</td>\n",
       "    </tr>\n",
       "    <tr>\n",
       "      <th>2</th>\n",
       "      <td>dudley council refusal of halesowen renewable ...</td>\n",
       "      <td>halesowen renewable energy storage facility ap...</td>\n",
       "      <td>birmingham live</td>\n",
       "      <td>our community members are treated to special o...</td>\n",
       "      <td>2024-11-24</td>\n",
       "      <td>[{'label': 'NEGATIVE', 'score': 0.688948631286...</td>\n",
       "    </tr>\n",
       "    <tr>\n",
       "      <th>3</th>\n",
       "      <td>india's power ministry empowers renewable stor...</td>\n",
       "      <td>the union power ministry urges states to waive...</td>\n",
       "      <td>devdiscourse</td>\n",
       "      <td>the union power ministry of india has directed...</td>\n",
       "      <td>2024-11-20</td>\n",
       "      <td>[{'label': 'NEGATIVE', 'score': 0.015595884062...</td>\n",
       "    </tr>\n",
       "    <tr>\n",
       "      <th>4</th>\n",
       "      <td>india and australia unveil ambitious renewable...</td>\n",
       "      <td>india and australia have launched the renewabl...</td>\n",
       "      <td>devdiscourse</td>\n",
       "      <td>india and australia have inaugurated a renewab...</td>\n",
       "      <td>2024-11-19</td>\n",
       "      <td>[{'label': 'NEGATIVE', 'score': 0.000571808195...</td>\n",
       "    </tr>\n",
       "    <tr>\n",
       "      <th>...</th>\n",
       "      <td>...</td>\n",
       "      <td>...</td>\n",
       "      <td>...</td>\n",
       "      <td>...</td>\n",
       "      <td>...</td>\n",
       "      <td>...</td>\n",
       "    </tr>\n",
       "    <tr>\n",
       "      <th>67</th>\n",
       "      <td>g-20 meetings: improving energy storage key to...</td>\n",
       "      <td>while delivering the keynote address at the fi...</td>\n",
       "      <td>the indian express</td>\n",
       "      <td>improving energy storage and ensuring energy s...</td>\n",
       "      <td>2023-02-05</td>\n",
       "      <td>[{'label': 'NEGATIVE', 'score': 0.004108163062...</td>\n",
       "    </tr>\n",
       "    <tr>\n",
       "      <th>68</th>\n",
       "      <td>budget 2023 expectations: making a case for na...</td>\n",
       "      <td>the union 2022-23 budget showed hints of promi...</td>\n",
       "      <td>firstpost</td>\n",
       "      <td>as the government heads into the last full bud...</td>\n",
       "      <td>2023-02-01</td>\n",
       "      <td>[{'label': 'NEGATIVE', 'score': 0.991499483585...</td>\n",
       "    </tr>\n",
       "    <tr>\n",
       "      <th>69</th>\n",
       "      <td>this innovative new technology turns abandoned...</td>\n",
       "      <td>a proposed plan could utilize an unusual metho...</td>\n",
       "      <td>slashgear</td>\n",
       "      <td>this innovative new technology turns abandoned...</td>\n",
       "      <td>2023-01-22</td>\n",
       "      <td>[{'label': 'NEGATIVE', 'score': 0.002188169164...</td>\n",
       "    </tr>\n",
       "    <tr>\n",
       "      <th>70</th>\n",
       "      <td>jsw energy secures 500mw battery energy storag...</td>\n",
       "      <td>jsw energy has set an ambitious target of a 50...</td>\n",
       "      <td>livemint</td>\n",
       "      <td>new delhi: jsw energy on thursday said its ste...</td>\n",
       "      <td>2023-01-18</td>\n",
       "      <td>[{'label': 'NEGATIVE', 'score': 0.925697445869...</td>\n",
       "    </tr>\n",
       "    <tr>\n",
       "      <th>71</th>\n",
       "      <td>nine chinese firms investing $13.76b in ph ene...</td>\n",
       "      <td>the department of energy said monday nine chin...</td>\n",
       "      <td>manilastandard.net</td>\n",
       "      <td>the department of energy said monday nine chin...</td>\n",
       "      <td>2023-01-09</td>\n",
       "      <td>[{'label': 'NEGATIVE', 'score': 0.000214129540...</td>\n",
       "    </tr>\n",
       "  </tbody>\n",
       "</table>\n",
       "<p>72 rows × 6 columns</p>\n",
       "</div>"
      ],
      "text/plain": [
       "                                          Clean_Title  \\\n",
       "0   corre raises €4m from sale of dutch battery en...   \n",
       "1   giant underground 'batteries' are shaping the ...   \n",
       "2   dudley council refusal of halesowen renewable ...   \n",
       "3   india's power ministry empowers renewable stor...   \n",
       "4   india and australia unveil ambitious renewable...   \n",
       "..                                                ...   \n",
       "67  g-20 meetings: improving energy storage key to...   \n",
       "68  budget 2023 expectations: making a case for na...   \n",
       "69  this innovative new technology turns abandoned...   \n",
       "70  jsw energy secures 500mw battery energy storag...   \n",
       "71  nine chinese firms investing $13.76b in ph ene...   \n",
       "\n",
       "                                    Clean_Description        Clean_Source  \\\n",
       "0   shares in renewable energy storage developer h...     the irish times   \n",
       "1   we're wasting too much of the clean energy we ...             gizmodo   \n",
       "2   halesowen renewable energy storage facility ap...     birmingham live   \n",
       "3   the union power ministry urges states to waive...        devdiscourse   \n",
       "4   india and australia have launched the renewabl...        devdiscourse   \n",
       "..                                                ...                 ...   \n",
       "67  while delivering the keynote address at the fi...  the indian express   \n",
       "68  the union 2022-23 budget showed hints of promi...           firstpost   \n",
       "69  a proposed plan could utilize an unusual metho...           slashgear   \n",
       "70  jsw energy has set an ambitious target of a 50...            livemint   \n",
       "71  the department of energy said monday nine chin...  manilastandard.net   \n",
       "\n",
       "                                        Clean_Content  Clean_Date  \\\n",
       "0   corre energy, a developer of storage systems f...  2024-12-19   \n",
       "1   solar panels and wind turbines give the world ...  2024-12-07   \n",
       "2   our community members are treated to special o...  2024-11-24   \n",
       "3   the union power ministry of india has directed...  2024-11-20   \n",
       "4   india and australia have inaugurated a renewab...  2024-11-19   \n",
       "..                                                ...         ...   \n",
       "67  improving energy storage and ensuring energy s...  2023-02-05   \n",
       "68  as the government heads into the last full bud...  2023-02-01   \n",
       "69  this innovative new technology turns abandoned...  2023-01-22   \n",
       "70  new delhi: jsw energy on thursday said its ste...  2023-01-18   \n",
       "71  the department of energy said monday nine chin...  2023-01-09   \n",
       "\n",
       "                                         distilbert_0  \n",
       "0   [{'label': 'NEGATIVE', 'score': 0.768901526927...  \n",
       "1   [{'label': 'NEGATIVE', 'score': 0.990027010440...  \n",
       "2   [{'label': 'NEGATIVE', 'score': 0.688948631286...  \n",
       "3   [{'label': 'NEGATIVE', 'score': 0.015595884062...  \n",
       "4   [{'label': 'NEGATIVE', 'score': 0.000571808195...  \n",
       "..                                                ...  \n",
       "67  [{'label': 'NEGATIVE', 'score': 0.004108163062...  \n",
       "68  [{'label': 'NEGATIVE', 'score': 0.991499483585...  \n",
       "69  [{'label': 'NEGATIVE', 'score': 0.002188169164...  \n",
       "70  [{'label': 'NEGATIVE', 'score': 0.925697445869...  \n",
       "71  [{'label': 'NEGATIVE', 'score': 0.000214129540...  \n",
       "\n",
       "[72 rows x 6 columns]"
      ]
     },
     "execution_count": 50,
     "metadata": {},
     "output_type": "execute_result"
    }
   ],
   "source": [
    "df_sample"
   ]
  },
  {
   "cell_type": "code",
   "execution_count": 51,
   "id": "cd231af2",
   "metadata": {},
   "outputs": [
    {
     "data": {
      "text/plain": [
       "[{'label': 'NEGATIVE', 'score': 0.768901526927948},\n",
       " {'label': 'POSITIVE', 'score': 0.2310985028743744}]"
      ]
     },
     "execution_count": 51,
     "metadata": {},
     "output_type": "execute_result"
    }
   ],
   "source": [
    "df_sample.distilbert_0[0]"
   ]
  },
  {
   "cell_type": "code",
   "execution_count": 52,
   "id": "9a92bf2d",
   "metadata": {},
   "outputs": [],
   "source": [
    "df_sample['distilbert_pos_score'] = df_sample.distilbert_0.map(lambda x : x[1]['score'])"
   ]
  },
  {
   "cell_type": "code",
   "execution_count": 53,
   "id": "3330f4d9",
   "metadata": {},
   "outputs": [],
   "source": [
    "df_sample['distilbert_neg_score'] = df_sample.distilbert_0.map(lambda x : x[0]['score'])"
   ]
  },
  {
   "cell_type": "code",
   "execution_count": 56,
   "id": "32ce4c16",
   "metadata": {},
   "outputs": [],
   "source": [
    "df_sample = df_sample.drop(columns=['distilbert_0'])"
   ]
  },
  {
   "cell_type": "code",
   "execution_count": 57,
   "id": "100ae955",
   "metadata": {},
   "outputs": [
    {
     "data": {
      "text/html": [
       "<div>\n",
       "<style scoped>\n",
       "    .dataframe tbody tr th:only-of-type {\n",
       "        vertical-align: middle;\n",
       "    }\n",
       "\n",
       "    .dataframe tbody tr th {\n",
       "        vertical-align: top;\n",
       "    }\n",
       "\n",
       "    .dataframe thead th {\n",
       "        text-align: right;\n",
       "    }\n",
       "</style>\n",
       "<table border=\"1\" class=\"dataframe\">\n",
       "  <thead>\n",
       "    <tr style=\"text-align: right;\">\n",
       "      <th></th>\n",
       "      <th>Clean_Title</th>\n",
       "      <th>Clean_Description</th>\n",
       "      <th>Clean_Source</th>\n",
       "      <th>Clean_Content</th>\n",
       "      <th>Clean_Date</th>\n",
       "      <th>distilbert_pos_score</th>\n",
       "      <th>distilbert_neg_score</th>\n",
       "    </tr>\n",
       "  </thead>\n",
       "  <tbody>\n",
       "    <tr>\n",
       "      <th>0</th>\n",
       "      <td>corre raises €4m from sale of dutch battery en...</td>\n",
       "      <td>shares in renewable energy storage developer h...</td>\n",
       "      <td>the irish times</td>\n",
       "      <td>corre energy, a developer of storage systems f...</td>\n",
       "      <td>2024-12-19</td>\n",
       "      <td>0.231099</td>\n",
       "      <td>0.768902</td>\n",
       "    </tr>\n",
       "    <tr>\n",
       "      <th>1</th>\n",
       "      <td>giant underground 'batteries' are shaping the ...</td>\n",
       "      <td>we're wasting too much of the clean energy we ...</td>\n",
       "      <td>gizmodo</td>\n",
       "      <td>solar panels and wind turbines give the world ...</td>\n",
       "      <td>2024-12-07</td>\n",
       "      <td>0.009973</td>\n",
       "      <td>0.990027</td>\n",
       "    </tr>\n",
       "    <tr>\n",
       "      <th>2</th>\n",
       "      <td>dudley council refusal of halesowen renewable ...</td>\n",
       "      <td>halesowen renewable energy storage facility ap...</td>\n",
       "      <td>birmingham live</td>\n",
       "      <td>our community members are treated to special o...</td>\n",
       "      <td>2024-11-24</td>\n",
       "      <td>0.311051</td>\n",
       "      <td>0.688949</td>\n",
       "    </tr>\n",
       "  </tbody>\n",
       "</table>\n",
       "</div>"
      ],
      "text/plain": [
       "                                         Clean_Title  \\\n",
       "0  corre raises €4m from sale of dutch battery en...   \n",
       "1  giant underground 'batteries' are shaping the ...   \n",
       "2  dudley council refusal of halesowen renewable ...   \n",
       "\n",
       "                                   Clean_Description     Clean_Source  \\\n",
       "0  shares in renewable energy storage developer h...  the irish times   \n",
       "1  we're wasting too much of the clean energy we ...          gizmodo   \n",
       "2  halesowen renewable energy storage facility ap...  birmingham live   \n",
       "\n",
       "                                       Clean_Content  Clean_Date  \\\n",
       "0  corre energy, a developer of storage systems f...  2024-12-19   \n",
       "1  solar panels and wind turbines give the world ...  2024-12-07   \n",
       "2  our community members are treated to special o...  2024-11-24   \n",
       "\n",
       "   distilbert_pos_score  distilbert_neg_score  \n",
       "0              0.231099              0.768902  \n",
       "1              0.009973              0.990027  \n",
       "2              0.311051              0.688949  "
      ]
     },
     "execution_count": 57,
     "metadata": {},
     "output_type": "execute_result"
    }
   ],
   "source": [
    "df_sample.head(3)"
   ]
  },
  {
   "cell_type": "code",
   "execution_count": 58,
   "id": "9f68d5a5",
   "metadata": {},
   "outputs": [
    {
     "name": "stdout",
     "output_type": "stream",
     "text": [
      "Data with sentiment analysis saved to /Users/enrique/Documents/03_LeWagon/Final_Project/Articles_Combined/combined_articles_with_sentiment.csv\n"
     ]
    }
   ],
   "source": [
    "export_path = '/Users/enrique/Documents/03_LeWagon/Final_Project/Articles_Combined/combined_articles_with_sentiment.csv'\n",
    "df_sample.to_csv(export_path, index=False)\n",
    "print(f\"Data with sentiment analysis saved to {export_path}\")"
   ]
  },
  {
   "cell_type": "code",
   "execution_count": 43,
   "id": "b57f998c",
   "metadata": {},
   "outputs": [
    {
     "data": {
      "text/plain": [
       "'for key, value in models.items():\\n    print(f\"Processing with model: {key}\")\\n    df_sample[[f\\'Sentiment_{key}\\', f\\'Sentiment_Conf_{key}\\']] = df_sample[\\'Clean_Content\\'].apply(lambda x: analyze_sentiment_chunked(x, value))\\n    print(f\"Processing with model: {key} is done ✅\")\\n#df_sample.iloc[0][\\'Clean Article Text\\']\\n'"
      ]
     },
     "execution_count": 43,
     "metadata": {},
     "output_type": "execute_result"
    }
   ],
   "source": [
    "\"\"\"for key, value in models.items():\n",
    "    print(f\"Processing with model: {key}\")\n",
    "    df_sample[[f'Sentiment_{key}', f'Sentiment_Conf_{key}']] = df_sample['Clean_Content'].apply(lambda x: analyze_sentiment_chunked(x, value))\n",
    "    print(f\"Processing with model: {key} is done ✅\")\n",
    "#df_sample.iloc[0]['Clean Article Text']\n",
    "\"\"\""
   ]
  },
  {
   "cell_type": "code",
   "execution_count": 44,
   "id": "a40a8cfb",
   "metadata": {},
   "outputs": [
    {
     "data": {
      "text/plain": [
       "\"\\nprint(df_sample['Sentiment_roberta'].value_counts(),'\\n')\\nprint(df_sample['Sentiment_distilbert'].value_counts(),'\\n')\\nprint(df_sample['Sentiment_vader'].value_counts(),'\\n')\\nprint(df_sample['Sentiment_distilbert_complete_V3'].value_counts(),'\\n')\\nprint(df_sample['Sentiment_distilbert_complete'].value_counts(),'\\n')\\n\""
      ]
     },
     "execution_count": 44,
     "metadata": {},
     "output_type": "execute_result"
    }
   ],
   "source": [
    "\"\"\"\n",
    "print(df_sample['Sentiment_roberta'].value_counts(),'\\n')\n",
    "print(df_sample['Sentiment_distilbert'].value_counts(),'\\n')\n",
    "print(df_sample['Sentiment_vader'].value_counts(),'\\n')\n",
    "print(df_sample['Sentiment_distilbert_complete_V3'].value_counts(),'\\n')\n",
    "print(df_sample['Sentiment_distilbert_complete'].value_counts(),'\\n')\n",
    "\"\"\""
   ]
  },
  {
   "cell_type": "code",
   "execution_count": null,
   "id": "413c4aed",
   "metadata": {},
   "outputs": [
    {
     "data": {
      "text/plain": [
       "\"\\nprint(df_sample[df_sample['Sentiment_roberta'] == 'neutral'].sample()['Clean_Content'].values, '\\n')\\n#print(df_sample[df_sample['Sentiment_distilbert'] == 'NEUTRAL'].sample()['Clean_Content'].values, '\\n')\\nprint(df_sample[df_sample['Sentiment_vader'] == 'NEUTRAL'].sample()['Clean_Content'].values,'\\n')\\nprint(df_sample[df_sample['Sentiment_distilbert_complete_V3'] == 'NEUTRAL'].sample()['Clean_Content'].values, '\\n')\\nprint(df_sample[df_sample['Sentiment_distilbert_complete'] == 'neutral'].sample()['Clean_Content'].values, '\\n')\\nprint(df_sample[df_sample['Sentiment_distilbert_weighted'] == 'NEUTRAL'].sample()['Clean_Content'].values, '\\n')\\n\""
      ]
     },
     "execution_count": 45,
     "metadata": {},
     "output_type": "execute_result"
    }
   ],
   "source": [
    "\"\"\"\n",
    "print(df_sample[df_sample['Sentiment_roberta'] == 'neutral'].sample()['Clean_Content'].values, '\\n')\n",
    "#print(df_sample[df_sample['Sentiment_distilbert'] == 'NEUTRAL'].sample()['Clean_Content'].values, '\\n')\n",
    "print(df_sample[df_sample['Sentiment_vader'] == 'NEUTRAL'].sample()['Clean_Content'].values,'\\n')\n",
    "print(df_sample[df_sample['Sentiment_distilbert_complete_V3'] == 'NEUTRAL'].sample()['Clean_Content'].values, '\\n')\n",
    "print(df_sample[df_sample['Sentiment_distilbert_complete'] == 'neutral'].sample()['Clean_Content'].values, '\\n')\n",
    "print(df_sample[df_sample['Sentiment_distilbert_weighted'] == 'NEUTRAL'].sample()['Clean_Content'].values, '\\n')\n",
    "\n",
    "\n",
    "sentiment_pipeline = pipeline(\"sentiment-analysis\", model= \"cardiffnlp/twitter-roberta-base-sentiment-latest\", device=0)\n",
    "df_sample = df_clean.copy()\n",
    "\n",
    "#\"cardiffnlp/twitter-roberta-base-sentiment-latest\"\n",
    "\n",
    "\n",
    "analyzer = SentimentIntensityAnalyzer()\n",
    "text = \"hotter summers, drier forests, rising waters: climate change is not just a threat to our future, its hurting our world right now. while there are many ways human activity has brought about climate change, global electricity generation sources are among the leading culprits. despite small upticks in the supply of wind and solar power, we have not yet reached a point where we are able to dislodge the fossil fuels that are entrenched in the power mix of many countries. but why is this still the case? since renewable sources deliver an intermittent supply of power, we also need a way to store this energy to meet the demand of the grid when the sun is not shining, or the wind is not blowing. this is a major challenge, as the switch to renewable power also requires establishing long lasting, safe and affordable energy storage systems. as such, finding a cheap, safe and alternative battery to lithium is the key to moving the needle to a completely renewable power sector. beyond lithium-ion batteries as with electric vehicles, lithium-ion batteries have become a popular option for the grid, as they offer a high energy density, modular solution for energy storage. but the use of lithium-ion batteries has also brought along its own challenges with high cost of materials, risk of fire and explosion and lack of recycling practices limiting the widespread adoption of lithium-ion batteries for the grid. the canadian press/dave chidley one incredibly promising option to replace lithium for grid scale energy storage is the rechargeable zinc-ion battery. emerging only within the last 10 years, zinc-ion batteries offer many advantages over lithium. these include cheaper material costs, increased safety and easier recycling options. read more: batteries are the environmental achilles heel of electric vehicles – unless we repair, reuse and recycle them with grid-scale energy storage potential at a considerably cheaper cost — and higher levels of safety — widespread commercialization of zinc-ion batteries could be exactly what is needed to integrate renewables into energy infrastructure in canada and other countries. the cost of a battery for canada to reach the decarbonization targets set in the canadian net-zero emissions accountability act, including a grid powered by 90 per cent renewable electricity, the deployment of zinc-ion batteries will be crucial. studies have shown that for renewables to become the source of 90 to 95 per cent of all electricity, the cost of energy storage must be below us$150/kwh. modern lithium-ion systems are still sitting around us$350/kwh. in part, this is due to high manufacturing costs and their reliance on expensive raw materials to achieve the high energy density needed for modern electric vehicles. the canadian press/john woods zinc-ion batteries on the other hand, could solve the cost and abundance issues. using inexpensive, abundant materials such as zinc and manganese not only makes them cheaper to produce, but lowers risk from supply chain disruptions or material shortages that affect lithium-ion materials such as lithium and cobalt. the annual production of zinc globally is over 100 times that of lithium. not to mention that demand for lithium and cobalt is anticipated to outweigh the supply within the next decade. zinc is a safer option with rigorous safety standards being created for batteries used in homes, factories or within the electrical grid, safety is key to getting the public to embrace them. in this way, zinc-ion batteries offer further advantage. the flammable and toxic solvent based electrolyte of lithium-ion batteries is replaced with a water-based alternative, removing the risk of fire and explosion. read more: we could need 6 times more of the minerals used for renewables and batteries. how can we avoid a huge increase in mining impacts? conversely, the safe disposal of lithium-ion batteries can also be a difficult task, as they contain toxic compounds. recycling these batteries is currently economically infeasible due to high costs leading to large numbers of spent cells ending up in landfills. fortunately, zinc-ion batteries simplify end of life treatment. the nontoxic, aqueous electrolyte used in zinc-ion batteries means that well established methods like those for lead-acid battery disposal can be used. also, the metallic zinc anode could be easily reused in new batteries. the future of energy storage to reach its goal of 90 per cent renewable energy by 2030, canada must look for alternatives to lithium-ion batteries to enable decarbonization of its power sector. leveraging the cost, abundance and safety benefits of zinc-ion batteries, canada can accelerate the integration of wind and solar power across the nation. zinc-ion batteries support canada’s decarbonization goals and prove an opportunity to capitalize on a rapidly expanding battery market. while zinc-ion batteries are a relatively new technology, their potential to support grid scale energy storage within canada and worldwide cannot be understated. with the help of canadian research and manufacturing, including efforts from mcmaster university and dartmouth, n.s.-based salient energy inc., the integration of zinc-ion batteries could become a reality within the next several years, establishing canada as an industry leader.\"\n",
    "scores = analyzer.polarity_scores(text)\n",
    "scores\n",
    "# Returns: {'neg': 0.0, 'neu': 0.6, 'pos': 0.4, 'compound': 0.7}\n",
    "\"\"\""
   ]
  }
 ],
 "metadata": {
  "kernelspec": {
   "display_name": "SolarSoundBytes",
   "language": "python",
   "name": "python3"
  },
  "language_info": {
   "codemirror_mode": {
    "name": "ipython",
    "version": 3
   },
   "file_extension": ".py",
   "mimetype": "text/x-python",
   "name": "python",
   "nbconvert_exporter": "python",
   "pygments_lexer": "ipython3",
   "version": "3.10.6"
  }
 },
 "nbformat": 4,
 "nbformat_minor": 5
}
