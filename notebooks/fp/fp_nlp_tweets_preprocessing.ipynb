{
 "cells": [
  {
   "cell_type": "markdown",
   "id": "9c771da7",
   "metadata": {},
   "source": [
    "# imports"
   ]
  },
  {
   "cell_type": "code",
   "execution_count": null,
   "id": "9c2d4742",
   "metadata": {},
   "outputs": [],
   "source": [
    "import pandas as pd\n",
    "import numpy as np\n",
    "import string\n",
    "import re\n",
    "from nltk.tokenize import word_tokenize\n",
    "from nltk.corpus import stopwords\n",
    "from nltk.stem import WordNetLemmatizer\n",
    "from datetime import datetime\n",
    "\n",
    "# use progress_apply to show progress of long processing\n",
    "from tqdm.notebook import tqdm\n",
    "tqdm.pandas()  # enable progress_apply"
   ]
  },
  {
   "cell_type": "markdown",
   "id": "4c87e616",
   "metadata": {},
   "source": [
    "# clean data"
   ]
  },
  {
   "cell_type": "code",
   "execution_count": 2,
   "id": "c5c92095",
   "metadata": {},
   "outputs": [
    {
     "name": "stdout",
     "output_type": "stream",
     "text": [
      "(27610, 31)\n"
     ]
    },
    {
     "data": {
      "text/html": [
       "<div>\n",
       "<style scoped>\n",
       "    .dataframe tbody tr th:only-of-type {\n",
       "        vertical-align: middle;\n",
       "    }\n",
       "\n",
       "    .dataframe tbody tr th {\n",
       "        vertical-align: top;\n",
       "    }\n",
       "\n",
       "    .dataframe thead th {\n",
       "        text-align: right;\n",
       "    }\n",
       "</style>\n",
       "<table border=\"1\" class=\"dataframe\">\n",
       "  <thead>\n",
       "    <tr style=\"text-align: right;\">\n",
       "      <th></th>\n",
       "      <th>createdAt</th>\n",
       "      <th>id</th>\n",
       "      <th>url</th>\n",
       "      <th>text</th>\n",
       "      <th>source</th>\n",
       "      <th>date</th>\n",
       "      <th>time of day</th>\n",
       "      <th>location</th>\n",
       "      <th>retweetCount</th>\n",
       "      <th>replyCount</th>\n",
       "      <th>...</th>\n",
       "      <th>user_mentions_indices_0</th>\n",
       "      <th>user_mentions_indices_1</th>\n",
       "      <th>user_mentions_name</th>\n",
       "      <th>user_mentions_screen_name</th>\n",
       "      <th>reply_to_user_results</th>\n",
       "      <th>quoted_tweet_results</th>\n",
       "      <th>quoted_tweet</th>\n",
       "      <th>retweeted_tweet</th>\n",
       "      <th>isConversationControlled</th>\n",
       "      <th>searchTermIndex</th>\n",
       "    </tr>\n",
       "  </thead>\n",
       "  <tbody>\n",
       "    <tr>\n",
       "      <th>0</th>\n",
       "      <td>2022-01-02 00:00:46+00:00</td>\n",
       "      <td>1477429624208564226</td>\n",
       "      <td>https://x.com/KlausRieneck/status/147742962420...</td>\n",
       "      <td>The decision to phase out nuclear power and sh...</td>\n",
       "      <td>NaN</td>\n",
       "      <td>2022-01-02</td>\n",
       "      <td>0.0</td>\n",
       "      <td>NaN</td>\n",
       "      <td>0.0</td>\n",
       "      <td>0.0</td>\n",
       "      <td>...</td>\n",
       "      <td>NaN</td>\n",
       "      <td>NaN</td>\n",
       "      <td>NaN</td>\n",
       "      <td>NaN</td>\n",
       "      <td>{'rest_id': '891466309619380224', 'result': {'...</td>\n",
       "      <td>NaN</td>\n",
       "      <td>NaN</td>\n",
       "      <td>NaN</td>\n",
       "      <td>False</td>\n",
       "      <td>0.0</td>\n",
       "    </tr>\n",
       "    <tr>\n",
       "      <th>1</th>\n",
       "      <td>2022-01-02 00:00:50+00:00</td>\n",
       "      <td>1477429640675446785</td>\n",
       "      <td>https://x.com/EINRenewables/status/14774296406...</td>\n",
       "      <td>EU Moves to Label Nuclear, Natural Gas Energy ...</td>\n",
       "      <td>NaN</td>\n",
       "      <td>2022-01-02</td>\n",
       "      <td>0.0</td>\n",
       "      <td>NaN</td>\n",
       "      <td>0.0</td>\n",
       "      <td>0.0</td>\n",
       "      <td>...</td>\n",
       "      <td>NaN</td>\n",
       "      <td>NaN</td>\n",
       "      <td>NaN</td>\n",
       "      <td>NaN</td>\n",
       "      <td>NaN</td>\n",
       "      <td>NaN</td>\n",
       "      <td>NaN</td>\n",
       "      <td>NaN</td>\n",
       "      <td>False</td>\n",
       "      <td>0.0</td>\n",
       "    </tr>\n",
       "  </tbody>\n",
       "</table>\n",
       "<p>2 rows × 31 columns</p>\n",
       "</div>"
      ],
      "text/plain": [
       "                   createdAt                   id  \\\n",
       "0  2022-01-02 00:00:46+00:00  1477429624208564226   \n",
       "1  2022-01-02 00:00:50+00:00  1477429640675446785   \n",
       "\n",
       "                                                 url  \\\n",
       "0  https://x.com/KlausRieneck/status/147742962420...   \n",
       "1  https://x.com/EINRenewables/status/14774296406...   \n",
       "\n",
       "                                                text  source        date  \\\n",
       "0  The decision to phase out nuclear power and sh...     NaN  2022-01-02   \n",
       "1  EU Moves to Label Nuclear, Natural Gas Energy ...     NaN  2022-01-02   \n",
       "\n",
       "   time of day  location  retweetCount  replyCount  ...  \\\n",
       "0          0.0       NaN           0.0         0.0  ...   \n",
       "1          0.0       NaN           0.0         0.0  ...   \n",
       "\n",
       "   user_mentions_indices_0  user_mentions_indices_1  user_mentions_name  \\\n",
       "0                      NaN                      NaN                 NaN   \n",
       "1                      NaN                      NaN                 NaN   \n",
       "\n",
       "   user_mentions_screen_name  \\\n",
       "0                        NaN   \n",
       "1                        NaN   \n",
       "\n",
       "                               reply_to_user_results  quoted_tweet_results  \\\n",
       "0  {'rest_id': '891466309619380224', 'result': {'...                   NaN   \n",
       "1                                                NaN                   NaN   \n",
       "\n",
       "   quoted_tweet  retweeted_tweet isConversationControlled searchTermIndex  \n",
       "0           NaN              NaN                    False             0.0  \n",
       "1           NaN              NaN                    False             0.0  \n",
       "\n",
       "[2 rows x 31 columns]"
      ]
     },
     "execution_count": 2,
     "metadata": {},
     "output_type": "execute_result"
    }
   ],
   "source": [
    "# df = pd.read_csv(\"../../data/csv/twitter_scraped_df.csv\", nrows=100)\n",
    "df = pd.read_csv(\"../../data/csv/twitter_scraped_df.csv\")\n",
    "print(df.shape)\n",
    "df.head(2)"
   ]
  },
  {
   "cell_type": "markdown",
   "id": "04301a28",
   "metadata": {},
   "source": [
    "## ensure **createdAt** in **dtype** format"
   ]
  },
  {
   "cell_type": "code",
   "execution_count": 3,
   "id": "2c73a1bf",
   "metadata": {},
   "outputs": [
    {
     "name": "stdout",
     "output_type": "stream",
     "text": [
      "datetime64[ns, UTC]\n",
      "0   2022-01-02 00:00:46+00:00\n",
      "1   2022-01-02 00:00:50+00:00\n",
      "Name: createdAt, dtype: datetime64[ns, UTC]\n"
     ]
    }
   ],
   "source": [
    "df['createdAt'] = pd.to_datetime(df['createdAt'])\n",
    "print(df['createdAt'].dtype)\n",
    "print(df['createdAt'][0:2])"
   ]
  },
  {
   "cell_type": "markdown",
   "id": "fbc3253e",
   "metadata": {},
   "source": [
    "## extract author from url and insert as new column after 'id'"
   ]
  },
  {
   "cell_type": "code",
   "execution_count": 4,
   "id": "ba9e2a4a",
   "metadata": {},
   "outputs": [
    {
     "name": "stdout",
     "output_type": "stream",
     "text": [
      "0           KlausRieneck\n",
      "1          EINRenewables\n",
      "2        stanleychen0402\n",
      "3        RenewableSearch\n",
      "4                 klbout\n",
      "              ...       \n",
      "27605                NaN\n",
      "27606                NaN\n",
      "27607                NaN\n",
      "27608                NaN\n",
      "27609                NaN\n",
      "Name: author, Length: 27610, dtype: object\n",
      "0           KlausRieneck\n",
      "1          EINRenewables\n",
      "2        stanleychen0402\n",
      "3        RenewableSearch\n",
      "4                 klbout\n",
      "              ...       \n",
      "27594     crypto_popseye\n",
      "27595            ABENHUB\n",
      "27596          jsgaetano\n",
      "27597          jsgaetano\n",
      "27598          jsgaetano\n",
      "Name: author, Length: 27599, dtype: object\n"
     ]
    }
   ],
   "source": [
    "'''\n",
    "# extract author from url using regex\n",
    "https://x.com/EINRenewables/status/14774296406\n",
    "https://x.com/KlausRieneck/status/147742962420\n",
    "'''\n",
    "\n",
    "df['author'] = df['url'].str.extract(r'x\\.com/([^/]+)/status')\n",
    "print(df['author'])\n",
    "\n",
    "df = df.dropna(subset=['author'])\n",
    "print(df['author'])"
   ]
  },
  {
   "cell_type": "code",
   "execution_count": null,
   "id": "62c72610",
   "metadata": {},
   "outputs": [
    {
     "data": {
      "text/html": [
       "<div>\n",
       "<style scoped>\n",
       "    .dataframe tbody tr th:only-of-type {\n",
       "        vertical-align: middle;\n",
       "    }\n",
       "\n",
       "    .dataframe tbody tr th {\n",
       "        vertical-align: top;\n",
       "    }\n",
       "\n",
       "    .dataframe thead th {\n",
       "        text-align: right;\n",
       "    }\n",
       "</style>\n",
       "<table border=\"1\" class=\"dataframe\">\n",
       "  <thead>\n",
       "    <tr style=\"text-align: right;\">\n",
       "      <th></th>\n",
       "      <th>createdAt</th>\n",
       "      <th>id</th>\n",
       "      <th>author</th>\n",
       "      <th>url</th>\n",
       "      <th>text</th>\n",
       "      <th>source</th>\n",
       "      <th>date</th>\n",
       "      <th>time of day</th>\n",
       "      <th>location</th>\n",
       "      <th>retweetCount</th>\n",
       "      <th>...</th>\n",
       "      <th>user_mentions_indices_0</th>\n",
       "      <th>user_mentions_indices_1</th>\n",
       "      <th>user_mentions_name</th>\n",
       "      <th>user_mentions_screen_name</th>\n",
       "      <th>reply_to_user_results</th>\n",
       "      <th>quoted_tweet_results</th>\n",
       "      <th>quoted_tweet</th>\n",
       "      <th>retweeted_tweet</th>\n",
       "      <th>isConversationControlled</th>\n",
       "      <th>searchTermIndex</th>\n",
       "    </tr>\n",
       "  </thead>\n",
       "  <tbody>\n",
       "    <tr>\n",
       "      <th>0</th>\n",
       "      <td>2022-01-02 00:00:46+00:00</td>\n",
       "      <td>1477429624208564226</td>\n",
       "      <td>KlausRieneck</td>\n",
       "      <td>https://x.com/KlausRieneck/status/147742962420...</td>\n",
       "      <td>The decision to phase out nuclear power and sh...</td>\n",
       "      <td>NaN</td>\n",
       "      <td>2022-01-02</td>\n",
       "      <td>0.0</td>\n",
       "      <td>NaN</td>\n",
       "      <td>0.0</td>\n",
       "      <td>...</td>\n",
       "      <td>NaN</td>\n",
       "      <td>NaN</td>\n",
       "      <td>NaN</td>\n",
       "      <td>NaN</td>\n",
       "      <td>{'rest_id': '891466309619380224', 'result': {'...</td>\n",
       "      <td>NaN</td>\n",
       "      <td>NaN</td>\n",
       "      <td>NaN</td>\n",
       "      <td>False</td>\n",
       "      <td>0.0</td>\n",
       "    </tr>\n",
       "    <tr>\n",
       "      <th>1</th>\n",
       "      <td>2022-01-02 00:00:50+00:00</td>\n",
       "      <td>1477429640675446785</td>\n",
       "      <td>EINRenewables</td>\n",
       "      <td>https://x.com/EINRenewables/status/14774296406...</td>\n",
       "      <td>EU Moves to Label Nuclear, Natural Gas Energy ...</td>\n",
       "      <td>NaN</td>\n",
       "      <td>2022-01-02</td>\n",
       "      <td>0.0</td>\n",
       "      <td>NaN</td>\n",
       "      <td>0.0</td>\n",
       "      <td>...</td>\n",
       "      <td>NaN</td>\n",
       "      <td>NaN</td>\n",
       "      <td>NaN</td>\n",
       "      <td>NaN</td>\n",
       "      <td>NaN</td>\n",
       "      <td>NaN</td>\n",
       "      <td>NaN</td>\n",
       "      <td>NaN</td>\n",
       "      <td>False</td>\n",
       "      <td>0.0</td>\n",
       "    </tr>\n",
       "  </tbody>\n",
       "</table>\n",
       "<p>2 rows × 32 columns</p>\n",
       "</div>"
      ],
      "text/plain": [
       "                  createdAt                   id         author  \\\n",
       "0 2022-01-02 00:00:46+00:00  1477429624208564226   KlausRieneck   \n",
       "1 2022-01-02 00:00:50+00:00  1477429640675446785  EINRenewables   \n",
       "\n",
       "                                                 url  \\\n",
       "0  https://x.com/KlausRieneck/status/147742962420...   \n",
       "1  https://x.com/EINRenewables/status/14774296406...   \n",
       "\n",
       "                                                text  source        date  \\\n",
       "0  The decision to phase out nuclear power and sh...     NaN  2022-01-02   \n",
       "1  EU Moves to Label Nuclear, Natural Gas Energy ...     NaN  2022-01-02   \n",
       "\n",
       "   time of day  location  retweetCount  ...  user_mentions_indices_0  \\\n",
       "0          0.0       NaN           0.0  ...                      NaN   \n",
       "1          0.0       NaN           0.0  ...                      NaN   \n",
       "\n",
       "   user_mentions_indices_1  user_mentions_name  user_mentions_screen_name  \\\n",
       "0                      NaN                 NaN                        NaN   \n",
       "1                      NaN                 NaN                        NaN   \n",
       "\n",
       "                               reply_to_user_results quoted_tweet_results  \\\n",
       "0  {'rest_id': '891466309619380224', 'result': {'...                  NaN   \n",
       "1                                                NaN                  NaN   \n",
       "\n",
       "   quoted_tweet  retweeted_tweet  isConversationControlled searchTermIndex  \n",
       "0           NaN              NaN                     False             0.0  \n",
       "1           NaN              NaN                     False             0.0  \n",
       "\n",
       "[2 rows x 32 columns]"
      ]
     },
     "execution_count": 5,
     "metadata": {},
     "output_type": "execute_result"
    }
   ],
   "source": [
    "# move 'author' column after 'id'\n",
    "cols = list(df.columns)\n",
    "if 'author' in cols:\n",
    "    author_idx = cols.index('id') + 1\n",
    "    cols.insert(author_idx, cols.pop(cols.index('author')))\n",
    "    df = df[cols]\n",
    "\n",
    "df.head(2)"
   ]
  },
  {
   "cell_type": "markdown",
   "id": "99eec42f",
   "metadata": {},
   "source": [
    "## drop columns if only contain 1 unique value or if all values are NaN"
   ]
  },
  {
   "cell_type": "code",
   "execution_count": 6,
   "id": "dbb0b52e",
   "metadata": {},
   "outputs": [
    {
     "data": {
      "text/html": [
       "<div>\n",
       "<style scoped>\n",
       "    .dataframe tbody tr th:only-of-type {\n",
       "        vertical-align: middle;\n",
       "    }\n",
       "\n",
       "    .dataframe tbody tr th {\n",
       "        vertical-align: top;\n",
       "    }\n",
       "\n",
       "    .dataframe thead th {\n",
       "        text-align: right;\n",
       "    }\n",
       "</style>\n",
       "<table border=\"1\" class=\"dataframe\">\n",
       "  <thead>\n",
       "    <tr style=\"text-align: right;\">\n",
       "      <th></th>\n",
       "      <th>createdAt</th>\n",
       "      <th>id</th>\n",
       "      <th>author</th>\n",
       "      <th>url</th>\n",
       "      <th>text</th>\n",
       "      <th>date</th>\n",
       "      <th>retweetCount</th>\n",
       "      <th>replyCount</th>\n",
       "      <th>likeCount</th>\n",
       "      <th>quoteCount</th>\n",
       "      <th>...</th>\n",
       "      <th>inReplyToUserId</th>\n",
       "      <th>inReplyToUsername</th>\n",
       "      <th>user_mentions_id_str</th>\n",
       "      <th>user_mentions_indices_0</th>\n",
       "      <th>user_mentions_indices_1</th>\n",
       "      <th>user_mentions_name</th>\n",
       "      <th>user_mentions_screen_name</th>\n",
       "      <th>reply_to_user_results</th>\n",
       "      <th>quoted_tweet_results</th>\n",
       "      <th>quoted_tweet</th>\n",
       "    </tr>\n",
       "  </thead>\n",
       "  <tbody>\n",
       "    <tr>\n",
       "      <th>0</th>\n",
       "      <td>2022-01-02 00:00:46+00:00</td>\n",
       "      <td>1477429624208564226</td>\n",
       "      <td>KlausRieneck</td>\n",
       "      <td>https://x.com/KlausRieneck/status/147742962420...</td>\n",
       "      <td>The decision to phase out nuclear power and sh...</td>\n",
       "      <td>2022-01-02</td>\n",
       "      <td>0.0</td>\n",
       "      <td>0.0</td>\n",
       "      <td>0.0</td>\n",
       "      <td>0.0</td>\n",
       "      <td>...</td>\n",
       "      <td>8.914663e+17</td>\n",
       "      <td>KlausRieneck</td>\n",
       "      <td>NaN</td>\n",
       "      <td>NaN</td>\n",
       "      <td>NaN</td>\n",
       "      <td>NaN</td>\n",
       "      <td>NaN</td>\n",
       "      <td>{'rest_id': '891466309619380224', 'result': {'...</td>\n",
       "      <td>NaN</td>\n",
       "      <td>NaN</td>\n",
       "    </tr>\n",
       "    <tr>\n",
       "      <th>1</th>\n",
       "      <td>2022-01-02 00:00:50+00:00</td>\n",
       "      <td>1477429640675446785</td>\n",
       "      <td>EINRenewables</td>\n",
       "      <td>https://x.com/EINRenewables/status/14774296406...</td>\n",
       "      <td>EU Moves to Label Nuclear, Natural Gas Energy ...</td>\n",
       "      <td>2022-01-02</td>\n",
       "      <td>0.0</td>\n",
       "      <td>0.0</td>\n",
       "      <td>0.0</td>\n",
       "      <td>0.0</td>\n",
       "      <td>...</td>\n",
       "      <td>NaN</td>\n",
       "      <td>NaN</td>\n",
       "      <td>NaN</td>\n",
       "      <td>NaN</td>\n",
       "      <td>NaN</td>\n",
       "      <td>NaN</td>\n",
       "      <td>NaN</td>\n",
       "      <td>NaN</td>\n",
       "      <td>NaN</td>\n",
       "      <td>NaN</td>\n",
       "    </tr>\n",
       "  </tbody>\n",
       "</table>\n",
       "<p>2 rows × 25 columns</p>\n",
       "</div>"
      ],
      "text/plain": [
       "                  createdAt                   id         author  \\\n",
       "0 2022-01-02 00:00:46+00:00  1477429624208564226   KlausRieneck   \n",
       "1 2022-01-02 00:00:50+00:00  1477429640675446785  EINRenewables   \n",
       "\n",
       "                                                 url  \\\n",
       "0  https://x.com/KlausRieneck/status/147742962420...   \n",
       "1  https://x.com/EINRenewables/status/14774296406...   \n",
       "\n",
       "                                                text        date  \\\n",
       "0  The decision to phase out nuclear power and sh...  2022-01-02   \n",
       "1  EU Moves to Label Nuclear, Natural Gas Energy ...  2022-01-02   \n",
       "\n",
       "   retweetCount  replyCount  likeCount  quoteCount  ...  inReplyToUserId  \\\n",
       "0           0.0         0.0        0.0         0.0  ...     8.914663e+17   \n",
       "1           0.0         0.0        0.0         0.0  ...              NaN   \n",
       "\n",
       "   inReplyToUsername user_mentions_id_str  user_mentions_indices_0  \\\n",
       "0       KlausRieneck                  NaN                      NaN   \n",
       "1                NaN                  NaN                      NaN   \n",
       "\n",
       "   user_mentions_indices_1  user_mentions_name user_mentions_screen_name  \\\n",
       "0                      NaN                 NaN                       NaN   \n",
       "1                      NaN                 NaN                       NaN   \n",
       "\n",
       "                               reply_to_user_results  quoted_tweet_results  \\\n",
       "0  {'rest_id': '891466309619380224', 'result': {'...                   NaN   \n",
       "1                                                NaN                   NaN   \n",
       "\n",
       "   quoted_tweet  \n",
       "0           NaN  \n",
       "1           NaN  \n",
       "\n",
       "[2 rows x 25 columns]"
      ]
     },
     "execution_count": 6,
     "metadata": {},
     "output_type": "execute_result"
    }
   ],
   "source": [
    "columns = df.columns\n",
    "for col in columns:\n",
    "    if df[col].nunique(dropna=False) == 1 or df[col].isna().all():\n",
    "        df = df.drop(columns=[col])\n",
    "df.head(2)"
   ]
  },
  {
   "cell_type": "markdown",
   "id": "437be551",
   "metadata": {},
   "source": [
    "## get unique tweet authors"
   ]
  },
  {
   "cell_type": "code",
   "execution_count": 7,
   "id": "0a2cd07f",
   "metadata": {},
   "outputs": [
    {
     "name": "stdout",
     "output_type": "stream",
     "text": [
      "['KlausRieneck' 'EINRenewables' 'stanleychen0402' 'RenewableSearch'\n",
      " 'klbout']\n",
      "18825\n",
      "27599\n"
     ]
    }
   ],
   "source": [
    "unique_authors = df['author'].unique()\n",
    "print(unique_authors[0:5])\n",
    "print(len(unique_authors))\n",
    "print(len(df))"
   ]
  },
  {
   "cell_type": "markdown",
   "id": "6f28f555",
   "metadata": {},
   "source": [
    "# preprocess"
   ]
  },
  {
   "cell_type": "markdown",
   "id": "8e2af1ed",
   "metadata": {},
   "source": [
    "## focus on tweet content, ignore twitter metrics columns for now"
   ]
  },
  {
   "cell_type": "code",
   "execution_count": 8,
   "id": "c0940ba9",
   "metadata": {},
   "outputs": [
    {
     "data": {
      "text/html": [
       "<div>\n",
       "<style scoped>\n",
       "    .dataframe tbody tr th:only-of-type {\n",
       "        vertical-align: middle;\n",
       "    }\n",
       "\n",
       "    .dataframe tbody tr th {\n",
       "        vertical-align: top;\n",
       "    }\n",
       "\n",
       "    .dataframe thead th {\n",
       "        text-align: right;\n",
       "    }\n",
       "</style>\n",
       "<table border=\"1\" class=\"dataframe\">\n",
       "  <thead>\n",
       "    <tr style=\"text-align: right;\">\n",
       "      <th></th>\n",
       "      <th>createdAt</th>\n",
       "      <th>id</th>\n",
       "      <th>author</th>\n",
       "      <th>url</th>\n",
       "      <th>text</th>\n",
       "    </tr>\n",
       "  </thead>\n",
       "  <tbody>\n",
       "    <tr>\n",
       "      <th>0</th>\n",
       "      <td>2022-01-02 00:00:46+00:00</td>\n",
       "      <td>1477429624208564226</td>\n",
       "      <td>KlausRieneck</td>\n",
       "      <td>https://x.com/KlausRieneck/status/147742962420...</td>\n",
       "      <td>The decision to phase out nuclear power and sh...</td>\n",
       "    </tr>\n",
       "    <tr>\n",
       "      <th>1</th>\n",
       "      <td>2022-01-02 00:00:50+00:00</td>\n",
       "      <td>1477429640675446785</td>\n",
       "      <td>EINRenewables</td>\n",
       "      <td>https://x.com/EINRenewables/status/14774296406...</td>\n",
       "      <td>EU Moves to Label Nuclear, Natural Gas Energy ...</td>\n",
       "    </tr>\n",
       "  </tbody>\n",
       "</table>\n",
       "</div>"
      ],
      "text/plain": [
       "                  createdAt                   id         author  \\\n",
       "0 2022-01-02 00:00:46+00:00  1477429624208564226   KlausRieneck   \n",
       "1 2022-01-02 00:00:50+00:00  1477429640675446785  EINRenewables   \n",
       "\n",
       "                                                 url  \\\n",
       "0  https://x.com/KlausRieneck/status/147742962420...   \n",
       "1  https://x.com/EINRenewables/status/14774296406...   \n",
       "\n",
       "                                                text  \n",
       "0  The decision to phase out nuclear power and sh...  \n",
       "1  EU Moves to Label Nuclear, Natural Gas Energy ...  "
      ]
     },
     "execution_count": 8,
     "metadata": {},
     "output_type": "execute_result"
    }
   ],
   "source": [
    "df = df[['createdAt', 'id', 'author', 'url', 'text']]\n",
    "df.head(2)"
   ]
  },
  {
   "cell_type": "markdown",
   "id": "b91c9216",
   "metadata": {},
   "source": [
    "## check for missing values, do we need to delete or impute?"
   ]
  },
  {
   "cell_type": "code",
   "execution_count": 9,
   "id": "b4c0fdb5",
   "metadata": {},
   "outputs": [
    {
     "name": "stdout",
     "output_type": "stream",
     "text": [
      "createdAt    0\n",
      "id           0\n",
      "author       0\n",
      "url          0\n",
      "text         0\n",
      "dtype: int64\n"
     ]
    },
    {
     "data": {
      "text/plain": [
       "(27599, 5)"
      ]
     },
     "execution_count": 9,
     "metadata": {},
     "output_type": "execute_result"
    }
   ],
   "source": [
    "print(df.isnull().sum())\n",
    "df.shape"
   ]
  },
  {
   "cell_type": "markdown",
   "id": "bdb74258",
   "metadata": {},
   "source": [
    "## clean text"
   ]
  },
  {
   "cell_type": "code",
   "execution_count": 10,
   "id": "04e43ad5",
   "metadata": {},
   "outputs": [],
   "source": [
    "stop_words = set(stopwords.words('english'))\n",
    "lemmatizer = WordNetLemmatizer()\n",
    "\n",
    "def preprocess_text(text):\n",
    "    # remove whitespace\n",
    "    text = text.strip(' ')\n",
    "\n",
    "    # lowercase\n",
    "    text = text.lower()\n",
    "\n",
    "    # use regex to remove hyperlinks starting with http\n",
    "    text = re.sub(r'http\\S+', '', text)\n",
    "\n",
    "    # remove punctuation and symbols like #\"*!&%\n",
    "    text = text.translate(str.maketrans('', '', string.punctuation))\n",
    "\n",
    "    # tokenize\n",
    "    tokens = word_tokenize(text)\n",
    "\n",
    "    # sentiment analysis --> keep stopwords\n",
    "    # to identify difference between 'not happy' and the separate words 'not', 'happy'\n",
    "\n",
    "    # lemmatize to group words by their meaning instead of their exact form\n",
    "    lemmatizer = WordNetLemmatizer()\n",
    "    lemmatized_words = [lemmatizer.lemmatize(word) for word in tokens]\n",
    "    lemmatized_string = ' '.join(lemmatized_words)  # join back to string\n",
    "\n",
    "    return lemmatized_string"
   ]
  },
  {
   "cell_type": "code",
   "execution_count": 11,
   "id": "9bee3741",
   "metadata": {},
   "outputs": [
    {
     "name": "stdout",
     "output_type": "stream",
     "text": [
      "0    The decision to phase out nuclear power and shift from fossil fuels to renewable energy was first taken by the centre-left government of former Chancellor Gerhard Schroeder in 2002 who nows has a prominent position in Russian Gazprom company.\n",
      "1                                                                                                                                                                      EU Moves to Label Nuclear, Natural Gas Energy as 'Green' https://t.co/hPR2zCdZFU\n",
      "Name: text, dtype: object\n",
      "0    the decision to phase out nuclear power and shift from fossil fuel to renewable energy wa first taken by the centreleft government of former chancellor gerhard schroeder in 2002 who now ha a prominent position in russian gazprom company\n",
      "1                                                                                                                                                                                             eu move to label nuclear natural gas energy a green\n",
      "Name: text_clean, dtype: object\n"
     ]
    }
   ],
   "source": [
    "df['text_clean'] = df['text'].apply(preprocess_text)\n",
    "\n",
    "pd.set_option('display.max_colwidth', None)\n",
    "print(df['text'][0:2])\n",
    "print(df['text_clean'][0:2])"
   ]
  },
  {
   "cell_type": "markdown",
   "id": "ea7d55c6",
   "metadata": {},
   "source": [
    "# sentiment analysis"
   ]
  },
  {
   "cell_type": "markdown",
   "id": "978c3125",
   "metadata": {},
   "source": [
    "## try different models\n",
    "\n",
    "### start with basic model from \"Your first Transformers Challenge\" = \"twitter-roberta-base-sentiment-latest\""
   ]
  },
  {
   "cell_type": "code",
   "execution_count": 12,
   "id": "bc17e58d",
   "metadata": {},
   "outputs": [],
   "source": [
    "%%capture\n",
    "%pip install transformers torch;\n",
    "%pip install datasets;\n",
    "%pip install torch;\n",
    "%pip install tqdm;\n",
    "# use %%capture to suppress cell output"
   ]
  },
  {
   "cell_type": "code",
   "execution_count": 13,
   "id": "fb34fd26",
   "metadata": {},
   "outputs": [
    {
     "name": "stderr",
     "output_type": "stream",
     "text": [
      "[nltk_data] Error loading punkt: <urlopen error TLS/SSL connection has\n",
      "[nltk_data]     been closed (EOF) (_ssl.c:997)>\n"
     ]
    }
   ],
   "source": [
    "import transformers\n",
    "from transformers import pipeline\n",
    "from transformers import AutoTokenizer, AutoModelForSequenceClassification\n",
    "import torch\n",
    "import nltk\n",
    "nltk.download('punkt')\n",
    "from nltk.tokenize import sent_tokenize\n",
    "from collections import Counter\n",
    "from sklearn.metrics import accuracy_score, precision_recall_fscore_support\n",
    "from datasets import Dataset, ClassLabel\n",
    "from transformers import TrainingArguments\n",
    "from transformers import Trainer\n"
   ]
  },
  {
   "cell_type": "markdown",
   "id": "363e361e",
   "metadata": {},
   "source": [
    "## Setting up the model"
   ]
  },
  {
   "cell_type": "code",
   "execution_count": 14,
   "id": "328d212a",
   "metadata": {},
   "outputs": [
    {
     "name": "stderr",
     "output_type": "stream",
     "text": [
      "Some weights of the model checkpoint at cardiffnlp/twitter-roberta-base-sentiment-latest were not used when initializing RobertaForSequenceClassification: ['roberta.pooler.dense.bias', 'roberta.pooler.dense.weight']\n",
      "- This IS expected if you are initializing RobertaForSequenceClassification from the checkpoint of a model trained on another task or with another architecture (e.g. initializing a BertForSequenceClassification model from a BertForPreTraining model).\n",
      "- This IS NOT expected if you are initializing RobertaForSequenceClassification from the checkpoint of a model that you expect to be exactly identical (initializing a BertForSequenceClassification model from a BertForSequenceClassification model).\n",
      "Device set to use cpu\n"
     ]
    },
    {
     "data": {
      "text/plain": [
       "<transformers.pipelines.text_classification.TextClassificationPipeline at 0x7f91b454eaa0>"
      ]
     },
     "execution_count": 14,
     "metadata": {},
     "output_type": "execute_result"
    }
   ],
   "source": [
    "from transformers import pipeline\n",
    "sentiment_pipeline = pipeline(\"sentiment-analysis\", model=\"cardiffnlp/twitter-roberta-base-sentiment-latest\")\n",
    "sentiment_pipeline"
   ]
  },
  {
   "cell_type": "markdown",
   "id": "bb4d6ffe",
   "metadata": {},
   "source": [
    "## divide text into chunks of N sentences each"
   ]
  },
  {
   "cell_type": "code",
   "execution_count": 15,
   "id": "7e9741f9",
   "metadata": {},
   "outputs": [],
   "source": [
    "def split_into_chunks(text, max_sentences=5):\n",
    "    \"Devide a text in chunks of N sentences\"\n",
    "    sentences = sent_tokenize(text)\n",
    "    return [' '.join(sentences[i:i+max_sentences]) for i in range(0, len(sentences), max_sentences)]\n"
   ]
  },
  {
   "cell_type": "code",
   "execution_count": 16,
   "id": "c5da5033",
   "metadata": {},
   "outputs": [],
   "source": [
    "\n",
    "def analyze_sentiment_chunked(text):\n",
    "    \"Analyse sentiment of chunks and labels 'mixed' if there is a meaningful draw\"\n",
    "    try:\n",
    "        # max chars per chunk\n",
    "        chunks = split_into_chunks(text[:400])\n",
    "\n",
    "        # Process each chunk with explicit max_length\n",
    "        results = []\n",
    "        for chunk in chunks:\n",
    "            try:\n",
    "                result = sentiment_pipeline(chunk, truncation=True, max_length=512)[0]\n",
    "                results.append(result)\n",
    "            except Exception as chunk_e:\n",
    "                print(f\"Error processing chunk: {chunk_e}\")\n",
    "                continue\n",
    "\n",
    "        # Handle case with no valid results\n",
    "        if not results:\n",
    "            return pd.Series(['NEUTRAL', 0.0])\n",
    "\n",
    "        labels = [r['label'] for r in results]\n",
    "        scores = [r['score'] for r in results]\n",
    "\n",
    "        counter = Counter(labels)\n",
    "        majority_label, count = counter.most_common(1)[0]\n",
    "        avg_score = sum([s for l, s in zip(labels, scores) if l == majority_label]) / count\n",
    "\n",
    "        if avg_score < 0.4:\n",
    "            majority_label = 'NEUTRAL'\n",
    "\n",
    "        return pd.Series([majority_label, avg_score])\n",
    "    except Exception as e:\n",
    "        print(f\"Error in analyze_sentiment_chunked: {e}\")\n",
    "        return pd.Series(['NEUTRAL', 0.0])  # Return default values instead of None"
   ]
  },
  {
   "cell_type": "markdown",
   "id": "b174b5cf",
   "metadata": {},
   "source": [
    "## sentiment output and confidence score"
   ]
  },
  {
   "cell_type": "code",
   "execution_count": null,
   "id": "bac7a54d",
   "metadata": {},
   "outputs": [
    {
     "data": {
      "application/vnd.jupyter.widget-view+json": {
       "model_id": "b2017cbcd9d0439da68a9d89b260c920",
       "version_major": 2,
       "version_minor": 0
      },
      "text/plain": [
       "  0%|          | 0/100 [00:00<?, ?it/s]"
      ]
     },
     "metadata": {},
     "output_type": "display_data"
    },
    {
     "data": {
      "text/html": [
       "<div>\n",
       "<style scoped>\n",
       "    .dataframe tbody tr th:only-of-type {\n",
       "        vertical-align: middle;\n",
       "    }\n",
       "\n",
       "    .dataframe tbody tr th {\n",
       "        vertical-align: top;\n",
       "    }\n",
       "\n",
       "    .dataframe thead th {\n",
       "        text-align: right;\n",
       "    }\n",
       "</style>\n",
       "<table border=\"1\" class=\"dataframe\">\n",
       "  <thead>\n",
       "    <tr style=\"text-align: right;\">\n",
       "      <th></th>\n",
       "      <th>text</th>\n",
       "      <th>text_clean</th>\n",
       "      <th>sentiment</th>\n",
       "      <th>confidence score</th>\n",
       "    </tr>\n",
       "  </thead>\n",
       "  <tbody>\n",
       "    <tr>\n",
       "      <th>26923</th>\n",
       "      <td>🌎 Building a Greener Tomorrow at Writech Ltd!\\n\\nWe're committed to sustainability with initiatives like:\\n\\n🔋 Renewable Energy: \\n\\n🚗 Greener Fleet: \\n\\n♻️ Waste Reduction: \\n\\n🌱 Community Engagement: https://t.co/e9gZA3gtb4</td>\n",
       "      <td>🌎 building a greener tomorrow at writech ltd were committed to sustainability with initiative like 🔋 renewable energy 🚗 greener fleet ♻️ waste reduction 🌱 community engagement</td>\n",
       "      <td>positive</td>\n",
       "      <td>0.848126</td>\n",
       "    </tr>\n",
       "    <tr>\n",
       "      <th>5201</th>\n",
       "      <td>About the future of renewable energy\\n\\nhttps://t.co/86nr1lY6Z2</td>\n",
       "      <td>about the future of renewable energy</td>\n",
       "      <td>neutral</td>\n",
       "      <td>0.682072</td>\n",
       "    </tr>\n",
       "    <tr>\n",
       "      <th>18571</th>\n",
       "      <td>US Renewable Energy Sector vulnerable to cyber threats says FBI https://t.co/z4cdWpaEx5</td>\n",
       "      <td>u renewable energy sector vulnerable to cyber threat say fbi</td>\n",
       "      <td>neutral</td>\n",
       "      <td>0.593356</td>\n",
       "    </tr>\n",
       "  </tbody>\n",
       "</table>\n",
       "</div>"
      ],
      "text/plain": [
       "                                                                                                                                                                                                                                    text  \\\n",
       "26923  🌎 Building a Greener Tomorrow at Writech Ltd!\\n\\nWe're committed to sustainability with initiatives like:\\n\\n🔋 Renewable Energy: \\n\\n🚗 Greener Fleet: \\n\\n♻️ Waste Reduction: \\n\\n🌱 Community Engagement: https://t.co/e9gZA3gtb4   \n",
       "5201                                                                                                                                                                     About the future of renewable energy\\n\\nhttps://t.co/86nr1lY6Z2   \n",
       "18571                                                                                                                                            US Renewable Energy Sector vulnerable to cyber threats says FBI https://t.co/z4cdWpaEx5   \n",
       "\n",
       "                                                                                                                                                                            text_clean  \\\n",
       "26923  🌎 building a greener tomorrow at writech ltd were committed to sustainability with initiative like 🔋 renewable energy 🚗 greener fleet ♻️ waste reduction 🌱 community engagement   \n",
       "5201                                                                                                                                              about the future of renewable energy   \n",
       "18571                                                                                                                     u renewable energy sector vulnerable to cyber threat say fbi   \n",
       "\n",
       "      sentiment  confidence score  \n",
       "26923  positive          0.848126  \n",
       "5201    neutral          0.682072  \n",
       "18571   neutral          0.593356  "
      ]
     },
     "execution_count": 17,
     "metadata": {},
     "output_type": "execute_result"
    }
   ],
   "source": [
    "# tqdm.pandas()  # Enables progress_apply\n",
    "df_sample = df[['text', 'text_clean']].sample(n=100, random_state=42).copy()\n",
    "df_sample[['sentiment', 'confidence score']] = df_sample['text_clean'].progress_apply(analyze_sentiment_chunked)\n",
    "df_sample.head(3)"
   ]
  },
  {
   "cell_type": "code",
   "execution_count": 18,
   "id": "49a47068",
   "metadata": {},
   "outputs": [
    {
     "data": {
      "application/vnd.jupyter.widget-view+json": {
       "model_id": "4eae3a65ea3048449a7b77a84b66a262",
       "version_major": 2,
       "version_minor": 0
      },
      "text/plain": [
       "  0%|          | 0/27599 [00:00<?, ?it/s]"
      ]
     },
     "metadata": {},
     "output_type": "display_data"
    },
    {
     "name": "stdout",
     "output_type": "stream",
     "text": [
      "  sentiment  confidence score\n",
      "0   neutral          0.902089\n",
      "1   neutral          0.876217\n",
      "2   neutral          0.816128\n"
     ]
    }
   ],
   "source": [
    "df[['sentiment', 'confidence score']] = df['text_clean'].progress_apply(analyze_sentiment_chunked)\n",
    "print(df[['sentiment', 'confidence score']].head(3))"
   ]
  },
  {
   "cell_type": "code",
   "execution_count": null,
   "id": "5a376f08",
   "metadata": {},
   "outputs": [],
   "source": [
    "# save df to csv file\n",
    "df.to_csv('../../data/csv/twitter_sentiment_analysis.csv', index=False)"
   ]
  },
  {
   "cell_type": "markdown",
   "id": "b7ec91cd",
   "metadata": {},
   "source": [
    "# data analysis"
   ]
  },
  {
   "cell_type": "markdown",
   "id": "78c9d786",
   "metadata": {},
   "source": [
    "## histogram confidence and color by sentiment"
   ]
  },
  {
   "cell_type": "code",
   "execution_count": 31,
   "id": "c223bbf6",
   "metadata": {},
   "outputs": [
    {
     "data": {
      "image/png": "[encoded data removed]",
      "text/plain": [
       "<Figure size 800x500 with 1 Axes>"
      ]
     },
     "metadata": {},
     "output_type": "display_data"
    }
   ],
   "source": [
    "# histogram confidence and color by sentiment\n",
    "import seaborn as sns\n",
    "import matplotlib.pyplot as plt\n",
    "\n",
    "plt.figure(figsize=(8, 5))\n",
    "sns.histplot(\n",
    "    data=df,\n",
    "    x='confidence score',\n",
    "    hue='sentiment',\n",
    "    multiple='stack',\n",
    "    palette='Set2',\n",
    "    bins=30,\n",
    "    hue_order=['negative', 'neutral', 'positive']\n",
    ")\n",
    "plt.title('Histogram of Confidence Score by Sentiment')\n",
    "plt.xlabel('Confidence Score')\n",
    "plt.ylabel('Count')\n",
    "plt.show()\n"
   ]
  },
  {
   "cell_type": "markdown",
   "id": "996a9d53",
   "metadata": {},
   "source": [
    "## sentiment development over time (shares)"
   ]
  },
  {
   "cell_type": "code",
   "execution_count": 45,
   "id": "ef30a3ff",
   "metadata": {},
   "outputs": [
    {
     "name": "stderr",
     "output_type": "stream",
     "text": [
      "/tmp/ipykernel_6047/2835348701.py:10: UserWarning: Converting to PeriodArray/Index representation will drop timezone information.\n",
      "  df['quarter'] = df['createdAt'].dt.to_period('Q')\n"
     ]
    },
    {
     "data": {
      "image/png": "[encoded data removed]",
      "text/plain": [
       "<Figure size 1000x600 with 1 Axes>"
      ]
     },
     "metadata": {},
     "output_type": "display_data"
    }
   ],
   "source": [
    "# plot sentiment development over time, group into 3-month chunks, show shares of 100%\n",
    "\n",
    "# Combine 'NEUTRAL' and 'neutral' into a single 'neutral' label\n",
    "df['sentiment'] = df['sentiment'].replace({'NEUTRAL': 'neutral'})\n",
    "\n",
    "# Define custom colors for each sentiment\n",
    "sentiment_colors = {'positive': '#90ee90', 'neutral': '#d3d3d3', 'negative': '#ffb3b3'}\n",
    "\n",
    "# Group by 3-month periods and plot sentiment shares (percentages) over time\n",
    "df['quarter'] = df['createdAt'].dt.to_period('Q')\n",
    "sentiment_counts = df.groupby(['quarter', 'sentiment']).size().unstack(fill_value=0)\n",
    "\n",
    "# Calculate shares (percentages) for each sentiment per quarter\n",
    "sentiment_shares = sentiment_counts.div(sentiment_counts.sum(axis=1), axis=0) * 100\n",
    "\n",
    "# Ensure columns are in the desired order: positive, neutral, negative\n",
    "sentiment_order = ['negative', 'neutral', 'positive']  # positive on top\n",
    "sentiment_shares_plot = sentiment_shares[sentiment_order]\n",
    "\n",
    "plt.figure(figsize=(10, 6))\n",
    "sentiment_shares_plot.plot(\n",
    "    kind='bar',\n",
    "    stacked=True,\n",
    "    color=[sentiment_colors.get(col, 'black') for col in sentiment_shares_plot.columns],\n",
    "    ax=plt.gca()\n",
    ")\n",
    "plt.title('Sentiment Development Over Time (3-Month Chunks, % Share)')\n",
    "plt.xlabel('Quarter')\n",
    "plt.ylabel('Percentage Share (%)')\n",
    "\n",
    "# manually reverse the legend order to match your desired top-to-bottom display\n",
    "handles, labels = plt.gca().get_legend_handles_labels()\n",
    "plt.legend(\n",
    "    handles[::-1],\n",
    "    labels[::-1],\n",
    "    title='Sentiment',\n",
    "    loc='upper left',\n",
    "    bbox_to_anchor=(1, 1)\n",
    ")\n",
    "\n",
    "plt.tight_layout()\n",
    "plt.show()\n"
   ]
  },
  {
   "cell_type": "markdown",
   "id": "eade832d",
   "metadata": {},
   "source": [
    "## sentiment over time (lines)"
   ]
  },
  {
   "cell_type": "code",
   "execution_count": null,
   "id": "d2355206",
   "metadata": {},
   "outputs": [
    {
     "data": {
      "image/png": "[encoded data removed]",
      "text/plain": [
       "<Figure size 1000x600 with 2 Axes>"
      ]
     },
     "metadata": {},
     "output_type": "display_data"
    }
   ],
   "source": [
    "# Create x-tick labels with line breaks: \"2022\\nQ1\", \"2022\\nQ2\", ...\n",
    "xtick_labels = [f\"{q[:4]}\\n{q[-2:]}\" for q in sentiment_shares.index.astype(str)]\n",
    "\n",
    "# Get total tweet counts per quarter\n",
    "tweet_counts = sentiment_counts.sum(axis=1)\n",
    "\n",
    "fig, ax1 = plt.subplots(figsize=(10, 6))\n",
    "\n",
    "# Plot sentiment shares as scatter (left y-axis)\n",
    "for sentiment in sentiment_order:\n",
    "    ax1.scatter(\n",
    "        xtick_labels,\n",
    "        sentiment_shares[sentiment],\n",
    "        label=sentiment,\n",
    "        color=sentiment_colors[sentiment],\n",
    "        s=80\n",
    "    )\n",
    "ax1.set_xlabel('Quarter')\n",
    "ax1.set_ylabel('Percentage Share (%)')\n",
    "ax1.set_title('Sentiment Development Over Time (3-Month Chunks, % Share)')\n",
    "ax1.legend(title='Sentiment', loc='upper left', bbox_to_anchor=(1.07, 1))  # prevent overlap with y-ticks\n",
    "ax1.grid(True, linestyle='--', alpha=0.7)\n",
    "\n",
    "# Plot tweet counts on secondary y-axis (right)\n",
    "ax2 = ax1.twinx()\n",
    "ax2.plot(xtick_labels, tweet_counts, color='tab:blue', marker='o', linestyle='-', label='Tweet Count')\n",
    "ax2.set_ylabel('Number of Tweets', color='tab:blue')\n",
    "ax2.tick_params(axis='y', labelcolor='tab:blue')\n",
    "\n",
    "plt.tight_layout()\n",
    "plt.show()\n"
   ]
  },
  {
   "cell_type": "markdown",
   "id": "15e034f4",
   "metadata": {},
   "source": [
    "# Fine-Tuning"
   ]
  },
  {
   "cell_type": "code",
   "execution_count": 19,
   "id": "ce45363d",
   "metadata": {},
   "outputs": [],
   "source": [
    "# df_train = pd.read_csv('/Users/enrique/code/EFRdev/08-Final-Project/SolarSoundBytes/raw_data/ForTraining_news_sentiment_analysis.csv')\n",
    "# df_train.head(2)"
   ]
  },
  {
   "cell_type": "code",
   "execution_count": 20,
   "id": "dc2c9ae3",
   "metadata": {},
   "outputs": [],
   "source": [
    "# label_list = ['negative', 'neutral', 'positive']\n",
    "# label_to_id = {l: i for i, l in enumerate(label_list)}\n",
    "# df_train['label_id'] = df_train['Sentiment'].map(label_to_id)\n",
    "\n",
    "# #Turning Dataset into HuggingFace object\n",
    "# dataset = Dataset.from_pandas(df_train)\n"
   ]
  },
  {
   "cell_type": "code",
   "execution_count": 21,
   "id": "780f5a3e",
   "metadata": {},
   "outputs": [],
   "source": [
    "# print(tokenized_dataset.column_names)"
   ]
  },
  {
   "cell_type": "code",
   "execution_count": 22,
   "id": "18d9eb1c",
   "metadata": {},
   "outputs": [],
   "source": [
    "# # Use a pipeline as a high-level helper\n",
    "# from transformers import pipeline\n",
    "\n",
    "# model_name = \"distilbert/distilbert-base-uncased\"\n",
    "# tokenizer = AutoTokenizer.from_pretrained(model_name)\n",
    "# model = AutoModelForSequenceClassification.from_pretrained(model_name, num_labels=len(label_list))\n",
    "\n",
    "# #Tokenizing\n",
    "# def tokenize_function(text):\n",
    "#     return tokenizer(text[\"Description\"], truncation=True, padding='max_length', max_length=128)\n",
    "\n",
    "# tokenized_dataset = dataset.map(tokenize_function, batched=True)\n",
    "\n",
    "# #Split dataset train and val\n",
    "# split = tokenized_dataset.train_test_split(test_size=0.2, seed=42)\n",
    "# train_dataset = split['train']\n",
    "# val_dataset = split['test']\n",
    "\n",
    "# #Evaluation Metrics\n",
    "# def compute_metrics(pred):\n",
    "#     labels = pred.label_ids\n",
    "#     preds = np.argmax(pred.predictions, axis=1)\n",
    "#     precision, recall, f1, _ = precision_recall_fscore_support(labels, preds, average='weighted')\n",
    "#     acc = accuracy_score(labels, preds)\n",
    "#     return {'accuracy': acc, 'f1': f1, 'precision': precision, 'recall': recall}\n",
    "\n",
    "# #Training set up & Training\n",
    "# training_args = TrainingArguments(\n",
    "#     output_dir=\"./results\",\n",
    "#     learning_rate=2e-5,\n",
    "#     per_device_train_batch_size=8,\n",
    "#     per_device_eval_batch_size=8,\n",
    "#     num_train_epochs=3,\n",
    "#     weight_decay=0.01,\n",
    "#     logging_dir=\"./logs\",\n",
    "#     logging_steps=10,\n",
    "#     save_total_limit=1,\n",
    "# )\n",
    "\n",
    "# trainer = Trainer(\n",
    "#     model=model, args = training_args, train_dataset=train_dataset, eval_dataset = val_dataset, compute_metrics=compute_metrics)\n",
    "# trainer.train()\n"
   ]
  },
  {
   "cell_type": "code",
   "execution_count": 23,
   "id": "2cc488f7",
   "metadata": {},
   "outputs": [],
   "source": [
    "# import transformers\n",
    "# print(transformers.__file__)\n",
    "# print(transformers.__version__)"
   ]
  },
  {
   "cell_type": "code",
   "execution_count": 24,
   "id": "291901b3",
   "metadata": {},
   "outputs": [],
   "source": [
    "# import accelerate\n",
    "# print(accelerate.__version__)"
   ]
  },
  {
   "cell_type": "code",
   "execution_count": 25,
   "id": "abd2f0aa",
   "metadata": {},
   "outputs": [],
   "source": [
    "# import sys\n",
    "# print(sys.executable)"
   ]
  },
  {
   "cell_type": "code",
   "execution_count": 26,
   "id": "cf188cd8",
   "metadata": {},
   "outputs": [],
   "source": [
    "# trainer.save_model(\"./model_finetuned\")\n",
    "# tokenizer.save_pretrained(\"./model_finetuned\")"
   ]
  }
 ],
 "metadata": {
  "kernelspec": {
   "display_name": "SolarSoundBytes",
   "language": "python",
   "name": "python3"
  },
  "language_info": {
   "codemirror_mode": {
    "name": "ipython",
    "version": 3
   },
   "file_extension": ".py",
   "mimetype": "text/x-python",
   "name": "python",
   "nbconvert_exporter": "python",
   "pygments_lexer": "ipython3",
   "version": "3.10.6"
  }
 },
 "nbformat": 4,
 "nbformat_minor": 5
}
