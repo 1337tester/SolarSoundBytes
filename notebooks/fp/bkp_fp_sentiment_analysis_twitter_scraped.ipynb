{
 "cells": [
  {
   "cell_type": "code",
   "execution_count": 4,
   "id": "9c2d4742",
   "metadata": {},
   "outputs": [],
   "source": [
    "import pandas as pd\n",
    "import numpy as np\n",
    "import string\n",
    "import re\n",
    "from nltk.tokenize import word_tokenize\n",
    "from nltk.corpus import stopwords\n",
    "from nltk.stem import WordNetLemmatizer\n",
    "from datetime import datetime\n"
   ]
  },
  {
   "cell_type": "markdown",
   "id": "4c87e616",
   "metadata": {},
   "source": [
    "# Dataset Overview"
   ]
  },
  {
   "cell_type": "code",
   "execution_count": 5,
   "id": "c5c92095",
   "metadata": {},
   "outputs": [
    {
     "data": {
      "text/html": [
       "<div>\n",
       "<style scoped>\n",
       "    .dataframe tbody tr th:only-of-type {\n",
       "        vertical-align: middle;\n",
       "    }\n",
       "\n",
       "    .dataframe tbody tr th {\n",
       "        vertical-align: top;\n",
       "    }\n",
       "\n",
       "    .dataframe thead th {\n",
       "        text-align: right;\n",
       "    }\n",
       "</style>\n",
       "<table border=\"1\" class=\"dataframe\">\n",
       "  <thead>\n",
       "    <tr style=\"text-align: right;\">\n",
       "      <th></th>\n",
       "      <th>Unnamed: 0</th>\n",
       "      <th>title</th>\n",
       "      <th>date</th>\n",
       "      <th>author</th>\n",
       "      <th>content</th>\n",
       "      <th>domain</th>\n",
       "      <th>url</th>\n",
       "    </tr>\n",
       "  </thead>\n",
       "  <tbody>\n",
       "    <tr>\n",
       "      <th>0</th>\n",
       "      <td>93320</td>\n",
       "      <td>XPeng Delivered ~100,000 Vehicles In 2021</td>\n",
       "      <td>2022-01-02</td>\n",
       "      <td>NaN</td>\n",
       "      <td>['Chinese automotive startup XPeng has shown o...</td>\n",
       "      <td>cleantechnica</td>\n",
       "      <td>https://cleantechnica.com/2022/01/02/xpeng-del...</td>\n",
       "    </tr>\n",
       "    <tr>\n",
       "      <th>1</th>\n",
       "      <td>93321</td>\n",
       "      <td>Green Hydrogen: Drop In Bucket Or Big Splash?</td>\n",
       "      <td>2022-01-02</td>\n",
       "      <td>NaN</td>\n",
       "      <td>['Sinopec has laid plans to build the largest ...</td>\n",
       "      <td>cleantechnica</td>\n",
       "      <td>https://cleantechnica.com/2022/01/02/its-a-gre...</td>\n",
       "    </tr>\n",
       "    <tr>\n",
       "      <th>2</th>\n",
       "      <td>98159</td>\n",
       "      <td>World’ s largest floating PV plant goes online...</td>\n",
       "      <td>2022-01-03</td>\n",
       "      <td>NaN</td>\n",
       "      <td>['Huaneng Power International has switched on ...</td>\n",
       "      <td>pv-magazine</td>\n",
       "      <td>https://www.pv-magazine.com/2022/01/03/worlds-...</td>\n",
       "    </tr>\n",
       "    <tr>\n",
       "      <th>3</th>\n",
       "      <td>98158</td>\n",
       "      <td>Iran wants to deploy 10 GW of renewables over ...</td>\n",
       "      <td>2022-01-03</td>\n",
       "      <td>NaN</td>\n",
       "      <td>['According to the Iranian authorities, there ...</td>\n",
       "      <td>pv-magazine</td>\n",
       "      <td>https://www.pv-magazine.com/2022/01/03/iran-wa...</td>\n",
       "    </tr>\n",
       "    <tr>\n",
       "      <th>4</th>\n",
       "      <td>31128</td>\n",
       "      <td>Eastern Interconnection Power Grid Said ‘ Bein...</td>\n",
       "      <td>2022-01-03</td>\n",
       "      <td>NaN</td>\n",
       "      <td>['Sign in to get the best natural gas news and...</td>\n",
       "      <td>naturalgasintel</td>\n",
       "      <td>https://www.naturalgasintel.com/eastern-interc...</td>\n",
       "    </tr>\n",
       "  </tbody>\n",
       "</table>\n",
       "</div>"
      ],
      "text/plain": [
       "   Unnamed: 0                                              title        date  \\\n",
       "0       93320          XPeng Delivered ~100,000 Vehicles In 2021  2022-01-02   \n",
       "1       93321      Green Hydrogen: Drop In Bucket Or Big Splash?  2022-01-02   \n",
       "2       98159  World’ s largest floating PV plant goes online...  2022-01-03   \n",
       "3       98158  Iran wants to deploy 10 GW of renewables over ...  2022-01-03   \n",
       "4       31128  Eastern Interconnection Power Grid Said ‘ Bein...  2022-01-03   \n",
       "\n",
       "   author                                            content           domain  \\\n",
       "0     NaN  ['Chinese automotive startup XPeng has shown o...    cleantechnica   \n",
       "1     NaN  ['Sinopec has laid plans to build the largest ...    cleantechnica   \n",
       "2     NaN  ['Huaneng Power International has switched on ...      pv-magazine   \n",
       "3     NaN  ['According to the Iranian authorities, there ...      pv-magazine   \n",
       "4     NaN  ['Sign in to get the best natural gas news and...  naturalgasintel   \n",
       "\n",
       "                                                 url  \n",
       "0  https://cleantechnica.com/2022/01/02/xpeng-del...  \n",
       "1  https://cleantechnica.com/2022/01/02/its-a-gre...  \n",
       "2  https://www.pv-magazine.com/2022/01/03/worlds-...  \n",
       "3  https://www.pv-magazine.com/2022/01/03/iran-wa...  \n",
       "4  https://www.naturalgasintel.com/eastern-interc...  "
      ]
     },
     "execution_count": 5,
     "metadata": {},
     "output_type": "execute_result"
    }
   ],
   "source": [
    "df = pd.read_csv(\"/Users/enrique/code/EFRdev/08-Final-Project/SolarSoundBytes/raw_data/cleantech_media_dataset_v3_2024-10-28.csv\")\n",
    "df.head()"
   ]
  },
  {
   "cell_type": "code",
   "execution_count": 6,
   "id": "bcc9f593",
   "metadata": {},
   "outputs": [
    {
     "data": {
      "text/plain": [
       "(20111, 7)"
      ]
     },
     "execution_count": 6,
     "metadata": {},
     "output_type": "execute_result"
    }
   ],
   "source": [
    "df.shape\n"
   ]
  },
  {
   "cell_type": "markdown",
   "id": "04301a28",
   "metadata": {},
   "source": [
    "### Date column needs to be **dtype** format!"
   ]
  },
  {
   "cell_type": "code",
   "execution_count": 7,
   "id": "2c73a1bf",
   "metadata": {},
   "outputs": [
    {
     "name": "stdout",
     "output_type": "stream",
     "text": [
      "datetime64[ns]\n"
     ]
    }
   ],
   "source": [
    "df['date'] = pd.to_datetime(df['date'], dayfirst=True, errors='coerce')\n",
    "print(df['date'].dtype)"
   ]
  },
  {
   "cell_type": "code",
   "execution_count": 8,
   "id": "0a2cd07f",
   "metadata": {},
   "outputs": [
    {
     "data": {
      "text/plain": [
       "array(['cleantechnica', 'pv-magazine', 'naturalgasintel', 'energyvoice',\n",
       "       'solarpowerworldonline', 'solarindustrymag', 'thinkgeoenergy',\n",
       "       'energy-xprt', 'azocleantech', 'pv-tech', 'rechargenews',\n",
       "       'solarpowerportal.co', 'energyintel', 'greenprophet', 'ecofriend',\n",
       "       'eurosolar', 'greenairnews', 'all-energy', 'iea', 'decarbxpo',\n",
       "       'biofuels-news', 'solarquarter', 'storagesummit', 'indorenergy',\n",
       "       'bex-asia'], dtype=object)"
      ]
     },
     "execution_count": 8,
     "metadata": {},
     "output_type": "execute_result"
    }
   ],
   "source": [
    "unique_domains = df['domain'].unique()\n",
    "unique_domains"
   ]
  },
  {
   "cell_type": "markdown",
   "id": "283c6ba7",
   "metadata": {},
   "source": [
    "## There are NOT a lot of dates in this dataset! \n",
    "Luckly this dataset contains URL column where I can fetch the date in the format \"YYYY/MM/DD\""
   ]
  },
  {
   "cell_type": "code",
   "execution_count": 9,
   "id": "93a53ec5",
   "metadata": {},
   "outputs": [
    {
     "data": {
      "text/plain": [
       "12966"
      ]
     },
     "execution_count": 9,
     "metadata": {},
     "output_type": "execute_result"
    }
   ],
   "source": [
    "df['date'].isna().sum()\n"
   ]
  },
  {
   "cell_type": "code",
   "execution_count": 10,
   "id": "a7051102",
   "metadata": {},
   "outputs": [
    {
     "data": {
      "text/plain": [
       "<bound method NDFrame.head of 150      https://www.solarpowerportal.co.uk/cfd_portfol...\n",
       "151      https://www.azocleantech.com/news.aspx?newsID=...\n",
       "152          https://www.rechargenews.com/news/2-1-1144119\n",
       "153      https://www.rechargenews.com/energy-transition...\n",
       "154      https://www.thinkgeoenergy.com/drilling-begins...\n",
       "                               ...                        \n",
       "20106    https://www.pv-tech.org/us-treasury-finalises-...\n",
       "20107    https://www.pv-tech.org/edp-trials-robotic-con...\n",
       "20108    https://www.pv-magazine.com/2024/10/24/austral...\n",
       "20109    https://www.pv-magazine.com/2024/10/24/residen...\n",
       "20110    https://www.pv-magazine.com/2024/10/24/kaust-h...\n",
       "Name: url, Length: 12966, dtype: object>"
      ]
     },
     "execution_count": 10,
     "metadata": {},
     "output_type": "execute_result"
    }
   ],
   "source": [
    "df[df['date'].isna()]['url'].head"
   ]
  },
  {
   "cell_type": "code",
   "execution_count": 11,
   "id": "0757833e",
   "metadata": {},
   "outputs": [],
   "source": [
    "def extract_date_from_url(url):\n",
    "    # Match YYYY/MM/DD pattern\n",
    "    match = re.search(r'/(\\d{4})/(\\d{2})/(\\d{2})/', url)\n",
    "    if match:\n",
    "        try:\n",
    "            # Format to standard datetime or string\n",
    "            return datetime.strptime('/'.join(match.groups()), '%Y/%m/%d').date()\n",
    "        except ValueError:\n",
    "            return None\n",
    "    return None\n",
    "\n",
    "# Apply only to missing dates\n",
    "df['date'] = df.apply(\n",
    "    lambda row: extract_date_from_url(row['url']) if pd.isna(row['date']) else row['date'],\n",
    "    axis=1\n",
    ")"
   ]
  },
  {
   "cell_type": "code",
   "execution_count": 12,
   "id": "6d501632",
   "metadata": {},
   "outputs": [
    {
     "data": {
      "text/html": [
       "<div>\n",
       "<style scoped>\n",
       "    .dataframe tbody tr th:only-of-type {\n",
       "        vertical-align: middle;\n",
       "    }\n",
       "\n",
       "    .dataframe tbody tr th {\n",
       "        vertical-align: top;\n",
       "    }\n",
       "\n",
       "    .dataframe thead th {\n",
       "        text-align: right;\n",
       "    }\n",
       "</style>\n",
       "<table border=\"1\" class=\"dataframe\">\n",
       "  <thead>\n",
       "    <tr style=\"text-align: right;\">\n",
       "      <th></th>\n",
       "      <th>Unnamed: 0</th>\n",
       "      <th>title</th>\n",
       "      <th>date</th>\n",
       "      <th>author</th>\n",
       "      <th>content</th>\n",
       "      <th>domain</th>\n",
       "      <th>url</th>\n",
       "    </tr>\n",
       "  </thead>\n",
       "  <tbody>\n",
       "    <tr>\n",
       "      <th>0</th>\n",
       "      <td>93320</td>\n",
       "      <td>XPeng Delivered ~100,000 Vehicles In 2021</td>\n",
       "      <td>2022-02-01 00:00:00</td>\n",
       "      <td>NaN</td>\n",
       "      <td>['Chinese automotive startup XPeng has shown o...</td>\n",
       "      <td>cleantechnica</td>\n",
       "      <td>https://cleantechnica.com/2022/01/02/xpeng-del...</td>\n",
       "    </tr>\n",
       "    <tr>\n",
       "      <th>1</th>\n",
       "      <td>93321</td>\n",
       "      <td>Green Hydrogen: Drop In Bucket Or Big Splash?</td>\n",
       "      <td>2022-02-01 00:00:00</td>\n",
       "      <td>NaN</td>\n",
       "      <td>['Sinopec has laid plans to build the largest ...</td>\n",
       "      <td>cleantechnica</td>\n",
       "      <td>https://cleantechnica.com/2022/01/02/its-a-gre...</td>\n",
       "    </tr>\n",
       "    <tr>\n",
       "      <th>2</th>\n",
       "      <td>98159</td>\n",
       "      <td>World’ s largest floating PV plant goes online...</td>\n",
       "      <td>2022-03-01 00:00:00</td>\n",
       "      <td>NaN</td>\n",
       "      <td>['Huaneng Power International has switched on ...</td>\n",
       "      <td>pv-magazine</td>\n",
       "      <td>https://www.pv-magazine.com/2022/01/03/worlds-...</td>\n",
       "    </tr>\n",
       "    <tr>\n",
       "      <th>3</th>\n",
       "      <td>98158</td>\n",
       "      <td>Iran wants to deploy 10 GW of renewables over ...</td>\n",
       "      <td>2022-03-01 00:00:00</td>\n",
       "      <td>NaN</td>\n",
       "      <td>['According to the Iranian authorities, there ...</td>\n",
       "      <td>pv-magazine</td>\n",
       "      <td>https://www.pv-magazine.com/2022/01/03/iran-wa...</td>\n",
       "    </tr>\n",
       "    <tr>\n",
       "      <th>4</th>\n",
       "      <td>31128</td>\n",
       "      <td>Eastern Interconnection Power Grid Said ‘ Bein...</td>\n",
       "      <td>2022-03-01 00:00:00</td>\n",
       "      <td>NaN</td>\n",
       "      <td>['Sign in to get the best natural gas news and...</td>\n",
       "      <td>naturalgasintel</td>\n",
       "      <td>https://www.naturalgasintel.com/eastern-interc...</td>\n",
       "    </tr>\n",
       "  </tbody>\n",
       "</table>\n",
       "</div>"
      ],
      "text/plain": [
       "   Unnamed: 0                                              title  \\\n",
       "0       93320          XPeng Delivered ~100,000 Vehicles In 2021   \n",
       "1       93321      Green Hydrogen: Drop In Bucket Or Big Splash?   \n",
       "2       98159  World’ s largest floating PV plant goes online...   \n",
       "3       98158  Iran wants to deploy 10 GW of renewables over ...   \n",
       "4       31128  Eastern Interconnection Power Grid Said ‘ Bein...   \n",
       "\n",
       "                  date  author  \\\n",
       "0  2022-02-01 00:00:00     NaN   \n",
       "1  2022-02-01 00:00:00     NaN   \n",
       "2  2022-03-01 00:00:00     NaN   \n",
       "3  2022-03-01 00:00:00     NaN   \n",
       "4  2022-03-01 00:00:00     NaN   \n",
       "\n",
       "                                             content           domain  \\\n",
       "0  ['Chinese automotive startup XPeng has shown o...    cleantechnica   \n",
       "1  ['Sinopec has laid plans to build the largest ...    cleantechnica   \n",
       "2  ['Huaneng Power International has switched on ...      pv-magazine   \n",
       "3  ['According to the Iranian authorities, there ...      pv-magazine   \n",
       "4  ['Sign in to get the best natural gas news and...  naturalgasintel   \n",
       "\n",
       "                                                 url  \n",
       "0  https://cleantechnica.com/2022/01/02/xpeng-del...  \n",
       "1  https://cleantechnica.com/2022/01/02/its-a-gre...  \n",
       "2  https://www.pv-magazine.com/2022/01/03/worlds-...  \n",
       "3  https://www.pv-magazine.com/2022/01/03/iran-wa...  \n",
       "4  https://www.naturalgasintel.com/eastern-interc...  "
      ]
     },
     "execution_count": 12,
     "metadata": {},
     "output_type": "execute_result"
    }
   ],
   "source": [
    "df.head()"
   ]
  },
  {
   "cell_type": "code",
   "execution_count": 13,
   "id": "83c1d44f",
   "metadata": {},
   "outputs": [
    {
     "data": {
      "text/plain": [
       "10173"
      ]
     },
     "execution_count": 13,
     "metadata": {},
     "output_type": "execute_result"
    }
   ],
   "source": [
    "df['date'].isna().sum()"
   ]
  },
  {
   "cell_type": "markdown",
   "id": "9b165007",
   "metadata": {},
   "source": [
    "There are still 10173 articles without date... we are going to drop them."
   ]
  },
  {
   "cell_type": "code",
   "execution_count": 14,
   "id": "8e7b232e",
   "metadata": {},
   "outputs": [
    {
     "data": {
      "text/plain": [
       "(9938, 7)"
      ]
     },
     "execution_count": 14,
     "metadata": {},
     "output_type": "execute_result"
    }
   ],
   "source": [
    "df = df.dropna(subset=['date']).copy()\n",
    "df.shape"
   ]
  },
  {
   "cell_type": "markdown",
   "id": "50dd55dd",
   "metadata": {},
   "source": [
    "### There are **9,938 Articles** that have a date and we can work with!"
   ]
  },
  {
   "cell_type": "markdown",
   "id": "b91c9216",
   "metadata": {},
   "source": [
    "# Delete or Impute Nulls Values"
   ]
  },
  {
   "cell_type": "code",
   "execution_count": 15,
   "id": "06049ab0",
   "metadata": {},
   "outputs": [
    {
     "data": {
      "text/html": [
       "<div>\n",
       "<style scoped>\n",
       "    .dataframe tbody tr th:only-of-type {\n",
       "        vertical-align: middle;\n",
       "    }\n",
       "\n",
       "    .dataframe tbody tr th {\n",
       "        vertical-align: top;\n",
       "    }\n",
       "\n",
       "    .dataframe thead th {\n",
       "        text-align: right;\n",
       "    }\n",
       "</style>\n",
       "<table border=\"1\" class=\"dataframe\">\n",
       "  <thead>\n",
       "    <tr style=\"text-align: right;\">\n",
       "      <th></th>\n",
       "      <th>Unnamed: 0</th>\n",
       "      <th>title</th>\n",
       "      <th>date</th>\n",
       "      <th>author</th>\n",
       "      <th>content</th>\n",
       "      <th>domain</th>\n",
       "      <th>url</th>\n",
       "    </tr>\n",
       "  </thead>\n",
       "  <tbody>\n",
       "    <tr>\n",
       "      <th>0</th>\n",
       "      <td>93320</td>\n",
       "      <td>XPeng Delivered ~100,000 Vehicles In 2021</td>\n",
       "      <td>2022-02-01 00:00:00</td>\n",
       "      <td>NaN</td>\n",
       "      <td>['Chinese automotive startup XPeng has shown o...</td>\n",
       "      <td>cleantechnica</td>\n",
       "      <td>https://cleantechnica.com/2022/01/02/xpeng-del...</td>\n",
       "    </tr>\n",
       "    <tr>\n",
       "      <th>1</th>\n",
       "      <td>93321</td>\n",
       "      <td>Green Hydrogen: Drop In Bucket Or Big Splash?</td>\n",
       "      <td>2022-02-01 00:00:00</td>\n",
       "      <td>NaN</td>\n",
       "      <td>['Sinopec has laid plans to build the largest ...</td>\n",
       "      <td>cleantechnica</td>\n",
       "      <td>https://cleantechnica.com/2022/01/02/its-a-gre...</td>\n",
       "    </tr>\n",
       "    <tr>\n",
       "      <th>2</th>\n",
       "      <td>98159</td>\n",
       "      <td>World’ s largest floating PV plant goes online...</td>\n",
       "      <td>2022-03-01 00:00:00</td>\n",
       "      <td>NaN</td>\n",
       "      <td>['Huaneng Power International has switched on ...</td>\n",
       "      <td>pv-magazine</td>\n",
       "      <td>https://www.pv-magazine.com/2022/01/03/worlds-...</td>\n",
       "    </tr>\n",
       "    <tr>\n",
       "      <th>3</th>\n",
       "      <td>98158</td>\n",
       "      <td>Iran wants to deploy 10 GW of renewables over ...</td>\n",
       "      <td>2022-03-01 00:00:00</td>\n",
       "      <td>NaN</td>\n",
       "      <td>['According to the Iranian authorities, there ...</td>\n",
       "      <td>pv-magazine</td>\n",
       "      <td>https://www.pv-magazine.com/2022/01/03/iran-wa...</td>\n",
       "    </tr>\n",
       "    <tr>\n",
       "      <th>4</th>\n",
       "      <td>31128</td>\n",
       "      <td>Eastern Interconnection Power Grid Said ‘ Bein...</td>\n",
       "      <td>2022-03-01 00:00:00</td>\n",
       "      <td>NaN</td>\n",
       "      <td>['Sign in to get the best natural gas news and...</td>\n",
       "      <td>naturalgasintel</td>\n",
       "      <td>https://www.naturalgasintel.com/eastern-interc...</td>\n",
       "    </tr>\n",
       "  </tbody>\n",
       "</table>\n",
       "</div>"
      ],
      "text/plain": [
       "   Unnamed: 0                                              title  \\\n",
       "0       93320          XPeng Delivered ~100,000 Vehicles In 2021   \n",
       "1       93321      Green Hydrogen: Drop In Bucket Or Big Splash?   \n",
       "2       98159  World’ s largest floating PV plant goes online...   \n",
       "3       98158  Iran wants to deploy 10 GW of renewables over ...   \n",
       "4       31128  Eastern Interconnection Power Grid Said ‘ Bein...   \n",
       "\n",
       "                  date  author  \\\n",
       "0  2022-02-01 00:00:00     NaN   \n",
       "1  2022-02-01 00:00:00     NaN   \n",
       "2  2022-03-01 00:00:00     NaN   \n",
       "3  2022-03-01 00:00:00     NaN   \n",
       "4  2022-03-01 00:00:00     NaN   \n",
       "\n",
       "                                             content           domain  \\\n",
       "0  ['Chinese automotive startup XPeng has shown o...    cleantechnica   \n",
       "1  ['Sinopec has laid plans to build the largest ...    cleantechnica   \n",
       "2  ['Huaneng Power International has switched on ...      pv-magazine   \n",
       "3  ['According to the Iranian authorities, there ...      pv-magazine   \n",
       "4  ['Sign in to get the best natural gas news and...  naturalgasintel   \n",
       "\n",
       "                                                 url  \n",
       "0  https://cleantechnica.com/2022/01/02/xpeng-del...  \n",
       "1  https://cleantechnica.com/2022/01/02/its-a-gre...  \n",
       "2  https://www.pv-magazine.com/2022/01/03/worlds-...  \n",
       "3  https://www.pv-magazine.com/2022/01/03/iran-wa...  \n",
       "4  https://www.naturalgasintel.com/eastern-interc...  "
      ]
     },
     "execution_count": 15,
     "metadata": {},
     "output_type": "execute_result"
    }
   ],
   "source": [
    "df.head()"
   ]
  },
  {
   "cell_type": "code",
   "execution_count": 16,
   "id": "b4c0fdb5",
   "metadata": {},
   "outputs": [
    {
     "name": "stdout",
     "output_type": "stream",
     "text": [
      "Unnamed: 0       0\n",
      "title            0\n",
      "date             0\n",
      "author        9938\n",
      "content          0\n",
      "domain           0\n",
      "url              0\n",
      "dtype: int64\n"
     ]
    },
    {
     "data": {
      "text/plain": [
       "(9938, 7)"
      ]
     },
     "execution_count": 16,
     "metadata": {},
     "output_type": "execute_result"
    }
   ],
   "source": [
    "print(df.isnull().sum())\n",
    "df.shape"
   ]
  },
  {
   "cell_type": "code",
   "execution_count": null,
   "id": "02a4fbac",
   "metadata": {},
   "outputs": [],
   "source": []
  },
  {
   "cell_type": "markdown",
   "id": "bdb74258",
   "metadata": {},
   "source": [
    "# Text Cleaning:\n",
    "**Preprocessing:** lowercase, delete numbers, punctuation and symbols (#\"*!&%), splitting, tokenizing?, removing stopwords, lemmatizing"
   ]
  },
  {
   "cell_type": "code",
   "execution_count": 17,
   "id": "04e43ad5",
   "metadata": {},
   "outputs": [
    {
     "data": {
      "text/html": [
       "<div>\n",
       "<style scoped>\n",
       "    .dataframe tbody tr th:only-of-type {\n",
       "        vertical-align: middle;\n",
       "    }\n",
       "\n",
       "    .dataframe tbody tr th {\n",
       "        vertical-align: top;\n",
       "    }\n",
       "\n",
       "    .dataframe thead th {\n",
       "        text-align: right;\n",
       "    }\n",
       "</style>\n",
       "<table border=\"1\" class=\"dataframe\">\n",
       "  <thead>\n",
       "    <tr style=\"text-align: right;\">\n",
       "      <th></th>\n",
       "      <th>date</th>\n",
       "      <th>domain</th>\n",
       "      <th>url</th>\n",
       "      <th>Clean Title</th>\n",
       "      <th>Clean Content</th>\n",
       "    </tr>\n",
       "  </thead>\n",
       "  <tbody>\n",
       "    <tr>\n",
       "      <th>0</th>\n",
       "      <td>2022-02-01 00:00:00</td>\n",
       "      <td>cleantechnica</td>\n",
       "      <td>https://cleantechnica.com/2022/01/02/xpeng-del...</td>\n",
       "      <td>xpeng delivered 100000 vehicles in 2021</td>\n",
       "      <td>chinese automotive startup xpeng has shown one...</td>\n",
       "    </tr>\n",
       "    <tr>\n",
       "      <th>1</th>\n",
       "      <td>2022-02-01 00:00:00</td>\n",
       "      <td>cleantechnica</td>\n",
       "      <td>https://cleantechnica.com/2022/01/02/its-a-gre...</td>\n",
       "      <td>green hydrogen drop in bucket or big splash</td>\n",
       "      <td>sinopec has laid plans to build the largest gr...</td>\n",
       "    </tr>\n",
       "    <tr>\n",
       "      <th>2</th>\n",
       "      <td>2022-03-01 00:00:00</td>\n",
       "      <td>pv-magazine</td>\n",
       "      <td>https://www.pv-magazine.com/2022/01/03/worlds-...</td>\n",
       "      <td>world’ s largest floating pv plant goes online...</td>\n",
       "      <td>huaneng power international has switched on a ...</td>\n",
       "    </tr>\n",
       "    <tr>\n",
       "      <th>3</th>\n",
       "      <td>2022-03-01 00:00:00</td>\n",
       "      <td>pv-magazine</td>\n",
       "      <td>https://www.pv-magazine.com/2022/01/03/iran-wa...</td>\n",
       "      <td>iran wants to deploy 10 gw of renewables over ...</td>\n",
       "      <td>according to the iranian authorities there are...</td>\n",
       "    </tr>\n",
       "    <tr>\n",
       "      <th>4</th>\n",
       "      <td>2022-03-01 00:00:00</td>\n",
       "      <td>naturalgasintel</td>\n",
       "      <td>https://www.naturalgasintel.com/eastern-interc...</td>\n",
       "      <td>eastern interconnection power grid said ‘ bein...</td>\n",
       "      <td>sign in to get the best natural gas news and d...</td>\n",
       "    </tr>\n",
       "  </tbody>\n",
       "</table>\n",
       "</div>"
      ],
      "text/plain": [
       "                  date           domain  \\\n",
       "0  2022-02-01 00:00:00    cleantechnica   \n",
       "1  2022-02-01 00:00:00    cleantechnica   \n",
       "2  2022-03-01 00:00:00      pv-magazine   \n",
       "3  2022-03-01 00:00:00      pv-magazine   \n",
       "4  2022-03-01 00:00:00  naturalgasintel   \n",
       "\n",
       "                                                 url  \\\n",
       "0  https://cleantechnica.com/2022/01/02/xpeng-del...   \n",
       "1  https://cleantechnica.com/2022/01/02/its-a-gre...   \n",
       "2  https://www.pv-magazine.com/2022/01/03/worlds-...   \n",
       "3  https://www.pv-magazine.com/2022/01/03/iran-wa...   \n",
       "4  https://www.naturalgasintel.com/eastern-interc...   \n",
       "\n",
       "                                         Clean Title  \\\n",
       "0            xpeng delivered 100000 vehicles in 2021   \n",
       "1        green hydrogen drop in bucket or big splash   \n",
       "2  world’ s largest floating pv plant goes online...   \n",
       "3  iran wants to deploy 10 gw of renewables over ...   \n",
       "4  eastern interconnection power grid said ‘ bein...   \n",
       "\n",
       "                                       Clean Content  \n",
       "0  chinese automotive startup xpeng has shown one...  \n",
       "1  sinopec has laid plans to build the largest gr...  \n",
       "2  huaneng power international has switched on a ...  \n",
       "3  according to the iranian authorities there are...  \n",
       "4  sign in to get the best natural gas news and d...  "
      ]
     },
     "execution_count": 17,
     "metadata": {},
     "output_type": "execute_result"
    }
   ],
   "source": [
    "stop_words = set(stopwords.words('english'))\n",
    "lemmatizer = WordNetLemmatizer()\n",
    "\n",
    "def preprocess_text(text):\n",
    "    text = text.lower()\n",
    "    text = text.translate(str.maketrans(\"\", \"\", string.punctuation))#takes 2 arguments \"\", \"\", for string.punctuation\n",
    "    #text = ''.join(char for char in text if not char.isdigit())\n",
    "\n",
    "    tokens = text.split()\n",
    "    #tokens = [word for word in tokens if word not in stop_words]\n",
    "    #tokens = [lemmatizer.lemmatize(word) for word in tokens]\n",
    "\n",
    "    return ' '.join(tokens)\n",
    "\n",
    "df['Clean Title'] = df['title'].apply(preprocess_text)\n",
    "df['Clean Content'] = df['content'].apply(preprocess_text)\n",
    "df_clean = df.copy()\n",
    "\n",
    "df_clean = df.drop(columns=['title','content', 'Unnamed: 0', \"author\"])\n",
    "df_clean.head()"
   ]
  },
  {
   "cell_type": "markdown",
   "id": "334ad824",
   "metadata": {},
   "source": [
    "# Change the column names:\n",
    "\"Date Published, Clean Title, Clean Article Text, Author\""
   ]
  },
  {
   "cell_type": "code",
   "execution_count": 18,
   "id": "36832a6f",
   "metadata": {},
   "outputs": [
    {
     "data": {
      "text/html": [
       "<div>\n",
       "<style scoped>\n",
       "    .dataframe tbody tr th:only-of-type {\n",
       "        vertical-align: middle;\n",
       "    }\n",
       "\n",
       "    .dataframe tbody tr th {\n",
       "        vertical-align: top;\n",
       "    }\n",
       "\n",
       "    .dataframe thead th {\n",
       "        text-align: right;\n",
       "    }\n",
       "</style>\n",
       "<table border=\"1\" class=\"dataframe\">\n",
       "  <thead>\n",
       "    <tr style=\"text-align: right;\">\n",
       "      <th></th>\n",
       "      <th>Date Published</th>\n",
       "      <th>Author</th>\n",
       "      <th>URL</th>\n",
       "      <th>Clean Title</th>\n",
       "      <th>Clean Article Text</th>\n",
       "    </tr>\n",
       "  </thead>\n",
       "  <tbody>\n",
       "    <tr>\n",
       "      <th>0</th>\n",
       "      <td>2022-02-01 00:00:00</td>\n",
       "      <td>cleantechnica</td>\n",
       "      <td>https://cleantechnica.com/2022/01/02/xpeng-del...</td>\n",
       "      <td>xpeng delivered 100000 vehicles in 2021</td>\n",
       "      <td>chinese automotive startup xpeng has shown one...</td>\n",
       "    </tr>\n",
       "    <tr>\n",
       "      <th>1</th>\n",
       "      <td>2022-02-01 00:00:00</td>\n",
       "      <td>cleantechnica</td>\n",
       "      <td>https://cleantechnica.com/2022/01/02/its-a-gre...</td>\n",
       "      <td>green hydrogen drop in bucket or big splash</td>\n",
       "      <td>sinopec has laid plans to build the largest gr...</td>\n",
       "    </tr>\n",
       "    <tr>\n",
       "      <th>2</th>\n",
       "      <td>2022-03-01 00:00:00</td>\n",
       "      <td>pv-magazine</td>\n",
       "      <td>https://www.pv-magazine.com/2022/01/03/worlds-...</td>\n",
       "      <td>world’ s largest floating pv plant goes online...</td>\n",
       "      <td>huaneng power international has switched on a ...</td>\n",
       "    </tr>\n",
       "    <tr>\n",
       "      <th>3</th>\n",
       "      <td>2022-03-01 00:00:00</td>\n",
       "      <td>pv-magazine</td>\n",
       "      <td>https://www.pv-magazine.com/2022/01/03/iran-wa...</td>\n",
       "      <td>iran wants to deploy 10 gw of renewables over ...</td>\n",
       "      <td>according to the iranian authorities there are...</td>\n",
       "    </tr>\n",
       "    <tr>\n",
       "      <th>4</th>\n",
       "      <td>2022-03-01 00:00:00</td>\n",
       "      <td>naturalgasintel</td>\n",
       "      <td>https://www.naturalgasintel.com/eastern-interc...</td>\n",
       "      <td>eastern interconnection power grid said ‘ bein...</td>\n",
       "      <td>sign in to get the best natural gas news and d...</td>\n",
       "    </tr>\n",
       "  </tbody>\n",
       "</table>\n",
       "</div>"
      ],
      "text/plain": [
       "        Date Published           Author  \\\n",
       "0  2022-02-01 00:00:00    cleantechnica   \n",
       "1  2022-02-01 00:00:00    cleantechnica   \n",
       "2  2022-03-01 00:00:00      pv-magazine   \n",
       "3  2022-03-01 00:00:00      pv-magazine   \n",
       "4  2022-03-01 00:00:00  naturalgasintel   \n",
       "\n",
       "                                                 URL  \\\n",
       "0  https://cleantechnica.com/2022/01/02/xpeng-del...   \n",
       "1  https://cleantechnica.com/2022/01/02/its-a-gre...   \n",
       "2  https://www.pv-magazine.com/2022/01/03/worlds-...   \n",
       "3  https://www.pv-magazine.com/2022/01/03/iran-wa...   \n",
       "4  https://www.naturalgasintel.com/eastern-interc...   \n",
       "\n",
       "                                         Clean Title  \\\n",
       "0            xpeng delivered 100000 vehicles in 2021   \n",
       "1        green hydrogen drop in bucket or big splash   \n",
       "2  world’ s largest floating pv plant goes online...   \n",
       "3  iran wants to deploy 10 gw of renewables over ...   \n",
       "4  eastern interconnection power grid said ‘ bein...   \n",
       "\n",
       "                                  Clean Article Text  \n",
       "0  chinese automotive startup xpeng has shown one...  \n",
       "1  sinopec has laid plans to build the largest gr...  \n",
       "2  huaneng power international has switched on a ...  \n",
       "3  according to the iranian authorities there are...  \n",
       "4  sign in to get the best natural gas news and d...  "
      ]
     },
     "execution_count": 18,
     "metadata": {},
     "output_type": "execute_result"
    }
   ],
   "source": [
    "df_clean = df_clean.rename(columns={\n",
    "    'date' : 'Date Published',\n",
    "    'Clean Content' : 'Clean Article Text',\n",
    "    'domain' : 'Author',\n",
    "    'url' : 'URL'\n",
    "    })\n",
    "df_clean.head()"
   ]
  },
  {
   "cell_type": "markdown",
   "id": "ea7d55c6",
   "metadata": {},
   "source": [
    "# Sentiment Analysis Testing\n",
    "Let's try different models, starting with the basic from \"Your first Transformers Challenge\" -- **\"twitter-roberta-base-sentiment-latest\"**"
   ]
  },
  {
   "cell_type": "code",
   "execution_count": 19,
   "id": "bc17e58d",
   "metadata": {},
   "outputs": [
    {
     "name": "stderr",
     "output_type": "stream",
     "text": [
      "python(37488) MallocStackLogging: can't turn off malloc stack logging because it was not enabled.\n"
     ]
    },
    {
     "name": "stdout",
     "output_type": "stream",
     "text": [
      "Requirement already satisfied: transformers in /Users/enrique/.pyenv/versions/3.10.6/envs/SolarSoundBytes/lib/python3.10/site-packages (4.52.4)\n",
      "Requirement already satisfied: torch in /Users/enrique/.pyenv/versions/3.10.6/envs/SolarSoundBytes/lib/python3.10/site-packages (2.7.0)\n",
      "Requirement already satisfied: filelock in /Users/enrique/.pyenv/versions/3.10.6/envs/SolarSoundBytes/lib/python3.10/site-packages (from transformers) (3.18.0)\n",
      "Requirement already satisfied: huggingface-hub<1.0,>=0.30.0 in /Users/enrique/.pyenv/versions/3.10.6/envs/SolarSoundBytes/lib/python3.10/site-packages (from transformers) (0.32.4)\n",
      "Requirement already satisfied: numpy>=1.17 in /Users/enrique/.pyenv/versions/3.10.6/envs/SolarSoundBytes/lib/python3.10/site-packages (from transformers) (1.26.4)\n",
      "Requirement already satisfied: packaging>=20.0 in /Users/enrique/.pyenv/versions/3.10.6/envs/SolarSoundBytes/lib/python3.10/site-packages (from transformers) (25.0)\n",
      "Requirement already satisfied: pyyaml>=5.1 in /Users/enrique/.pyenv/versions/3.10.6/envs/SolarSoundBytes/lib/python3.10/site-packages (from transformers) (6.0.2)\n",
      "Requirement already satisfied: regex!=2019.12.17 in /Users/enrique/.pyenv/versions/3.10.6/envs/SolarSoundBytes/lib/python3.10/site-packages (from transformers) (2024.11.6)\n",
      "Requirement already satisfied: requests in /Users/enrique/.pyenv/versions/3.10.6/envs/SolarSoundBytes/lib/python3.10/site-packages (from transformers) (2.32.3)\n",
      "Requirement already satisfied: tokenizers<0.22,>=0.21 in /Users/enrique/.pyenv/versions/3.10.6/envs/SolarSoundBytes/lib/python3.10/site-packages (from transformers) (0.21.1)\n",
      "Requirement already satisfied: safetensors>=0.4.3 in /Users/enrique/.pyenv/versions/3.10.6/envs/SolarSoundBytes/lib/python3.10/site-packages (from transformers) (0.5.3)\n",
      "Requirement already satisfied: tqdm>=4.27 in /Users/enrique/.pyenv/versions/3.10.6/envs/SolarSoundBytes/lib/python3.10/site-packages (from transformers) (4.67.1)\n",
      "Requirement already satisfied: fsspec>=2023.5.0 in /Users/enrique/.pyenv/versions/3.10.6/envs/SolarSoundBytes/lib/python3.10/site-packages (from huggingface-hub<1.0,>=0.30.0->transformers) (2025.3.0)\n",
      "Requirement already satisfied: typing-extensions>=3.7.4.3 in /Users/enrique/.pyenv/versions/3.10.6/envs/SolarSoundBytes/lib/python3.10/site-packages (from huggingface-hub<1.0,>=0.30.0->transformers) (4.14.0)\n",
      "Requirement already satisfied: hf-xet<2.0.0,>=1.1.2 in /Users/enrique/.pyenv/versions/3.10.6/envs/SolarSoundBytes/lib/python3.10/site-packages (from huggingface-hub<1.0,>=0.30.0->transformers) (1.1.2)\n",
      "Requirement already satisfied: sympy>=1.13.3 in /Users/enrique/.pyenv/versions/3.10.6/envs/SolarSoundBytes/lib/python3.10/site-packages (from torch) (1.14.0)\n",
      "Requirement already satisfied: networkx in /Users/enrique/.pyenv/versions/3.10.6/envs/SolarSoundBytes/lib/python3.10/site-packages (from torch) (3.4.2)\n",
      "Requirement already satisfied: jinja2 in /Users/enrique/.pyenv/versions/3.10.6/envs/SolarSoundBytes/lib/python3.10/site-packages (from torch) (3.1.6)\n",
      "Requirement already satisfied: mpmath<1.4,>=1.1.0 in /Users/enrique/.pyenv/versions/3.10.6/envs/SolarSoundBytes/lib/python3.10/site-packages (from sympy>=1.13.3->torch) (1.3.0)\n",
      "Requirement already satisfied: MarkupSafe>=2.0 in /Users/enrique/.pyenv/versions/3.10.6/envs/SolarSoundBytes/lib/python3.10/site-packages (from jinja2->torch) (3.0.2)\n",
      "Requirement already satisfied: charset-normalizer<4,>=2 in /Users/enrique/.pyenv/versions/3.10.6/envs/SolarSoundBytes/lib/python3.10/site-packages (from requests->transformers) (3.4.2)\n",
      "Requirement already satisfied: idna<4,>=2.5 in /Users/enrique/.pyenv/versions/3.10.6/envs/SolarSoundBytes/lib/python3.10/site-packages (from requests->transformers) (3.10)\n",
      "Requirement already satisfied: urllib3<3,>=1.21.1 in /Users/enrique/.pyenv/versions/3.10.6/envs/SolarSoundBytes/lib/python3.10/site-packages (from requests->transformers) (2.4.0)\n",
      "Requirement already satisfied: certifi>=2017.4.17 in /Users/enrique/.pyenv/versions/3.10.6/envs/SolarSoundBytes/lib/python3.10/site-packages (from requests->transformers) (2025.4.26)\n"
     ]
    },
    {
     "name": "stderr",
     "output_type": "stream",
     "text": [
      "python(37489) MallocStackLogging: can't turn off malloc stack logging because it was not enabled.\n"
     ]
    },
    {
     "name": "stdout",
     "output_type": "stream",
     "text": [
      "Requirement already satisfied: datasets in /Users/enrique/.pyenv/versions/3.10.6/envs/SolarSoundBytes/lib/python3.10/site-packages (3.6.0)\n",
      "Requirement already satisfied: filelock in /Users/enrique/.pyenv/versions/3.10.6/envs/SolarSoundBytes/lib/python3.10/site-packages (from datasets) (3.18.0)\n",
      "Requirement already satisfied: numpy>=1.17 in /Users/enrique/.pyenv/versions/3.10.6/envs/SolarSoundBytes/lib/python3.10/site-packages (from datasets) (1.26.4)\n",
      "Requirement already satisfied: pyarrow>=15.0.0 in /Users/enrique/.pyenv/versions/3.10.6/envs/SolarSoundBytes/lib/python3.10/site-packages (from datasets) (20.0.0)\n",
      "Requirement already satisfied: dill<0.3.9,>=0.3.0 in /Users/enrique/.pyenv/versions/3.10.6/envs/SolarSoundBytes/lib/python3.10/site-packages (from datasets) (0.3.8)\n",
      "Requirement already satisfied: pandas in /Users/enrique/.pyenv/versions/3.10.6/envs/SolarSoundBytes/lib/python3.10/site-packages (from datasets) (2.2.3)\n",
      "Requirement already satisfied: requests>=2.32.2 in /Users/enrique/.pyenv/versions/3.10.6/envs/SolarSoundBytes/lib/python3.10/site-packages (from datasets) (2.32.3)\n",
      "Requirement already satisfied: tqdm>=4.66.3 in /Users/enrique/.pyenv/versions/3.10.6/envs/SolarSoundBytes/lib/python3.10/site-packages (from datasets) (4.67.1)\n",
      "Requirement already satisfied: xxhash in /Users/enrique/.pyenv/versions/3.10.6/envs/SolarSoundBytes/lib/python3.10/site-packages (from datasets) (3.5.0)\n",
      "Requirement already satisfied: multiprocess<0.70.17 in /Users/enrique/.pyenv/versions/3.10.6/envs/SolarSoundBytes/lib/python3.10/site-packages (from datasets) (0.70.16)\n",
      "Requirement already satisfied: fsspec<=2025.3.0,>=2023.1.0 in /Users/enrique/.pyenv/versions/3.10.6/envs/SolarSoundBytes/lib/python3.10/site-packages (from fsspec[http]<=2025.3.0,>=2023.1.0->datasets) (2025.3.0)\n",
      "Requirement already satisfied: huggingface-hub>=0.24.0 in /Users/enrique/.pyenv/versions/3.10.6/envs/SolarSoundBytes/lib/python3.10/site-packages (from datasets) (0.32.4)\n",
      "Requirement already satisfied: packaging in /Users/enrique/.pyenv/versions/3.10.6/envs/SolarSoundBytes/lib/python3.10/site-packages (from datasets) (25.0)\n",
      "Requirement already satisfied: pyyaml>=5.1 in /Users/enrique/.pyenv/versions/3.10.6/envs/SolarSoundBytes/lib/python3.10/site-packages (from datasets) (6.0.2)\n",
      "Requirement already satisfied: aiohttp!=4.0.0a0,!=4.0.0a1 in /Users/enrique/.pyenv/versions/3.10.6/envs/SolarSoundBytes/lib/python3.10/site-packages (from fsspec[http]<=2025.3.0,>=2023.1.0->datasets) (3.12.8)\n",
      "Requirement already satisfied: aiohappyeyeballs>=2.5.0 in /Users/enrique/.pyenv/versions/3.10.6/envs/SolarSoundBytes/lib/python3.10/site-packages (from aiohttp!=4.0.0a0,!=4.0.0a1->fsspec[http]<=2025.3.0,>=2023.1.0->datasets) (2.6.1)\n",
      "Requirement already satisfied: aiosignal>=1.1.2 in /Users/enrique/.pyenv/versions/3.10.6/envs/SolarSoundBytes/lib/python3.10/site-packages (from aiohttp!=4.0.0a0,!=4.0.0a1->fsspec[http]<=2025.3.0,>=2023.1.0->datasets) (1.3.2)\n",
      "Requirement already satisfied: async-timeout<6.0,>=4.0 in /Users/enrique/.pyenv/versions/3.10.6/envs/SolarSoundBytes/lib/python3.10/site-packages (from aiohttp!=4.0.0a0,!=4.0.0a1->fsspec[http]<=2025.3.0,>=2023.1.0->datasets) (5.0.1)\n",
      "Requirement already satisfied: attrs>=17.3.0 in /Users/enrique/.pyenv/versions/3.10.6/envs/SolarSoundBytes/lib/python3.10/site-packages (from aiohttp!=4.0.0a0,!=4.0.0a1->fsspec[http]<=2025.3.0,>=2023.1.0->datasets) (25.3.0)\n",
      "Requirement already satisfied: frozenlist>=1.1.1 in /Users/enrique/.pyenv/versions/3.10.6/envs/SolarSoundBytes/lib/python3.10/site-packages (from aiohttp!=4.0.0a0,!=4.0.0a1->fsspec[http]<=2025.3.0,>=2023.1.0->datasets) (1.6.2)\n",
      "Requirement already satisfied: multidict<7.0,>=4.5 in /Users/enrique/.pyenv/versions/3.10.6/envs/SolarSoundBytes/lib/python3.10/site-packages (from aiohttp!=4.0.0a0,!=4.0.0a1->fsspec[http]<=2025.3.0,>=2023.1.0->datasets) (6.4.4)\n",
      "Requirement already satisfied: propcache>=0.2.0 in /Users/enrique/.pyenv/versions/3.10.6/envs/SolarSoundBytes/lib/python3.10/site-packages (from aiohttp!=4.0.0a0,!=4.0.0a1->fsspec[http]<=2025.3.0,>=2023.1.0->datasets) (0.3.1)\n",
      "Requirement already satisfied: yarl<2.0,>=1.17.0 in /Users/enrique/.pyenv/versions/3.10.6/envs/SolarSoundBytes/lib/python3.10/site-packages (from aiohttp!=4.0.0a0,!=4.0.0a1->fsspec[http]<=2025.3.0,>=2023.1.0->datasets) (1.20.0)\n",
      "Requirement already satisfied: typing-extensions>=4.1.0 in /Users/enrique/.pyenv/versions/3.10.6/envs/SolarSoundBytes/lib/python3.10/site-packages (from multidict<7.0,>=4.5->aiohttp!=4.0.0a0,!=4.0.0a1->fsspec[http]<=2025.3.0,>=2023.1.0->datasets) (4.14.0)\n",
      "Requirement already satisfied: idna>=2.0 in /Users/enrique/.pyenv/versions/3.10.6/envs/SolarSoundBytes/lib/python3.10/site-packages (from yarl<2.0,>=1.17.0->aiohttp!=4.0.0a0,!=4.0.0a1->fsspec[http]<=2025.3.0,>=2023.1.0->datasets) (3.10)\n",
      "Requirement already satisfied: hf-xet<2.0.0,>=1.1.2 in /Users/enrique/.pyenv/versions/3.10.6/envs/SolarSoundBytes/lib/python3.10/site-packages (from huggingface-hub>=0.24.0->datasets) (1.1.2)\n",
      "Requirement already satisfied: charset-normalizer<4,>=2 in /Users/enrique/.pyenv/versions/3.10.6/envs/SolarSoundBytes/lib/python3.10/site-packages (from requests>=2.32.2->datasets) (3.4.2)\n",
      "Requirement already satisfied: urllib3<3,>=1.21.1 in /Users/enrique/.pyenv/versions/3.10.6/envs/SolarSoundBytes/lib/python3.10/site-packages (from requests>=2.32.2->datasets) (2.4.0)\n",
      "Requirement already satisfied: certifi>=2017.4.17 in /Users/enrique/.pyenv/versions/3.10.6/envs/SolarSoundBytes/lib/python3.10/site-packages (from requests>=2.32.2->datasets) (2025.4.26)\n",
      "Requirement already satisfied: python-dateutil>=2.8.2 in /Users/enrique/.pyenv/versions/3.10.6/envs/SolarSoundBytes/lib/python3.10/site-packages (from pandas->datasets) (2.9.0.post0)\n",
      "Requirement already satisfied: pytz>=2020.1 in /Users/enrique/.pyenv/versions/3.10.6/envs/SolarSoundBytes/lib/python3.10/site-packages (from pandas->datasets) (2025.2)\n",
      "Requirement already satisfied: tzdata>=2022.7 in /Users/enrique/.pyenv/versions/3.10.6/envs/SolarSoundBytes/lib/python3.10/site-packages (from pandas->datasets) (2025.2)\n",
      "Requirement already satisfied: six>=1.5 in /Users/enrique/.pyenv/versions/3.10.6/envs/SolarSoundBytes/lib/python3.10/site-packages (from python-dateutil>=2.8.2->pandas->datasets) (1.17.0)\n",
      "zsh:1: no matches found: transformers[torch]\n"
     ]
    },
    {
     "name": "stderr",
     "output_type": "stream",
     "text": [
      "python(37507) MallocStackLogging: can't turn off malloc stack logging because it was not enabled.\n"
     ]
    }
   ],
   "source": [
    "!pip install transformers torch\n",
    "!pip install datasets\n",
    "!pip install transformers[torch]\n"
   ]
  },
  {
   "cell_type": "code",
   "execution_count": 20,
   "id": "fb34fd26",
   "metadata": {},
   "outputs": [
    {
     "name": "stderr",
     "output_type": "stream",
     "text": [
      "/Users/enrique/.pyenv/versions/3.10.6/envs/SolarSoundBytes/lib/python3.10/site-packages/tqdm/auto.py:21: TqdmWarning: IProgress not found. Please update jupyter and ipywidgets. See https://ipywidgets.readthedocs.io/en/stable/user_install.html\n",
      "  from .autonotebook import tqdm as notebook_tqdm\n",
      "[nltk_data] Downloading package punkt to /Users/enrique/nltk_data...\n",
      "[nltk_data]   Package punkt is already up-to-date!\n"
     ]
    }
   ],
   "source": [
    "import transformers\n",
    "from transformers import pipeline\n",
    "from transformers import AutoTokenizer, AutoModelForSequenceClassification\n",
    "import torch\n",
    "import nltk\n",
    "nltk.download('punkt')\n",
    "from nltk.tokenize import sent_tokenize\n",
    "from collections import Counter\n",
    "from sklearn.metrics import accuracy_score, precision_recall_fscore_support\n",
    "from datasets import Dataset, ClassLabel\n",
    "from transformers import TrainingArguments\n",
    "from transformers import Trainer\n"
   ]
  },
  {
   "cell_type": "markdown",
   "id": "363e361e",
   "metadata": {},
   "source": [
    "Setting up the model"
   ]
  },
  {
   "cell_type": "code",
   "execution_count": 21,
   "id": "803be1d9",
   "metadata": {},
   "outputs": [
    {
     "name": "stderr",
     "output_type": "stream",
     "text": [
      "Some weights of the model checkpoint at cardiffnlp/twitter-roberta-base-sentiment-latest were not used when initializing RobertaForSequenceClassification: ['roberta.pooler.dense.bias', 'roberta.pooler.dense.weight']\n",
      "- This IS expected if you are initializing RobertaForSequenceClassification from the checkpoint of a model trained on another task or with another architecture (e.g. initializing a BertForSequenceClassification model from a BertForPreTraining model).\n",
      "- This IS NOT expected if you are initializing RobertaForSequenceClassification from the checkpoint of a model that you expect to be exactly identical (initializing a BertForSequenceClassification model from a BertForSequenceClassification model).\n",
      "Device set to use mps:0\n"
     ]
    }
   ],
   "source": [
    "sentiment_pipeline = pipeline(\"sentiment-analysis\", model=\"cardiffnlp/twitter-roberta-base-sentiment-latest\")\n",
    "df_sample = df_clean.sample(n=100, random_state=42).copy()"
   ]
  },
  {
   "cell_type": "code",
   "execution_count": 25,
   "id": "328d212a",
   "metadata": {},
   "outputs": [
    {
     "name": "stderr",
     "output_type": "stream",
     "text": [
      "Some weights of the model checkpoint at cardiffnlp/twitter-roberta-base-sentiment-latest were not used when initializing RobertaForSequenceClassification: ['roberta.pooler.dense.bias', 'roberta.pooler.dense.weight']\n",
      "- This IS expected if you are initializing RobertaForSequenceClassification from the checkpoint of a model trained on another task or with another architecture (e.g. initializing a BertForSequenceClassification model from a BertForPreTraining model).\n",
      "- This IS NOT expected if you are initializing RobertaForSequenceClassification from the checkpoint of a model that you expect to be exactly identical (initializing a BertForSequenceClassification model from a BertForSequenceClassification model).\n",
      "Device set to use mps:0\n"
     ]
    },
    {
     "data": {
      "text/plain": [
       "<transformers.pipelines.text_classification.TextClassificationPipeline at 0x317220e50>"
      ]
     },
     "execution_count": 25,
     "metadata": {},
     "output_type": "execute_result"
    }
   ],
   "source": [
    "from transformers import pipeline\n",
    "\n",
    "sentiment_pipeline = pipeline(\"sentiment-analysis\", model=\"cardiffnlp/twitter-roberta-base-sentiment-latest\")\n",
    "sentiment_pipeline"
   ]
  },
  {
   "cell_type": "markdown",
   "id": "bb4d6ffe",
   "metadata": {},
   "source": [
    "We need to devide full articles into ***chunks*** of a **N** of sentences."
   ]
  },
  {
   "cell_type": "code",
   "execution_count": 42,
   "id": "7e9741f9",
   "metadata": {},
   "outputs": [],
   "source": [
    "def split_into_chunks(text, max_sentences=5):\n",
    "    \"Devide a text in chunks of N sentences\"\n",
    "    sentences = sent_tokenize(text)\n",
    "    return [' '.join(sentences[i:i+max_sentences]) for i in range(0, len(sentences), max_sentences)]\n"
   ]
  },
  {
   "cell_type": "code",
   "execution_count": 43,
   "id": "c5da5033",
   "metadata": {},
   "outputs": [],
   "source": [
    "\n",
    "def analyze_sentiment_chunked(text):\n",
    "    \"Analyse sentiment of chunks and labels 'mixed' if there is a meaningful draw\"\n",
    "    try:\n",
    "        chunks = split_into_chunks(text[:500])\n",
    "        results = [sentiment_pipeline(chunk, truncation=True)[0] for chunk in chunks] # Truncar textos muy largos en chunk por chunk\n",
    "\n",
    "        labels = [r['label'] for r in results]\n",
    "        scores = [r['score'] for r in results]\n",
    "\n",
    "        counter = Counter(labels)\n",
    "        majority_label, count = counter.most_common(1)[0]\n",
    "        avg_score = sum([s for l, s in zip(labels, scores) if l == majority_label]) / count\n",
    "\n",
    "        if avg_score < 0.4:\n",
    "            majority_label = 'NEUTRAL'\n",
    "\n",
    "        return pd.Series([majority_label, avg_score])\n",
    "    except Exception as e:\n",
    "        print(f\"Error en analyze_sentiment_chunked: {e}\")\n",
    "        return pd.Series([None, None])"
   ]
  },
  {
   "cell_type": "code",
   "execution_count": 44,
   "id": "b57f998c",
   "metadata": {},
   "outputs": [
    {
     "name": "stderr",
     "output_type": "stream",
     "text": [
      "Asking to truncate to max_length but no maximum length is provided and the model has no predefined maximum length. Default to no truncation.\n"
     ]
    },
    {
     "data": {
      "text/html": [
       "<div>\n",
       "<style scoped>\n",
       "    .dataframe tbody tr th:only-of-type {\n",
       "        vertical-align: middle;\n",
       "    }\n",
       "\n",
       "    .dataframe tbody tr th {\n",
       "        vertical-align: top;\n",
       "    }\n",
       "\n",
       "    .dataframe thead th {\n",
       "        text-align: right;\n",
       "    }\n",
       "</style>\n",
       "<table border=\"1\" class=\"dataframe\">\n",
       "  <thead>\n",
       "    <tr style=\"text-align: right;\">\n",
       "      <th></th>\n",
       "      <th>Date Published</th>\n",
       "      <th>Author</th>\n",
       "      <th>URL</th>\n",
       "      <th>Clean Title</th>\n",
       "      <th>Clean Article Text</th>\n",
       "      <th>sentiment</th>\n",
       "      <th>sentiment_conf</th>\n",
       "    </tr>\n",
       "  </thead>\n",
       "  <tbody>\n",
       "    <tr>\n",
       "      <th>19871</th>\n",
       "      <td>2024-04-10 00:00:00</td>\n",
       "      <td>solarpowerworldonline</td>\n",
       "      <td>https://www.solarpowerworldonline.com/2024/10/...</td>\n",
       "      <td>energy storage set to be ineligible for lowinc...</td>\n",
       "      <td>on october 3 the solar energy industries assoc...</td>\n",
       "      <td>neutral</td>\n",
       "      <td>0.713261</td>\n",
       "    </tr>\n",
       "    <tr>\n",
       "      <th>18081</th>\n",
       "      <td>2024-05-28</td>\n",
       "      <td>pv-magazine</td>\n",
       "      <td>https://www.pv-magazine.com/2024/05/28/brazils...</td>\n",
       "      <td>brazil’ s new pv additions hit 6 gw in january...</td>\n",
       "      <td>brazil added 6 gw of new pv capacity between j...</td>\n",
       "      <td>neutral</td>\n",
       "      <td>0.789715</td>\n",
       "    </tr>\n",
       "    <tr>\n",
       "      <th>2873</th>\n",
       "      <td>2022-08-30</td>\n",
       "      <td>cleantechnica</td>\n",
       "      <td>https://cleantechnica.com/2022/08/30/tesla-won...</td>\n",
       "      <td>tesla won big in california in 2nd quarter</td>\n",
       "      <td>yesterday we looked at the tesla model y’ s an...</td>\n",
       "      <td>neutral</td>\n",
       "      <td>0.767114</td>\n",
       "    </tr>\n",
       "    <tr>\n",
       "      <th>5967</th>\n",
       "      <td>2023-03-23</td>\n",
       "      <td>cleantechnica</td>\n",
       "      <td>https://cleantechnica.com/2023/03/23/freewire-...</td>\n",
       "      <td>freewire helps road ranger get ev charging sta...</td>\n",
       "      <td>installing ev fast chargers is an expensive pr...</td>\n",
       "      <td>negative</td>\n",
       "      <td>0.599376</td>\n",
       "    </tr>\n",
       "    <tr>\n",
       "      <th>7016</th>\n",
       "      <td>2023-04-05 00:00:00</td>\n",
       "      <td>azocleantech</td>\n",
       "      <td>https://www.azocleantech.com/book.aspx?SaleID=118</td>\n",
       "      <td>biomass gasification pyrolysis and torrefaction</td>\n",
       "      <td>by clicking allow all you agree to the storing...</td>\n",
       "      <td>positive</td>\n",
       "      <td>0.649786</td>\n",
       "    </tr>\n",
       "  </tbody>\n",
       "</table>\n",
       "</div>"
      ],
      "text/plain": [
       "            Date Published                 Author  \\\n",
       "19871  2024-04-10 00:00:00  solarpowerworldonline   \n",
       "18081           2024-05-28            pv-magazine   \n",
       "2873            2022-08-30          cleantechnica   \n",
       "5967            2023-03-23          cleantechnica   \n",
       "7016   2023-04-05 00:00:00           azocleantech   \n",
       "\n",
       "                                                     URL  \\\n",
       "19871  https://www.solarpowerworldonline.com/2024/10/...   \n",
       "18081  https://www.pv-magazine.com/2024/05/28/brazils...   \n",
       "2873   https://cleantechnica.com/2022/08/30/tesla-won...   \n",
       "5967   https://cleantechnica.com/2023/03/23/freewire-...   \n",
       "7016   https://www.azocleantech.com/book.aspx?SaleID=118   \n",
       "\n",
       "                                             Clean Title  \\\n",
       "19871  energy storage set to be ineligible for lowinc...   \n",
       "18081  brazil’ s new pv additions hit 6 gw in january...   \n",
       "2873          tesla won big in california in 2nd quarter   \n",
       "5967   freewire helps road ranger get ev charging sta...   \n",
       "7016     biomass gasification pyrolysis and torrefaction   \n",
       "\n",
       "                                      Clean Article Text sentiment  \\\n",
       "19871  on october 3 the solar energy industries assoc...   neutral   \n",
       "18081  brazil added 6 gw of new pv capacity between j...   neutral   \n",
       "2873   yesterday we looked at the tesla model y’ s an...   neutral   \n",
       "5967   installing ev fast chargers is an expensive pr...  negative   \n",
       "7016   by clicking allow all you agree to the storing...  positive   \n",
       "\n",
       "       sentiment_conf  \n",
       "19871        0.713261  \n",
       "18081        0.789715  \n",
       "2873         0.767114  \n",
       "5967         0.599376  \n",
       "7016         0.649786  "
      ]
     },
     "execution_count": 44,
     "metadata": {},
     "output_type": "execute_result"
    }
   ],
   "source": [
    "df_sample[['sentiment', 'sentiment_conf']] = df_sample['Clean Article Text'].apply(analyze_sentiment_chunked)\n",
    "df_sample.head()\n",
    "#df_sample.iloc[0]['Clean Article Text']"
   ]
  },
  {
   "cell_type": "code",
   "execution_count": 45,
   "id": "a40a8cfb",
   "metadata": {},
   "outputs": [
    {
     "data": {
      "text/plain": [
       "sentiment\n",
       "neutral     61\n",
       "positive    31\n",
       "negative     8\n",
       "Name: count, dtype: int64"
      ]
     },
     "execution_count": 45,
     "metadata": {},
     "output_type": "execute_result"
    }
   ],
   "source": [
    "df_sample['sentiment'].value_counts()"
   ]
  },
  {
   "cell_type": "code",
   "execution_count": 46,
   "id": "413c4aed",
   "metadata": {},
   "outputs": [
    {
     "name": "stdout",
     "output_type": "stream",
     "text": [
      "['four years on from the birth of its solar boom vietnam’ s largescale solar industry has been stunted by a lack of generic power purchase agreements ppa while the rooftop sector through strong in the commercial and industrial c i segment also faces hindrances from government the main growth in gridconnected pv took place between 2018 and 2020 shooting well past the government’ s initial expectations by a factor of four or more but the rug has been pulled out from under the feet of the bold developers who plunged into the southeast asian market despite all its welldocumented bankability risks since the boom there have been some retroactive forces to limit solar development which is understandable to some extent says gavin smith director of ukbased consultancy clean energy advisors who specialises in vietnam the sudden advancements caused considerable technical financial and political problems for the government adding stress to its management of energy markets mobilising enough capital equipment and expertise to afford the initial burst in solar deployment was a remarkable achievement says frederick burke senior advisor at law firm baker mckenzie it went from close to zero to a significant portion of the country’ s energy mix with around 16gw of pv deployed today split between 8gw of largescale projects and 8gw of rooftop installations however vietnam did not have the transmission lines set up to accommodate all the new capacity and some plants were built in remote locations or were highly concentrated in one province leading to curtailment issues nonetheless burke says that all developers knew the risks they were taking when they entered the market there was much prior discussion on the ppa that needed to be signed with the national monopoly utility evn because it allowed for evn to choose not to pay for energy generation and the legislation contained onerous termination terms but ppa conditions have become even more challenging in the last two years in the past there was a standardised solar ppa at a fixed price but now any largescale pv projects have to negotiate every term with evn says smith “ foreign investors could see lots of holes in the original ppa as it didn’ t meet international standards but at least they didn’ t have to spend five years negotiating it word by word with evn ” says smith “ they could actually look at a document take a risk assessment on it and then make the decision to invest or not invest at a price that was determined in advance that’ s gone as of june 2020 that offer is no longer on the table ” the ppa uncertainty leaves developers in what smith calls a “ horrible grey zone ” where they can not use an offtake agreement to attract financing and build a development case even if they have secured land and preliminary licensing many industry members were waiting on the ministry of industry and trade moit and the world bank to launch and facilitate a transparent auction system in 2021 or 2022 instead but they are still waiting to fix the issue the government issued circular 15 which was an instruction to evn and moit to make oneoff negotiations to buy power generated from new solar developments that had reached a certain stage in the licensing process however there has been confusion about which projects can access this very limited market says smith while the price to be paid for the electricity is subject to a complex formula which is likely to be suspended in negotiations with evn for many years the vietnam business forum vbf sent a letter to moit in november this year noting that it is still uncertain how the tariff for a specific transitional solar or wind plant will be defined and the industry which has already faced major delays due to the pandemic is in need of a timely solution thus it lobbied the ministry for two changes smith who does not think that vbf’ s letter will change government policy compares the situation with the us in the 1970s “ jimmy carter set a generous and attractive price for solar and then it was cut to zero ” he says “ that’ s effectively what vietnam has done you set a high price to attract everybody in – 80 developers succeeded in the first round of vietnam’ s developments – but then you cut it to nothing so you’ ve gone from 100 miles an hour to zero ” “ the removal of standardised ppa with a fixed price acceptance and the predetermined set of terms upon which you would sell power to evn has set the industry back dramatically ” smith concludes']\n"
     ]
    }
   ],
   "source": [
    "print(df_sample[df_sample['sentiment'] == 'negative'].sample()['Clean Article Text'].values)"
   ]
  },
  {
   "cell_type": "markdown",
   "id": "15e034f4",
   "metadata": {},
   "source": [
    "# Fine-Tuning"
   ]
  },
  {
   "cell_type": "code",
   "execution_count": 47,
   "id": "ce45363d",
   "metadata": {},
   "outputs": [
    {
     "data": {
      "text/html": [
       "<div>\n",
       "<style scoped>\n",
       "    .dataframe tbody tr th:only-of-type {\n",
       "        vertical-align: middle;\n",
       "    }\n",
       "\n",
       "    .dataframe tbody tr th {\n",
       "        vertical-align: top;\n",
       "    }\n",
       "\n",
       "    .dataframe thead th {\n",
       "        text-align: right;\n",
       "    }\n",
       "</style>\n",
       "<table border=\"1\" class=\"dataframe\">\n",
       "  <thead>\n",
       "    <tr style=\"text-align: right;\">\n",
       "      <th></th>\n",
       "      <th>Source</th>\n",
       "      <th>Author</th>\n",
       "      <th>Title</th>\n",
       "      <th>Description</th>\n",
       "      <th>URL</th>\n",
       "      <th>Published At</th>\n",
       "      <th>Sentiment</th>\n",
       "      <th>Type</th>\n",
       "    </tr>\n",
       "  </thead>\n",
       "  <tbody>\n",
       "    <tr>\n",
       "      <th>0</th>\n",
       "      <td>stgnews</td>\n",
       "      <td>Bridger Palmer</td>\n",
       "      <td>Pine View High teacher wins Best in State awar...</td>\n",
       "      <td>ST. GEORGE — Kaitlyn Larson, a first-year teac...</td>\n",
       "      <td>https://www.stgeorgeutah.com/news/archive/2024...</td>\n",
       "      <td>2024-07-12T23:45:25+00:00</td>\n",
       "      <td>positive</td>\n",
       "      <td>Business</td>\n",
       "    </tr>\n",
       "    <tr>\n",
       "      <th>1</th>\n",
       "      <td>Zimbabwe Mail</td>\n",
       "      <td>Staff Reporter</td>\n",
       "      <td>Businesses Face Financial Strain Amid Liquidit...</td>\n",
       "      <td>Harare, Zimbabwe – Local businesses are grappl...</td>\n",
       "      <td>https://www.thezimbabwemail.com/business/busin...</td>\n",
       "      <td>2024-07-12T22:59:42+00:00</td>\n",
       "      <td>neutral</td>\n",
       "      <td>Business</td>\n",
       "    </tr>\n",
       "  </tbody>\n",
       "</table>\n",
       "</div>"
      ],
      "text/plain": [
       "          Source          Author  \\\n",
       "0        stgnews  Bridger Palmer   \n",
       "1  Zimbabwe Mail  Staff Reporter   \n",
       "\n",
       "                                               Title  \\\n",
       "0  Pine View High teacher wins Best in State awar...   \n",
       "1  Businesses Face Financial Strain Amid Liquidit...   \n",
       "\n",
       "                                         Description  \\\n",
       "0  ST. GEORGE — Kaitlyn Larson, a first-year teac...   \n",
       "1  Harare, Zimbabwe – Local businesses are grappl...   \n",
       "\n",
       "                                                 URL  \\\n",
       "0  https://www.stgeorgeutah.com/news/archive/2024...   \n",
       "1  https://www.thezimbabwemail.com/business/busin...   \n",
       "\n",
       "                Published At Sentiment      Type  \n",
       "0  2024-07-12T23:45:25+00:00  positive  Business  \n",
       "1  2024-07-12T22:59:42+00:00   neutral  Business  "
      ]
     },
     "execution_count": 47,
     "metadata": {},
     "output_type": "execute_result"
    }
   ],
   "source": [
    "df_train = pd.read_csv('/Users/enrique/code/EFRdev/08-Final-Project/SolarSoundBytes/raw_data/ForTraining_news_sentiment_analysis.csv')\n",
    "df_train.head(2)"
   ]
  },
  {
   "cell_type": "code",
   "execution_count": 48,
   "id": "d1e99983",
   "metadata": {},
   "outputs": [
    {
     "data": {
      "text/plain": [
       "(3500, 8)"
      ]
     },
     "execution_count": 48,
     "metadata": {},
     "output_type": "execute_result"
    }
   ],
   "source": [
    "df_train.shape"
   ]
  },
  {
   "cell_type": "code",
   "execution_count": 49,
   "id": "9eef5ed1",
   "metadata": {},
   "outputs": [
    {
     "data": {
      "text/plain": [
       "dtype('O')"
      ]
     },
     "execution_count": 49,
     "metadata": {},
     "output_type": "execute_result"
    }
   ],
   "source": [
    "df_train['Published At'].dtype"
   ]
  },
  {
   "cell_type": "code",
   "execution_count": 50,
   "id": "20c7544f",
   "metadata": {},
   "outputs": [],
   "source": [
    "#df_train['Published At'] = pd.to_datetime(df_train['Published At'], dayfirst=True, errors='coerce')\n",
    "df_train['Published At'] = df_train['Published At'].astype(str)\n"
   ]
  },
  {
   "cell_type": "code",
   "execution_count": 51,
   "id": "8cb047d7",
   "metadata": {},
   "outputs": [
    {
     "name": "stdout",
     "output_type": "stream",
     "text": [
      "Index(['Source', 'Author', 'Title', 'Description', 'URL', 'Published At',\n",
      "       'Sentiment', 'Type'],\n",
      "      dtype='object')\n"
     ]
    }
   ],
   "source": [
    "df_train.columns = df_train.columns.str.strip()\n",
    "print(df_train.columns)"
   ]
  },
  {
   "cell_type": "code",
   "execution_count": null,
   "id": "3a7acaa6",
   "metadata": {},
   "outputs": [],
   "source": []
  },
  {
   "cell_type": "code",
   "execution_count": 58,
   "id": "dc2c9ae3",
   "metadata": {},
   "outputs": [],
   "source": [
    "label_list = ['negative', 'neutral', 'positive']\n",
    "label_to_id = {l: i for i, l in enumerate(label_list)}\n",
    "df_train['label_id'] = df_train['Sentiment'].map(label_to_id)\n",
    "\n",
    "#Turning Dataset into HuggingFace object\n",
    "dataset = Dataset.from_pandas(df_train)\n"
   ]
  },
  {
   "cell_type": "code",
   "execution_count": 60,
   "id": "780f5a3e",
   "metadata": {},
   "outputs": [
    {
     "name": "stdout",
     "output_type": "stream",
     "text": [
      "['Source', 'Author', 'Title', 'Description', 'URL', 'Published At', 'Sentiment', 'Type', 'label_id', 'input_ids', 'attention_mask']\n"
     ]
    }
   ],
   "source": [
    "print(tokenized_dataset.column_names)"
   ]
  },
  {
   "cell_type": "code",
   "execution_count": null,
   "id": "18d9eb1c",
   "metadata": {},
   "outputs": [
    {
     "ename": "NameError",
     "evalue": "name 'AutoTokenizer' is not defined",
     "output_type": "error",
     "traceback": [
      "\u001b[0;31m---------------------------------------------------------------------------\u001b[0m",
      "\u001b[0;31mNameError\u001b[0m                                 Traceback (most recent call last)",
      "Cell \u001b[0;32mIn[1], line 2\u001b[0m\n\u001b[1;32m      1\u001b[0m model_name \u001b[38;5;241m=\u001b[39m \u001b[38;5;124m\"\u001b[39m\u001b[38;5;124mdistilbert-base-uncased\u001b[39m\u001b[38;5;124m\"\u001b[39m\n\u001b[0;32m----> 2\u001b[0m tokenizer \u001b[38;5;241m=\u001b[39m \u001b[43mAutoTokenizer\u001b[49m\u001b[38;5;241m.\u001b[39mfrom_pretrained(model_name)\n\u001b[1;32m      3\u001b[0m model \u001b[38;5;241m=\u001b[39m AutoModelForSequenceClassification\u001b[38;5;241m.\u001b[39mfrom_pretrained(model_name, num_labels\u001b[38;5;241m=\u001b[39m\u001b[38;5;28mlen\u001b[39m(label_list))\n\u001b[1;32m      5\u001b[0m \u001b[38;5;66;03m#Tokenizing\u001b[39;00m\n",
      "\u001b[0;31mNameError\u001b[0m: name 'AutoTokenizer' is not defined"
     ]
    }
   ],
   "source": [
    "# Use a pipeline as a high-level helper\n",
    "from transformers import pipeline\n",
    "\n",
    "model_name = \"distilbert/distilbert-base-uncased\"\n",
    "tokenizer = AutoTokenizer.from_pretrained(model_name)\n",
    "model = AutoModelForSequenceClassification.from_pretrained(model_name, num_labels=len(label_list))\n",
    "\n",
    "#Tokenizing\n",
    "def tokenize_function(text):\n",
    "    return tokenizer(text[\"Description\"], truncation=True, padding='max_length', max_length=128)\n",
    "\n",
    "tokenized_dataset = dataset.map(tokenize_function, batched=True)\n",
    "\n",
    "#Split dataset train and val\n",
    "split = tokenized_dataset.train_test_split(test_size=0.2, seed=42)\n",
    "train_dataset = split['train']\n",
    "val_dataset = split['test']\n",
    "\n",
    "#Evaluation Metrics\n",
    "def compute_metrics(pred):\n",
    "    labels = pred.label_ids\n",
    "    preds = np.argmax(pred.predictions, axis=1)\n",
    "    precision, recall, f1, _ = precision_recall_fscore_support(labels, preds, average='weighted')\n",
    "    acc = accuracy_score(labels, preds)\n",
    "    return {'accuracy': acc, 'f1': f1, 'precision': precision, 'recall': recall}\n",
    "\n",
    "#Training set up & Training\n",
    "training_args = TrainingArguments(\n",
    "    output_dir=\"./results\",\n",
    "    learning_rate=2e-5,\n",
    "    per_device_train_batch_size=8,\n",
    "    per_device_eval_batch_size=8,\n",
    "    num_train_epochs=3,\n",
    "    weight_decay=0.01,\n",
    "    logging_dir=\"./logs\",\n",
    "    logging_steps=10,\n",
    "    save_total_limit=1,\n",
    ")\n",
    "\n",
    "trainer = Trainer(\n",
    "    model=model, args = training_args, train_dataset=train_dataset, eval_dataset = val_dataset, compute_metrics=compute_metrics)\n",
    "trainer.train()\n"
   ]
  },
  {
   "cell_type": "code",
   "execution_count": 269,
   "id": "78c5d79a",
   "metadata": {},
   "outputs": [
    {
     "name": "stdout",
     "output_type": "stream",
     "text": [
      "/Users/enrique/.pyenv/versions/3.10.6/envs/SolarSoundBytes/lib/python3.10/site-packages/transformers/__init__.py\n"
     ]
    }
   ],
   "source": [
    "import transformers\n",
    "print(transformers.__file__)"
   ]
  },
  {
   "cell_type": "code",
   "execution_count": 268,
   "id": "2cc488f7",
   "metadata": {},
   "outputs": [
    {
     "name": "stdout",
     "output_type": "stream",
     "text": [
      "4.52.4\n"
     ]
    }
   ],
   "source": [
    "import transformers\n",
    "print(transformers.__version__)"
   ]
  },
  {
   "cell_type": "code",
   "execution_count": 49,
   "id": "291901b3",
   "metadata": {},
   "outputs": [
    {
     "name": "stdout",
     "output_type": "stream",
     "text": [
      "1.7.0\n"
     ]
    }
   ],
   "source": [
    "import accelerate\n",
    "print(accelerate.__version__)\n"
   ]
  },
  {
   "cell_type": "code",
   "execution_count": 50,
   "id": "abd2f0aa",
   "metadata": {},
   "outputs": [
    {
     "name": "stdout",
     "output_type": "stream",
     "text": [
      "/Users/enrique/.pyenv/versions/3.10.6/envs/SolarSoundBytes/bin/python\n"
     ]
    }
   ],
   "source": [
    "import sys\n",
    "print(sys.executable)"
   ]
  },
  {
   "cell_type": "code",
   "execution_count": null,
   "id": "cf188cd8",
   "metadata": {},
   "outputs": [],
   "source": [
    "trainer.save_model(\"./modelo_finetuned\")\n",
    "tokenizer.save_pretrained(\"./modelo_finetuned\")"
   ]
  },
  {
   "cell_type": "code",
   "execution_count": null,
   "id": "b6aeb7d9",
   "metadata": {},
   "outputs": [],
   "source": []
  }
 ],
 "metadata": {
  "kernelspec": {
   "display_name": "SolarSoundBytes",
   "language": "python",
   "name": "python3"
  },
  "language_info": {
   "codemirror_mode": {
    "name": "ipython",
    "version": 3
   },
   "file_extension": ".py",
   "mimetype": "text/x-python",
   "name": "python",
   "nbconvert_exporter": "python",
   "pygments_lexer": "ipython3",
   "version": "3.10.6"
  }
 },
 "nbformat": 4,
 "nbformat_minor": 5
}
