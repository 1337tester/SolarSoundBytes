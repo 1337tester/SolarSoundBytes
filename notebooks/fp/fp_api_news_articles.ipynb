{
 "cells": [
  {
   "cell_type": "markdown",
   "id": "cd85efa9",
   "metadata": {},
   "source": [
    "# API call to get articles"
   ]
  },
  {
   "cell_type": "code",
   "execution_count": 1,
   "id": "c4389aff",
   "metadata": {},
   "outputs": [
    {
     "name": "stdout",
     "output_type": "stream",
     "text": [
      "Collecting dotenv\n",
      "  Downloading dotenv-0.9.9-py2.py3-none-any.whl.metadata (279 bytes)\n",
      "Collecting python-dotenv (from dotenv)\n",
      "  Using cached python_dotenv-1.1.0-py3-none-any.whl.metadata (24 kB)\n",
      "Downloading dotenv-0.9.9-py2.py3-none-any.whl (1.9 kB)\n",
      "Using cached python_dotenv-1.1.0-py3-none-any.whl (20 kB)\n",
      "Installing collected packages: python-dotenv, dotenv\n",
      "\u001b[2K   \u001b[90m━━━━━━━━━━━━━━━━━━━━━━━━━━━━━━━━━━━━━━━━\u001b[0m \u001b[32m2/2\u001b[0m [dotenv]\n",
      "\u001b[1A\u001b[2KSuccessfully installed dotenv-0.9.9 python-dotenv-1.1.0\n",
      "Note: you may need to restart the kernel to use updated packages.\n"
     ]
    }
   ],
   "source": [
    "%pip install dotenv"
   ]
  },
  {
   "cell_type": "code",
   "execution_count": null,
   "id": "3a333b11",
   "metadata": {},
   "outputs": [
    {
     "data": {
      "text/plain": [
       "{'totalArticles': 14,\n",
       " 'articles': [{'title': \"China's Ambitious Plan to Curb Emissions and Boost Energy Efficiency\",\n",
       "   'description': 'China aims to reduce carbon dioxide emissions by 1% of the 2023 national total through efficiency improvements in various industries. The plan includes making economic growth more energy-efficient by reducing energy use per GDP unit by 2.5% in 2024. Targets for renewable energy and energy storage are also outlined.',\n",
       "   'content': 'China aims to reduce the carbon dioxide emissions of key industries by an amount equivalent to about 1% of the 2023 national total through efficiency gains in everything from steel production to transportation, according to a government plan released on Wednesday.\\nChina, the world\\'s top energy consumer and largest greenhouse gas emitter, also set a target for making economic growth more energy efficient, a step in line with President Xi Jinping\\'s push for \"new productive forces.\" The government action plan said China\\'s economy would require 2.5% less energy for every unit of GDP growth in 2024. It proposed to hit that goal by pushing for specific changes in industries, including building materials and petrochemicals.\\nChina missed its energy intensity goal last year, and its desire to cut emissions and energy consumption is often at odds with the need to boost economic growth and living standards. Lauri Myllyvirta, senior fellow at Asia Society Policy Institute, said it was possible China\\'s CO2 emissions could have peaked in 2023, reflecting stalled growth in oil demand and expanding wind and solar and wind generation. China\\'s official target remains for CO2 emissions to peak before 2030.\\nThe plan repeated a target for non-fossil energy sources to make up about 20% of China\\'s total energy use in 2025, up from this year\\'s target of around 18.9%. The plan said China would \"strictly\" control coal consumption, \"reasonably\" control petroleum consumption and promote use of biofuel and sustainable aviation fuel.\\nFor natural gas - which Beijing sees as a bridge to reach its carbon-neutral goal by 2060 - the plan calls for the expedited development of resources such as shale gas and coal bed methane to boost domestic supply. It said the government would also prioritise gas use for winter heating of households. The plan calls for building large-scale renewable power complexes and the development of offshore wind power so that non-fossil energy sources would account for some 39% of total power generation by 2025, up from 33.9% in 2020.\\nIt also said China would increase a limit on the curtailment of renewable energy from 5% to 10%, and envisages the accelerated construction of ultra-high voltage transmission lines and grid system upgrades to address curtailment. Curtailment refers to curbing excess renewable electricity to maintain a balance between supply and demand.\\nSome areas have faced rising curtailment rates as increases in renewable power capacity have exceeded the capacity of the distribution system and batteries to either use or store that power. Albert Miao, head of Asia energy transition research at Macquarie, said the relaxed curtailment rule could lead to an additional 30GW of new solar capacity.\\nThe plan also set a target for China to have at least 40GW of new-type energy storage - which is largely made up of battery storage - by the end of 2025, up 33% from the previous goal. China had 35.3GW of installed new energy storage capacity as of the first quarter of 2024. The plan said China would gradually abolish restrictions on purchases of new energy vehicles in all parts of the country, and would implement policies that support such vehicles.\\nMoreover, according to the plan, the government would control production of metals, including copper and aluminium, while allowing the development of silicon, lithium and magnesium production, elements used in semiconductors and batteries. It said state agencies would \"vigorously develop\" metal recycling.\\n(This story has not been edited by Devdiscourse staff and is auto-generated from a syndicated feed.)',\n",
       "   'url': 'https://www.devdiscourse.com/article/headlines/2955037-chinas-ambitious-plan-to-curb-emissions-and-boost-energy-efficiency',\n",
       "   'image': 'https://www.devdiscourse.com/remote.axd?https://devdiscourse.blob.core.windows.net/aiimagegallery/29_05_2024_08_30_41_3209285.png?width=920&format=jpeg',\n",
       "   'publishedAt': '2024-05-30T06:48:06Z',\n",
       "   'source': {'name': 'Devdiscourse', 'url': 'https://www.devdiscourse.com'}},\n",
       "  {'title': 'Innergex says battery energy storage facility in northern Chile begins operations',\n",
       "   'description': 'MONTREAL — Innergex Renewable Energy Inc. says its San Andrés battery energy storage facility in northern Chile has started operations. The company says it is located on the site of its existing San Andrés solar facility.',\n",
       "   'content': 'MONTREAL — Innergex Renewable Energy Inc. says its San Andrés battery energy storage facility in northern Chile has started operations.\\nThe company says it is located on the site of its existing San Andrés solar facility.\\nDuring the day, the battery storage facility stores surplus solar energy that is later used in the evening and early mornings.\\nInnergex says the San Andrés battery facility is expected to generate annual revenue in a range of $8.2 million to $10.9 million.\\nOperating, general and administrative expenses for the facility are expected to reach $500,000 in the first full year of operation.\\nInnergex has operations in Canada, the United States, France and Chile.\\nThis report by The Canadian Press was first published May 21, 2024.\\nCompanies in this story: (TSX:INE)\\nThe Canadian Press',\n",
       "   'url': 'https://www.bradfordtoday.ca/national-business/innergex-says-battery-energy-storage-facility-in-northern-chile-begins-operations-8773115',\n",
       "   'image': 'https://www.vmcdn.ca/f/files/shared/feeds/cp/2024/05/20240521090548-c1adc033dc57fedb35e7aa89014a446b8d53698dbb114832ee11886ef29cdd0f.jpg;w=1200;h=800;mode=crop',\n",
       "   'publishedAt': '2024-05-21T14:06:34Z',\n",
       "   'source': {'name': 'BradfordToday', 'url': 'https://www.bradfordtoday.ca'}},\n",
       "  {'title': 'Innergex says battery energy storage facility in northern Chile begins operations',\n",
       "   'description': 'MONTREAL — Innergex Renewable Energy Inc. says its San Andrés battery energy storage facility in northern Chile has started operations. The company says it is located on the site of its existing San Andrés solar facility.',\n",
       "   'content': 'MONTREAL — Innergex Renewable Energy Inc. says its San Andrés battery energy storage facility in northern Chile has started operations.\\nThe company says it is located on the site of its existing San Andrés solar facility.\\nDuring the day, the battery storage facility stores surplus solar energy that is later used in the evening and early mornings.\\nInnergex says the San Andrés battery facility is expected to generate annual revenue in a range of $8.2 million to $10.9 million.\\nOperating, general and administrative expenses for the facility are expected to reach $500,000 in the first full year of operation.\\nInnergex has operations in Canada, the United States, France and Chile.\\nThis report by The Canadian Press was first published May 21, 2024.\\nCompanies in this story: (TSX:INE)\\nThe Canadian Press',\n",
       "   'url': 'https://www.sootoday.com/national-business/innergex-says-battery-energy-storage-facility-in-northern-chile-begins-operations-8773115',\n",
       "   'image': 'https://www.vmcdn.ca/f/files/shared/feeds/cp/2024/05/20240521090548-c1adc033dc57fedb35e7aa89014a446b8d53698dbb114832ee11886ef29cdd0f.jpg;w=1200;h=800;mode=crop',\n",
       "   'publishedAt': '2024-05-21T14:06:34Z',\n",
       "   'source': {'name': 'SooToday', 'url': 'https://www.sootoday.com'}},\n",
       "  {'title': 'Innergex says battery energy storage facility in northern Chile begins operations',\n",
       "   'description': 'MONTREAL — Innergex Renewable Energy Inc. says its San Andrés battery energy storage facility in northern Chile has started operations. The company says it is located on the site of its existing San Andrés solar facility.',\n",
       "   'content': 'MONTREAL — Innergex Renewable Energy Inc. says its San Andrés battery energy storage facility in northern Chile has started operations.\\nThe company says it is located on the site of its existing San Andrés solar facility.\\nDuring the day, the battery storage facility stores surplus solar energy that is later used in the evening and early mornings.\\nInnergex says the San Andrés battery facility is expected to generate annual revenue in a range of $8.2 million to $10.9 million.\\nOperating, general and administrative expenses for the facility are expected to reach $500,000 in the first full year of operation.\\nInnergex has operations in Canada, the United States, France and Chile.\\nThis report by The Canadian Press was first published May 21, 2024.\\nCompanies in this story: (TSX:INE)\\nThe Canadian Press',\n",
       "   'url': 'https://www.baytoday.ca/business/innergex-says-battery-energy-storage-facility-in-northern-chile-begins-operations-8773115',\n",
       "   'image': 'https://www.vmcdn.ca/f/files/shared/feeds/cp/2024/05/20240521090548-c1adc033dc57fedb35e7aa89014a446b8d53698dbb114832ee11886ef29cdd0f.jpg;w=1200;h=800;mode=crop',\n",
       "   'publishedAt': '2024-05-21T14:06:34Z',\n",
       "   'source': {'name': 'BayToday', 'url': 'https://www.baytoday.ca'}},\n",
       "  {'title': 'Innergex says battery energy storage facility in northern Chile begins operations',\n",
       "   'description': 'MONTREAL — Innergex Renewable Energy Inc. says its San Andrés battery energy storage facility in northern Chile has started operations. The company says it is located on the site of its existing San Andrés solar facility.',\n",
       "   'content': 'MONTREAL — Innergex Renewable Energy Inc. says its San Andrés battery energy storage facility in northern Chile has started operations. The company says it is located on the site of its existing San Andrés solar facility.\\nMONTREAL — Innergex Renewable Energy Inc. says its San Andrés battery energy storage facility in northern Chile has started operations.\\nThe company says it is located on the site of its existing San Andrés solar facility.\\nDuring the day, the battery storage facility stores surplus solar energy that is later used in the evening and early mornings.\\nInnergex says the San Andrés battery facility is expected to generate annual revenue in a range of $8.2 million to $10.9 million.\\nOperating, general and administrative expenses for the facility are expected to reach $500,000 in the first full year of operation.\\nInnergex has operations in Canada, the United States, France and Chile.\\nThis report by The Canadian Press was first published May 21, 2024.\\nCompanies in this story: (TSX:INE)\\nThe Canadian Press',\n",
       "   'url': 'https://www.vancouverisawesome.com/national-business/innergex-says-battery-energy-storage-facility-in-northern-chile-begins-operations-8773131',\n",
       "   'image': 'https://www.vmcdn.ca/f/files/shared/feeds/cp/2024/05/20240521090548-c1adc033dc57fedb35e7aa89014a446b8d53698dbb114832ee11886ef29cdd0f.jpg;w=1200;h=800;mode=crop',\n",
       "   'publishedAt': '2024-05-21T14:06:34Z',\n",
       "   'source': {'name': 'Vancouver Is Awesome',\n",
       "    'url': 'https://www.vancouverisawesome.com'}}]}"
      ]
     },
     "execution_count": 4,
     "metadata": {},
     "output_type": "execute_result"
    }
   ],
   "source": [
    "'''\n",
    "setting up api call pipeline to get news articles using GNews API\n",
    "\n",
    "we can get 25 articles per request\n",
    "we want min 10k articles\n",
    "assuming 1 articles is at least 10x longer than a tweet\n",
    "\n",
    "to spread max 1000 calls we can do per day\n",
    "we only need 400 calls to get 10k articles\n",
    "\n",
    "our dataset of 2022-01 - 2024- is about 1100 days\n",
    "to spread 400 calls evenly onto our dataset\n",
    "we call every 2 days\n",
    "\n",
    "\n",
    "'''\n",
    "import requests\n",
    "# from newspaper import Article\n",
    "import os\n",
    "from dotenv import load_dotenv\n",
    "\n",
    "# Load environment variables from .env file\n",
    "load_dotenv()\n",
    "\n",
    "# Get GNEWS_API_KEY from environment variables\n",
    "API_KEY = os.getenv(\"GNEWS_API_KEY\")\n",
    "\n",
    "# GNews API endpoint\n",
    "url = 'https://gnews.io/api/v4/search'\n",
    "\n",
    "# Define search parameters\n",
    "params = {\n",
    "    'q': '\"Renewable Energy\" AND \"Energy Storage\"',\n",
    "    'lang': 'en',\n",
    "    'max': 100,\n",
    "    'apikey': API_KEY,\n",
    "    'from': '2022-01-01T00:00:00Z',\n",
    "    'to': '2024-12-01T23:59:59Z',\n",
    "    'expand': 'content'  # get full article content\n",
    "}\n",
    "\n",
    "\n",
    "\n",
    "# Fetch news data\n",
    "response = requests.get(url, params=params)\n",
    "data = response.json()\n",
    "data\n",
    "\n",
    "# # Handle response\n",
    "# if response.status_code == 200:\n",
    "#     data = response.json()\n",
    "#     articles = data.get('articles', [])\n",
    "#     for i, article in enumerate(articles):\n",
    "#         print(f\"\\n:small_blue_diamond: Article {i+1}\")\n",
    "#         print(\":newspaper: Title:\", article['title'])\n",
    "#         print(\":link: URL:\", article['url'])\n",
    "#         print(\":memo: Description:\", article['description'])\n",
    "#         print(\":date: Published:\", article['publishedAt'])\n",
    "#         # Try extracting full article text\n",
    "#         try:\n",
    "#             news_article = Article(article['url'], language='en')\n",
    "#             news_article.download()\n",
    "#             news_article.parse()\n",
    "#             print(\":page_with_curl: Full Text:\\n\", news_article.text[:1000], \"...\")  # Print first 1000 chars\n",
    "#         except Exception as e:\n",
    "#             print(\":warning: Could not extract full text:\", e)\n",
    "#         print(\"=\" * 100)\n",
    "# else:\n",
    "#     print(\":x: Error:\", response.status_code)\n",
    "#     print(response.text)\n"
   ]
  },
  {
   "cell_type": "code",
   "execution_count": 2,
   "id": "a7d57722",
   "metadata": {},
   "outputs": [
    {
     "data": {
      "text/plain": [
       "<Response [200]>"
      ]
     },
     "execution_count": 2,
     "metadata": {},
     "output_type": "execute_result"
    }
   ],
   "source": [
    "response"
   ]
  }
 ],
 "metadata": {
  "kernelspec": {
   "display_name": "SolarSoundBytes",
   "language": "python",
   "name": "python3"
  },
  "language_info": {
   "codemirror_mode": {
    "name": "ipython",
    "version": 3
   },
   "file_extension": ".py",
   "mimetype": "text/x-python",
   "name": "python",
   "nbconvert_exporter": "python",
   "pygments_lexer": "ipython3",
   "version": "3.10.6"
  }
 },
 "nbformat": 4,
 "nbformat_minor": 5
}
