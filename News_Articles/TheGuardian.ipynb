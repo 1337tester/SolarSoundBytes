{
 "cells": [
  {
   "cell_type": "code",
   "execution_count": 6,
   "id": "9c2d4742",
   "metadata": {},
   "outputs": [],
   "source": [
    "import pandas as pd\n",
    "import numpy as np\n",
    "import string\n",
    "import re\n",
    "import nltk\n",
    "from nltk.tokenize import word_tokenize\n",
    "from nltk.corpus import stopwords\n",
    "from nltk.stem import WordNetLemmatizer\n"
   ]
  },
  {
   "cell_type": "markdown",
   "id": "4c87e616",
   "metadata": {},
   "source": [
    "# Dataset Overview"
   ]
  },
  {
   "cell_type": "code",
   "execution_count": 7,
   "id": "c5c92095",
   "metadata": {},
   "outputs": [
    {
     "data": {
      "text/html": [
       "<div>\n",
       "<style scoped>\n",
       "    .dataframe tbody tr th:only-of-type {\n",
       "        vertical-align: middle;\n",
       "    }\n",
       "\n",
       "    .dataframe tbody tr th {\n",
       "        vertical-align: top;\n",
       "    }\n",
       "\n",
       "    .dataframe thead th {\n",
       "        text-align: right;\n",
       "    }\n",
       "</style>\n",
       "<table border=\"1\" class=\"dataframe\">\n",
       "  <thead>\n",
       "    <tr style=\"text-align: right;\">\n",
       "      <th></th>\n",
       "      <th>Title</th>\n",
       "      <th>Intro Text</th>\n",
       "      <th>Authors</th>\n",
       "      <th>Article Text</th>\n",
       "      <th>Date Published</th>\n",
       "    </tr>\n",
       "  </thead>\n",
       "  <tbody>\n",
       "    <tr>\n",
       "      <th>0</th>\n",
       "      <td>Liz Truss ‘will approve more oil drilling if ...</td>\n",
       "      <td>Tory leadership candidate criticised by campai...</td>\n",
       "      <td>['Rob Davies', '@ByRobDavies']</td>\n",
       "      <td>Liz Truss will sign off on a push for more oil...</td>\n",
       "      <td>2022-08-30</td>\n",
       "    </tr>\n",
       "    <tr>\n",
       "      <th>1</th>\n",
       "      <td>Renewed Highland golf course plan has environm...</td>\n",
       "      <td>Scottish government rejected a new links at Co...</td>\n",
       "      <td>['Ewan Murray', '@mrewanmurray']</td>\n",
       "      <td>It is an area so tranquil that the notion of b...</td>\n",
       "      <td>2021-03-22</td>\n",
       "    </tr>\n",
       "    <tr>\n",
       "      <th>2</th>\n",
       "      <td>Visiting green spaces deters mental health dr...</td>\n",
       "      <td>Positive effects were stronger among those rep...</td>\n",
       "      <td>['Damien Gayle', '@damiengayle']</td>\n",
       "      <td>Visits to parks, community gardens and other u...</td>\n",
       "      <td>2023-01-17</td>\n",
       "    </tr>\n",
       "    <tr>\n",
       "      <th>3</th>\n",
       "      <td>Bought too much red cabbage? Turn it into a fe...</td>\n",
       "      <td>This fantastic vegan centrepiece makes full us...</td>\n",
       "      <td>['Tom Hunt']</td>\n",
       "      <td>I devised today’s nut roast for Oddbox, a veg ...</td>\n",
       "      <td>2023-12-22</td>\n",
       "    </tr>\n",
       "    <tr>\n",
       "      <th>4</th>\n",
       "      <td>‘This year has been very good’: readers’ UK bu...</td>\n",
       "      <td>Readers share their favourite sightings over t...</td>\n",
       "      <td>['Guardian readers']</td>\n",
       "      <td>‘Constant companions to our gardening’A peacoc...</td>\n",
       "      <td>2023-12-19</td>\n",
       "    </tr>\n",
       "  </tbody>\n",
       "</table>\n",
       "</div>"
      ],
      "text/plain": [
       "                                               Title  \\\n",
       "0   Liz Truss ‘will approve more oil drilling if ...   \n",
       "1  Renewed Highland golf course plan has environm...   \n",
       "2   Visiting green spaces deters mental health dr...   \n",
       "3  Bought too much red cabbage? Turn it into a fe...   \n",
       "4  ‘This year has been very good’: readers’ UK bu...   \n",
       "\n",
       "                                          Intro Text  \\\n",
       "0  Tory leadership candidate criticised by campai...   \n",
       "1  Scottish government rejected a new links at Co...   \n",
       "2  Positive effects were stronger among those rep...   \n",
       "3  This fantastic vegan centrepiece makes full us...   \n",
       "4  Readers share their favourite sightings over t...   \n",
       "\n",
       "                            Authors  \\\n",
       "0    ['Rob Davies', '@ByRobDavies']   \n",
       "1  ['Ewan Murray', '@mrewanmurray']   \n",
       "2  ['Damien Gayle', '@damiengayle']   \n",
       "3                      ['Tom Hunt']   \n",
       "4              ['Guardian readers']   \n",
       "\n",
       "                                        Article Text Date Published  \n",
       "0  Liz Truss will sign off on a push for more oil...     2022-08-30  \n",
       "1  It is an area so tranquil that the notion of b...     2021-03-22  \n",
       "2  Visits to parks, community gardens and other u...     2023-01-17  \n",
       "3  I devised today’s nut roast for Oddbox, a veg ...     2023-12-22  \n",
       "4  ‘Constant companions to our gardening’A peacoc...     2023-12-19  "
      ]
     },
     "execution_count": 7,
     "metadata": {},
     "output_type": "execute_result"
    }
   ],
   "source": [
    "df = pd.read_csv(\"/Users/enrique/code/EFRdev/08-Final-Project/SolarSoundBytes/raw_data/guardian_environment_news.csv\")\n",
    "df.head()"
   ]
  },
  {
   "cell_type": "code",
   "execution_count": 8,
   "id": "f258a5ff",
   "metadata": {},
   "outputs": [
    {
     "data": {
      "text/plain": [
       "(30059, 5)"
      ]
     },
     "execution_count": 8,
     "metadata": {},
     "output_type": "execute_result"
    }
   ],
   "source": [
    "df.shape"
   ]
  },
  {
   "cell_type": "markdown",
   "id": "b91c9216",
   "metadata": {},
   "source": [
    "# Delete or Impute Nulls Values"
   ]
  },
  {
   "cell_type": "code",
   "execution_count": 9,
   "id": "b4c0fdb5",
   "metadata": {},
   "outputs": [
    {
     "name": "stdout",
     "output_type": "stream",
     "text": [
      "Title              948\n",
      "Intro Text          82\n",
      "Authors           4570\n",
      "Article Text       368\n",
      "Date Published    2441\n",
      "dtype: int64\n"
     ]
    }
   ],
   "source": [
    "print(df.isnull().sum())"
   ]
  },
  {
   "cell_type": "code",
   "execution_count": 10,
   "id": "86c648d8",
   "metadata": {},
   "outputs": [
    {
     "data": {
      "text/plain": [
       "(23404, 5)"
      ]
     },
     "execution_count": 10,
     "metadata": {},
     "output_type": "execute_result"
    }
   ],
   "source": [
    "df = df.dropna(subset =['Article Text', 'Date Published', 'Authors'])\n",
    "df.shape"
   ]
  },
  {
   "cell_type": "code",
   "execution_count": 11,
   "id": "06049ab0",
   "metadata": {},
   "outputs": [],
   "source": [
    "df['Title'] = df['Title'].fillna('No Title')\n",
    "df['Intro Text'] = df['Intro Text'].fillna('No Intro Text')"
   ]
  },
  {
   "cell_type": "code",
   "execution_count": 12,
   "id": "92089261",
   "metadata": {},
   "outputs": [
    {
     "name": "stdout",
     "output_type": "stream",
     "text": [
      "Title             0\n",
      "Intro Text        0\n",
      "Authors           0\n",
      "Article Text      0\n",
      "Date Published    0\n",
      "dtype: int64\n"
     ]
    },
    {
     "data": {
      "text/plain": [
       "(23404, 5)"
      ]
     },
     "execution_count": 12,
     "metadata": {},
     "output_type": "execute_result"
    }
   ],
   "source": [
    "print(df.isnull().sum())\n",
    "\n",
    "df.shape"
   ]
  },
  {
   "cell_type": "code",
   "execution_count": 13,
   "id": "c08116f7",
   "metadata": {},
   "outputs": [
    {
     "data": {
      "text/html": [
       "<div>\n",
       "<style scoped>\n",
       "    .dataframe tbody tr th:only-of-type {\n",
       "        vertical-align: middle;\n",
       "    }\n",
       "\n",
       "    .dataframe tbody tr th {\n",
       "        vertical-align: top;\n",
       "    }\n",
       "\n",
       "    .dataframe thead th {\n",
       "        text-align: right;\n",
       "    }\n",
       "</style>\n",
       "<table border=\"1\" class=\"dataframe\">\n",
       "  <thead>\n",
       "    <tr style=\"text-align: right;\">\n",
       "      <th></th>\n",
       "      <th>Title</th>\n",
       "      <th>Intro Text</th>\n",
       "      <th>Authors</th>\n",
       "      <th>Article Text</th>\n",
       "      <th>Date Published</th>\n",
       "    </tr>\n",
       "  </thead>\n",
       "  <tbody>\n",
       "    <tr>\n",
       "      <th>0</th>\n",
       "      <td>Liz Truss ‘will approve more oil drilling if ...</td>\n",
       "      <td>Tory leadership candidate criticised by campai...</td>\n",
       "      <td>['Rob Davies', '@ByRobDavies']</td>\n",
       "      <td>Liz Truss will sign off on a push for more oil...</td>\n",
       "      <td>2022-08-30</td>\n",
       "    </tr>\n",
       "    <tr>\n",
       "      <th>1</th>\n",
       "      <td>Renewed Highland golf course plan has environm...</td>\n",
       "      <td>Scottish government rejected a new links at Co...</td>\n",
       "      <td>['Ewan Murray', '@mrewanmurray']</td>\n",
       "      <td>It is an area so tranquil that the notion of b...</td>\n",
       "      <td>2021-03-22</td>\n",
       "    </tr>\n",
       "    <tr>\n",
       "      <th>2</th>\n",
       "      <td>Visiting green spaces deters mental health dr...</td>\n",
       "      <td>Positive effects were stronger among those rep...</td>\n",
       "      <td>['Damien Gayle', '@damiengayle']</td>\n",
       "      <td>Visits to parks, community gardens and other u...</td>\n",
       "      <td>2023-01-17</td>\n",
       "    </tr>\n",
       "    <tr>\n",
       "      <th>3</th>\n",
       "      <td>Bought too much red cabbage? Turn it into a fe...</td>\n",
       "      <td>This fantastic vegan centrepiece makes full us...</td>\n",
       "      <td>['Tom Hunt']</td>\n",
       "      <td>I devised today’s nut roast for Oddbox, a veg ...</td>\n",
       "      <td>2023-12-22</td>\n",
       "    </tr>\n",
       "    <tr>\n",
       "      <th>4</th>\n",
       "      <td>‘This year has been very good’: readers’ UK bu...</td>\n",
       "      <td>Readers share their favourite sightings over t...</td>\n",
       "      <td>['Guardian readers']</td>\n",
       "      <td>‘Constant companions to our gardening’A peacoc...</td>\n",
       "      <td>2023-12-19</td>\n",
       "    </tr>\n",
       "  </tbody>\n",
       "</table>\n",
       "</div>"
      ],
      "text/plain": [
       "                                               Title  \\\n",
       "0   Liz Truss ‘will approve more oil drilling if ...   \n",
       "1  Renewed Highland golf course plan has environm...   \n",
       "2   Visiting green spaces deters mental health dr...   \n",
       "3  Bought too much red cabbage? Turn it into a fe...   \n",
       "4  ‘This year has been very good’: readers’ UK bu...   \n",
       "\n",
       "                                          Intro Text  \\\n",
       "0  Tory leadership candidate criticised by campai...   \n",
       "1  Scottish government rejected a new links at Co...   \n",
       "2  Positive effects were stronger among those rep...   \n",
       "3  This fantastic vegan centrepiece makes full us...   \n",
       "4  Readers share their favourite sightings over t...   \n",
       "\n",
       "                            Authors  \\\n",
       "0    ['Rob Davies', '@ByRobDavies']   \n",
       "1  ['Ewan Murray', '@mrewanmurray']   \n",
       "2  ['Damien Gayle', '@damiengayle']   \n",
       "3                      ['Tom Hunt']   \n",
       "4              ['Guardian readers']   \n",
       "\n",
       "                                        Article Text Date Published  \n",
       "0  Liz Truss will sign off on a push for more oil...     2022-08-30  \n",
       "1  It is an area so tranquil that the notion of b...     2021-03-22  \n",
       "2  Visits to parks, community gardens and other u...     2023-01-17  \n",
       "3  I devised today’s nut roast for Oddbox, a veg ...     2023-12-22  \n",
       "4  ‘Constant companions to our gardening’A peacoc...     2023-12-19  "
      ]
     },
     "execution_count": 13,
     "metadata": {},
     "output_type": "execute_result"
    }
   ],
   "source": [
    "df.head()"
   ]
  },
  {
   "cell_type": "markdown",
   "id": "bdb74258",
   "metadata": {},
   "source": [
    "# Text Cleaning:\n",
    "**Preprocessing:** lowercase, delete numbers, punctuation and symbols (#\"*!&%), splitting, tokenizing?, removing stopwords, lemmatizing"
   ]
  },
  {
   "cell_type": "code",
   "execution_count": 14,
   "id": "04e43ad5",
   "metadata": {},
   "outputs": [
    {
     "data": {
      "text/html": [
       "<div>\n",
       "<style scoped>\n",
       "    .dataframe tbody tr th:only-of-type {\n",
       "        vertical-align: middle;\n",
       "    }\n",
       "\n",
       "    .dataframe tbody tr th {\n",
       "        vertical-align: top;\n",
       "    }\n",
       "\n",
       "    .dataframe thead th {\n",
       "        text-align: right;\n",
       "    }\n",
       "</style>\n",
       "<table border=\"1\" class=\"dataframe\">\n",
       "  <thead>\n",
       "    <tr style=\"text-align: right;\">\n",
       "      <th></th>\n",
       "      <th>Date Published</th>\n",
       "      <th>Clean Title</th>\n",
       "      <th>Clean Intro Text</th>\n",
       "      <th>Clean Article Text</th>\n",
       "      <th>Author_Domain</th>\n",
       "    </tr>\n",
       "  </thead>\n",
       "  <tbody>\n",
       "    <tr>\n",
       "      <th>0</th>\n",
       "      <td>2022-08-30</td>\n",
       "      <td>liz truss ‘will approve oil drilling becomes pm’</td>\n",
       "      <td>tory leadership candidate criticised campaigne...</td>\n",
       "      <td>liz truss sign push oil drilling north sea win...</td>\n",
       "      <td>rob davy byrobdavies</td>\n",
       "    </tr>\n",
       "    <tr>\n",
       "      <th>1</th>\n",
       "      <td>2021-03-22</td>\n",
       "      <td>renewed highland golf course plan environmenta...</td>\n",
       "      <td>scottish government rejected new link coul pro...</td>\n",
       "      <td>area tranquil notion bitter dispute hugely ano...</td>\n",
       "      <td>ewan murray mrewanmurray</td>\n",
       "    </tr>\n",
       "    <tr>\n",
       "      <th>2</th>\n",
       "      <td>2023-01-17</td>\n",
       "      <td>visiting green space deters mental health drug...</td>\n",
       "      <td>positive effect stronger among reporting lowes...</td>\n",
       "      <td>visit park community garden urban green space ...</td>\n",
       "      <td>damien gayle damiengayle</td>\n",
       "    </tr>\n",
       "    <tr>\n",
       "      <th>3</th>\n",
       "      <td>2023-12-22</td>\n",
       "      <td>bought much red cabbage turn festive nut roast...</td>\n",
       "      <td>fantastic vegan centrepiece make full use oute...</td>\n",
       "      <td>devised today’s nut roast oddbox veg box outfi...</td>\n",
       "      <td>tom hunt</td>\n",
       "    </tr>\n",
       "    <tr>\n",
       "      <th>4</th>\n",
       "      <td>2023-12-19</td>\n",
       "      <td>‘this year good’ readers’ uk butterfly sighting</td>\n",
       "      <td>reader share favourite sighting summer news nu...</td>\n",
       "      <td>‘constant companion gardening’a peacock butter...</td>\n",
       "      <td>guardian reader</td>\n",
       "    </tr>\n",
       "  </tbody>\n",
       "</table>\n",
       "</div>"
      ],
      "text/plain": [
       "  Date Published                                        Clean Title  \\\n",
       "0     2022-08-30   liz truss ‘will approve oil drilling becomes pm’   \n",
       "1     2021-03-22  renewed highland golf course plan environmenta...   \n",
       "2     2023-01-17  visiting green space deters mental health drug...   \n",
       "3     2023-12-22  bought much red cabbage turn festive nut roast...   \n",
       "4     2023-12-19    ‘this year good’ readers’ uk butterfly sighting   \n",
       "\n",
       "                                    Clean Intro Text  \\\n",
       "0  tory leadership candidate criticised campaigne...   \n",
       "1  scottish government rejected new link coul pro...   \n",
       "2  positive effect stronger among reporting lowes...   \n",
       "3  fantastic vegan centrepiece make full use oute...   \n",
       "4  reader share favourite sighting summer news nu...   \n",
       "\n",
       "                                  Clean Article Text             Author_Domain  \n",
       "0  liz truss sign push oil drilling north sea win...      rob davy byrobdavies  \n",
       "1  area tranquil notion bitter dispute hugely ano...  ewan murray mrewanmurray  \n",
       "2  visit park community garden urban green space ...  damien gayle damiengayle  \n",
       "3  devised today’s nut roast oddbox veg box outfi...                  tom hunt  \n",
       "4  ‘constant companion gardening’a peacock butter...           guardian reader  "
      ]
     },
     "execution_count": 14,
     "metadata": {},
     "output_type": "execute_result"
    }
   ],
   "source": [
    "stop_words = set(stopwords.words('english'))\n",
    "lemmatizer = WordNetLemmatizer()\n",
    "\n",
    "def preprocess_text(text):\n",
    "    text = text.lower()\n",
    "    text = text.translate(str.maketrans(\"\",\"\", string.punctuation))\n",
    "    text = ''.join(char for char in text if not char.isdigit())\n",
    "\n",
    "    tokens = text.split()\n",
    "    tokens = [word for word in tokens if word not in stop_words]\n",
    "    tokens = [lemmatizer.lemmatize(word) for word in tokens]\n",
    "\n",
    "    return ' '.join(tokens)\n",
    "\n",
    "df['Clean Title'] = df['Title'].apply(preprocess_text)\n",
    "df['Clean Intro Text'] = df['Intro Text'].apply(preprocess_text)\n",
    "df['Clean Article Text'] = df['Article Text'].apply(preprocess_text)\n",
    "df['Author_Domain'] = df['Authors'].apply(preprocess_text)\n",
    "df_clean = df.copy()\n",
    "\n",
    "df_clean = df.drop(columns=['Title','Intro Text','Article Text', 'Authors'])\n",
    "df_clean.head()"
   ]
  },
  {
   "cell_type": "code",
   "execution_count": 15,
   "id": "8d0fc51d",
   "metadata": {},
   "outputs": [
    {
     "name": "stdout",
     "output_type": "stream",
     "text": [
      "datetime64[ns]\n"
     ]
    },
    {
     "name": "stderr",
     "output_type": "stream",
     "text": [
      "/var/folders/52/7ccrs33x6bl334rw1cb76c0h0000gn/T/ipykernel_41673/716457401.py:1: UserWarning: Parsing dates in %Y-%m-%d format when dayfirst=True was specified. Pass `dayfirst=False` or specify a format to silence this warning.\n",
      "  df_clean['Date Published'] = pd.to_datetime(df_clean['Date Published'], dayfirst=True, errors='coerce')\n"
     ]
    }
   ],
   "source": [
    "df_clean['Date Published'] = pd.to_datetime(df_clean['Date Published'], dayfirst=True, errors='coerce')\n",
    "print(df_clean['Date Published'].dtype)"
   ]
  },
  {
   "cell_type": "code",
   "execution_count": 17,
   "id": "221ae770",
   "metadata": {},
   "outputs": [
    {
     "data": {
      "text/html": [
       "<div>\n",
       "<style scoped>\n",
       "    .dataframe tbody tr th:only-of-type {\n",
       "        vertical-align: middle;\n",
       "    }\n",
       "\n",
       "    .dataframe tbody tr th {\n",
       "        vertical-align: top;\n",
       "    }\n",
       "\n",
       "    .dataframe thead th {\n",
       "        text-align: right;\n",
       "    }\n",
       "</style>\n",
       "<table border=\"1\" class=\"dataframe\">\n",
       "  <thead>\n",
       "    <tr style=\"text-align: right;\">\n",
       "      <th></th>\n",
       "      <th>Date Published</th>\n",
       "      <th>Clean Title</th>\n",
       "      <th>Clean Intro Text</th>\n",
       "      <th>Clean Article Text</th>\n",
       "      <th>Author_Domain</th>\n",
       "    </tr>\n",
       "  </thead>\n",
       "  <tbody>\n",
       "    <tr>\n",
       "      <th>0</th>\n",
       "      <td>2022-08-30</td>\n",
       "      <td>liz truss ‘will approve oil drilling becomes pm’</td>\n",
       "      <td>tory leadership candidate criticised campaigne...</td>\n",
       "      <td>liz truss sign push oil drilling north sea win...</td>\n",
       "      <td>rob davy byrobdavies</td>\n",
       "    </tr>\n",
       "    <tr>\n",
       "      <th>1</th>\n",
       "      <td>2021-03-22</td>\n",
       "      <td>renewed highland golf course plan environmenta...</td>\n",
       "      <td>scottish government rejected new link coul pro...</td>\n",
       "      <td>area tranquil notion bitter dispute hugely ano...</td>\n",
       "      <td>ewan murray mrewanmurray</td>\n",
       "    </tr>\n",
       "    <tr>\n",
       "      <th>2</th>\n",
       "      <td>2023-01-17</td>\n",
       "      <td>visiting green space deters mental health drug...</td>\n",
       "      <td>positive effect stronger among reporting lowes...</td>\n",
       "      <td>visit park community garden urban green space ...</td>\n",
       "      <td>damien gayle damiengayle</td>\n",
       "    </tr>\n",
       "    <tr>\n",
       "      <th>3</th>\n",
       "      <td>2023-12-22</td>\n",
       "      <td>bought much red cabbage turn festive nut roast...</td>\n",
       "      <td>fantastic vegan centrepiece make full use oute...</td>\n",
       "      <td>devised today’s nut roast oddbox veg box outfi...</td>\n",
       "      <td>tom hunt</td>\n",
       "    </tr>\n",
       "    <tr>\n",
       "      <th>4</th>\n",
       "      <td>2023-12-19</td>\n",
       "      <td>‘this year good’ readers’ uk butterfly sighting</td>\n",
       "      <td>reader share favourite sighting summer news nu...</td>\n",
       "      <td>‘constant companion gardening’a peacock butter...</td>\n",
       "      <td>guardian reader</td>\n",
       "    </tr>\n",
       "  </tbody>\n",
       "</table>\n",
       "</div>"
      ],
      "text/plain": [
       "  Date Published                                        Clean Title  \\\n",
       "0     2022-08-30   liz truss ‘will approve oil drilling becomes pm’   \n",
       "1     2021-03-22  renewed highland golf course plan environmenta...   \n",
       "2     2023-01-17  visiting green space deters mental health drug...   \n",
       "3     2023-12-22  bought much red cabbage turn festive nut roast...   \n",
       "4     2023-12-19    ‘this year good’ readers’ uk butterfly sighting   \n",
       "\n",
       "                                    Clean Intro Text  \\\n",
       "0  tory leadership candidate criticised campaigne...   \n",
       "1  scottish government rejected new link coul pro...   \n",
       "2  positive effect stronger among reporting lowes...   \n",
       "3  fantastic vegan centrepiece make full use oute...   \n",
       "4  reader share favourite sighting summer news nu...   \n",
       "\n",
       "                                  Clean Article Text             Author_Domain  \n",
       "0  liz truss sign push oil drilling north sea win...      rob davy byrobdavies  \n",
       "1  area tranquil notion bitter dispute hugely ano...  ewan murray mrewanmurray  \n",
       "2  visit park community garden urban green space ...  damien gayle damiengayle  \n",
       "3  devised today’s nut roast oddbox veg box outfi...                  tom hunt  \n",
       "4  ‘constant companion gardening’a peacock butter...           guardian reader  "
      ]
     },
     "execution_count": 17,
     "metadata": {},
     "output_type": "execute_result"
    }
   ],
   "source": [
    "df_clean.head()"
   ]
  },
  {
   "cell_type": "markdown",
   "id": "53e0d5fb",
   "metadata": {},
   "source": [
    "# Sentiment Analysis"
   ]
  },
  {
   "cell_type": "code",
   "execution_count": 18,
   "id": "abcc6118",
   "metadata": {},
   "outputs": [],
   "source": [
    "from transformers import pipeline\n",
    "from transformers import AutoTokenizer, AutoModelForSequenceClassification\n",
    "import torch"
   ]
  },
  {
   "cell_type": "code",
   "execution_count": 19,
   "id": "6175a687",
   "metadata": {},
   "outputs": [
    {
     "name": "stderr",
     "output_type": "stream",
     "text": [
      "Device set to use mps:0\n"
     ]
    }
   ],
   "source": [
    "sentiment_pipeline = pipeline(\"sentiment-analysis\", model=\"distilbert-base-uncased-finetuned-sst-2-english\")\n"
   ]
  },
  {
   "cell_type": "code",
   "execution_count": 20,
   "id": "7c098f63",
   "metadata": {},
   "outputs": [],
   "source": [
    "def analyze_sentiment(text):\n",
    "    try:\n",
    "        result = sentiment_pipeline(text[:500])[0]  # Evitar textos muy largos\n",
    "        return pd.Series([result['label'], result['score']])\n",
    "    except:\n",
    "        return pd.Series([None, None])"
   ]
  },
  {
   "cell_type": "code",
   "execution_count": 23,
   "id": "de81d65c",
   "metadata": {},
   "outputs": [
    {
     "data": {
      "text/html": [
       "<div>\n",
       "<style scoped>\n",
       "    .dataframe tbody tr th:only-of-type {\n",
       "        vertical-align: middle;\n",
       "    }\n",
       "\n",
       "    .dataframe tbody tr th {\n",
       "        vertical-align: top;\n",
       "    }\n",
       "\n",
       "    .dataframe thead th {\n",
       "        text-align: right;\n",
       "    }\n",
       "</style>\n",
       "<table border=\"1\" class=\"dataframe\">\n",
       "  <thead>\n",
       "    <tr style=\"text-align: right;\">\n",
       "      <th></th>\n",
       "      <th>Date Published</th>\n",
       "      <th>Clean Title</th>\n",
       "      <th>Clean Intro Text</th>\n",
       "      <th>Clean Article Text</th>\n",
       "      <th>Author_Domain</th>\n",
       "      <th>sentiment</th>\n",
       "      <th>sentiment_conf</th>\n",
       "    </tr>\n",
       "  </thead>\n",
       "  <tbody>\n",
       "    <tr>\n",
       "      <th>0</th>\n",
       "      <td>2022-08-30</td>\n",
       "      <td>liz truss ‘will approve oil drilling becomes pm’</td>\n",
       "      <td>tory leadership candidate criticised campaigne...</td>\n",
       "      <td>liz truss sign push oil drilling north sea win...</td>\n",
       "      <td>rob davy byrobdavies</td>\n",
       "      <td>NEGATIVE</td>\n",
       "      <td>0.988882</td>\n",
       "    </tr>\n",
       "    <tr>\n",
       "      <th>1</th>\n",
       "      <td>2021-03-22</td>\n",
       "      <td>renewed highland golf course plan environmenta...</td>\n",
       "      <td>scottish government rejected new link coul pro...</td>\n",
       "      <td>area tranquil notion bitter dispute hugely ano...</td>\n",
       "      <td>ewan murray mrewanmurray</td>\n",
       "      <td>NEGATIVE</td>\n",
       "      <td>0.989860</td>\n",
       "    </tr>\n",
       "    <tr>\n",
       "      <th>2</th>\n",
       "      <td>2023-01-17</td>\n",
       "      <td>visiting green space deters mental health drug...</td>\n",
       "      <td>positive effect stronger among reporting lowes...</td>\n",
       "      <td>visit park community garden urban green space ...</td>\n",
       "      <td>damien gayle damiengayle</td>\n",
       "      <td>NEGATIVE</td>\n",
       "      <td>0.973724</td>\n",
       "    </tr>\n",
       "    <tr>\n",
       "      <th>3</th>\n",
       "      <td>2023-12-22</td>\n",
       "      <td>bought much red cabbage turn festive nut roast...</td>\n",
       "      <td>fantastic vegan centrepiece make full use oute...</td>\n",
       "      <td>devised today’s nut roast oddbox veg box outfi...</td>\n",
       "      <td>tom hunt</td>\n",
       "      <td>POSITIVE</td>\n",
       "      <td>0.982985</td>\n",
       "    </tr>\n",
       "    <tr>\n",
       "      <th>4</th>\n",
       "      <td>2023-12-19</td>\n",
       "      <td>‘this year good’ readers’ uk butterfly sighting</td>\n",
       "      <td>reader share favourite sighting summer news nu...</td>\n",
       "      <td>‘constant companion gardening’a peacock butter...</td>\n",
       "      <td>guardian reader</td>\n",
       "      <td>POSITIVE</td>\n",
       "      <td>0.994466</td>\n",
       "    </tr>\n",
       "  </tbody>\n",
       "</table>\n",
       "</div>"
      ],
      "text/plain": [
       "  Date Published                                        Clean Title  \\\n",
       "0     2022-08-30   liz truss ‘will approve oil drilling becomes pm’   \n",
       "1     2021-03-22  renewed highland golf course plan environmenta...   \n",
       "2     2023-01-17  visiting green space deters mental health drug...   \n",
       "3     2023-12-22  bought much red cabbage turn festive nut roast...   \n",
       "4     2023-12-19    ‘this year good’ readers’ uk butterfly sighting   \n",
       "\n",
       "                                    Clean Intro Text  \\\n",
       "0  tory leadership candidate criticised campaigne...   \n",
       "1  scottish government rejected new link coul pro...   \n",
       "2  positive effect stronger among reporting lowes...   \n",
       "3  fantastic vegan centrepiece make full use oute...   \n",
       "4  reader share favourite sighting summer news nu...   \n",
       "\n",
       "                                  Clean Article Text  \\\n",
       "0  liz truss sign push oil drilling north sea win...   \n",
       "1  area tranquil notion bitter dispute hugely ano...   \n",
       "2  visit park community garden urban green space ...   \n",
       "3  devised today’s nut roast oddbox veg box outfi...   \n",
       "4  ‘constant companion gardening’a peacock butter...   \n",
       "\n",
       "              Author_Domain sentiment  sentiment_conf  \n",
       "0      rob davy byrobdavies  NEGATIVE        0.988882  \n",
       "1  ewan murray mrewanmurray  NEGATIVE        0.989860  \n",
       "2  damien gayle damiengayle  NEGATIVE        0.973724  \n",
       "3                  tom hunt  POSITIVE        0.982985  \n",
       "4           guardian reader  POSITIVE        0.994466  "
      ]
     },
     "execution_count": 23,
     "metadata": {},
     "output_type": "execute_result"
    }
   ],
   "source": [
    "df_clean[['sentiment', 'sentiment_conf']] = df_clean['Clean Article Text'].apply(analyze_sentiment)\n",
    "df_clean.head()"
   ]
  },
  {
   "cell_type": "code",
   "execution_count": 25,
   "id": "429f174c",
   "metadata": {},
   "outputs": [
    {
     "data": {
      "text/plain": [
       "sentiment\n",
       "NEGATIVE    19784\n",
       "POSITIVE     3620\n",
       "Name: count, dtype: int64"
      ]
     },
     "execution_count": 25,
     "metadata": {},
     "output_type": "execute_result"
    }
   ],
   "source": [
    "df_clean['sentiment'].value_counts()"
   ]
  },
  {
   "cell_type": "code",
   "execution_count": 28,
   "id": "ae00a71d",
   "metadata": {},
   "outputs": [
    {
     "data": {
      "text/html": [
       "<div>\n",
       "<style scoped>\n",
       "    .dataframe tbody tr th:only-of-type {\n",
       "        vertical-align: middle;\n",
       "    }\n",
       "\n",
       "    .dataframe tbody tr th {\n",
       "        vertical-align: top;\n",
       "    }\n",
       "\n",
       "    .dataframe thead th {\n",
       "        text-align: right;\n",
       "    }\n",
       "</style>\n",
       "<table border=\"1\" class=\"dataframe\">\n",
       "  <thead>\n",
       "    <tr style=\"text-align: right;\">\n",
       "      <th></th>\n",
       "      <th>Date Published</th>\n",
       "      <th>Clean Title</th>\n",
       "      <th>Clean Intro Text</th>\n",
       "      <th>Clean Article Text</th>\n",
       "      <th>Author_Domain</th>\n",
       "      <th>sentiment</th>\n",
       "      <th>sentiment_conf</th>\n",
       "    </tr>\n",
       "  </thead>\n",
       "  <tbody>\n",
       "    <tr>\n",
       "      <th>7781</th>\n",
       "      <td>2022-08-25</td>\n",
       "      <td>solar panel fix energy bill sun shine</td>\n",
       "      <td>demand go roof struggling british household tr...</td>\n",
       "      <td>british household racing install rooftop solar...</td>\n",
       "      <td>patrick collinson</td>\n",
       "      <td>NEGATIVE</td>\n",
       "      <td>0.577317</td>\n",
       "    </tr>\n",
       "    <tr>\n",
       "      <th>16559</th>\n",
       "      <td>2019-11-24</td>\n",
       "      <td>uk weather north england brace heavy rainfall</td>\n",
       "      <td>weather warning place lincolnshire nottinghams...</td>\n",
       "      <td>part northern england midland devastated sever...</td>\n",
       "      <td>josh halliday north england correspondent</td>\n",
       "      <td>NEGATIVE</td>\n",
       "      <td>0.993934</td>\n",
       "    </tr>\n",
       "    <tr>\n",
       "      <th>4016</th>\n",
       "      <td>2022-10-19</td>\n",
       "      <td>fish oil fishmeal industry harming food securi...</td>\n",
       "      <td>campaigner say sector lead overexploitation st...</td>\n",
       "      <td>un’s food agency warned “overexploitation” fis...</td>\n",
       "      <td>seascape state ocean supported content karen m...</td>\n",
       "      <td>NEGATIVE</td>\n",
       "      <td>0.998585</td>\n",
       "    </tr>\n",
       "    <tr>\n",
       "      <th>7317</th>\n",
       "      <td>2021-10-31</td>\n",
       "      <td>australia’s net zero plan could cost far bn al...</td>\n",
       "      <td>energy minister refuse detail full cost reachi...</td>\n",
       "      <td>coalition’s “technology taxes” plan net zero e...</td>\n",
       "      <td>katharine murphy paul karp</td>\n",
       "      <td>NEGATIVE</td>\n",
       "      <td>0.992748</td>\n",
       "    </tr>\n",
       "    <tr>\n",
       "      <th>18899</th>\n",
       "      <td>2020-08-25</td>\n",
       "      <td>pupils’ climate change strike threat pose dile...</td>\n",
       "      <td>thousand pupil set absent february putting sch...</td>\n",
       "      <td>headteachers across country week faced tricky ...</td>\n",
       "      <td>jamie doward</td>\n",
       "      <td>NEGATIVE</td>\n",
       "      <td>0.993159</td>\n",
       "    </tr>\n",
       "  </tbody>\n",
       "</table>\n",
       "</div>"
      ],
      "text/plain": [
       "      Date Published                                        Clean Title  \\\n",
       "7781      2022-08-25              solar panel fix energy bill sun shine   \n",
       "16559     2019-11-24      uk weather north england brace heavy rainfall   \n",
       "4016      2022-10-19  fish oil fishmeal industry harming food securi...   \n",
       "7317      2021-10-31  australia’s net zero plan could cost far bn al...   \n",
       "18899     2020-08-25  pupils’ climate change strike threat pose dile...   \n",
       "\n",
       "                                        Clean Intro Text  \\\n",
       "7781   demand go roof struggling british household tr...   \n",
       "16559  weather warning place lincolnshire nottinghams...   \n",
       "4016   campaigner say sector lead overexploitation st...   \n",
       "7317   energy minister refuse detail full cost reachi...   \n",
       "18899  thousand pupil set absent february putting sch...   \n",
       "\n",
       "                                      Clean Article Text  \\\n",
       "7781   british household racing install rooftop solar...   \n",
       "16559  part northern england midland devastated sever...   \n",
       "4016   un’s food agency warned “overexploitation” fis...   \n",
       "7317   coalition’s “technology taxes” plan net zero e...   \n",
       "18899  headteachers across country week faced tricky ...   \n",
       "\n",
       "                                           Author_Domain sentiment  \\\n",
       "7781                                   patrick collinson  NEGATIVE   \n",
       "16559          josh halliday north england correspondent  NEGATIVE   \n",
       "4016   seascape state ocean supported content karen m...  NEGATIVE   \n",
       "7317                          katharine murphy paul karp  NEGATIVE   \n",
       "18899                                       jamie doward  NEGATIVE   \n",
       "\n",
       "       sentiment_conf  \n",
       "7781         0.577317  \n",
       "16559        0.993934  \n",
       "4016         0.998585  \n",
       "7317         0.992748  \n",
       "18899        0.993159  "
      ]
     },
     "execution_count": 28,
     "metadata": {},
     "output_type": "execute_result"
    }
   ],
   "source": [
    "df_clean.sample(5)"
   ]
  },
  {
   "cell_type": "code",
   "execution_count": null,
   "id": "088b3c46",
   "metadata": {},
   "outputs": [],
   "source": []
  },
  {
   "cell_type": "code",
   "execution_count": null,
   "id": "345acd5b",
   "metadata": {},
   "outputs": [],
   "source": []
  },
  {
   "cell_type": "code",
   "execution_count": null,
   "id": "8ac370d1",
   "metadata": {},
   "outputs": [],
   "source": []
  }
 ],
 "metadata": {
  "kernelspec": {
   "display_name": "SolarSoundBytes",
   "language": "python",
   "name": "python3"
  },
  "language_info": {
   "codemirror_mode": {
    "name": "ipython",
    "version": 3
   },
   "file_extension": ".py",
   "mimetype": "text/x-python",
   "name": "python",
   "nbconvert_exporter": "python",
   "pygments_lexer": "ipython3",
   "version": "3.10.6"
  }
 },
 "nbformat": 4,
 "nbformat_minor": 5
}
