{
 "cells": [
  {
   "cell_type": "code",
   "execution_count": 111,
   "id": "9c2d4742",
   "metadata": {},
   "outputs": [],
   "source": [
    "import pandas as pd\n",
    "import numpy as np\n",
    "import string\n",
    "import re\n",
    "import nltk\n",
    "from nltk.tokenize import word_tokenize\n",
    "from nltk.corpus import stopwords\n",
    "from nltk.stem import WordNetLemmatizer\n"
   ]
  },
  {
   "cell_type": "markdown",
   "id": "4c87e616",
   "metadata": {},
   "source": [
    "# Dataset Overview"
   ]
  },
  {
   "cell_type": "code",
   "execution_count": 112,
   "id": "c5c92095",
   "metadata": {},
   "outputs": [
    {
     "data": {
      "text/html": [
       "<div>\n",
       "<style scoped>\n",
       "    .dataframe tbody tr th:only-of-type {\n",
       "        vertical-align: middle;\n",
       "    }\n",
       "\n",
       "    .dataframe tbody tr th {\n",
       "        vertical-align: top;\n",
       "    }\n",
       "\n",
       "    .dataframe thead th {\n",
       "        text-align: right;\n",
       "    }\n",
       "</style>\n",
       "<table border=\"1\" class=\"dataframe\">\n",
       "  <thead>\n",
       "    <tr style=\"text-align: right;\">\n",
       "      <th></th>\n",
       "      <th>Title</th>\n",
       "      <th>Intro Text</th>\n",
       "      <th>Authors</th>\n",
       "      <th>Article Text</th>\n",
       "      <th>Date Published</th>\n",
       "    </tr>\n",
       "  </thead>\n",
       "  <tbody>\n",
       "    <tr>\n",
       "      <th>0</th>\n",
       "      <td>Liz Truss ‘will approve more oil drilling if ...</td>\n",
       "      <td>Tory leadership candidate criticised by campai...</td>\n",
       "      <td>['Rob Davies', '@ByRobDavies']</td>\n",
       "      <td>Liz Truss will sign off on a push for more oil...</td>\n",
       "      <td>2022-08-30</td>\n",
       "    </tr>\n",
       "    <tr>\n",
       "      <th>1</th>\n",
       "      <td>Renewed Highland golf course plan has environm...</td>\n",
       "      <td>Scottish government rejected a new links at Co...</td>\n",
       "      <td>['Ewan Murray', '@mrewanmurray']</td>\n",
       "      <td>It is an area so tranquil that the notion of b...</td>\n",
       "      <td>2021-03-22</td>\n",
       "    </tr>\n",
       "    <tr>\n",
       "      <th>2</th>\n",
       "      <td>Visiting green spaces deters mental health dr...</td>\n",
       "      <td>Positive effects were stronger among those rep...</td>\n",
       "      <td>['Damien Gayle', '@damiengayle']</td>\n",
       "      <td>Visits to parks, community gardens and other u...</td>\n",
       "      <td>2023-01-17</td>\n",
       "    </tr>\n",
       "    <tr>\n",
       "      <th>3</th>\n",
       "      <td>Bought too much red cabbage? Turn it into a fe...</td>\n",
       "      <td>This fantastic vegan centrepiece makes full us...</td>\n",
       "      <td>['Tom Hunt']</td>\n",
       "      <td>I devised today’s nut roast for Oddbox, a veg ...</td>\n",
       "      <td>2023-12-22</td>\n",
       "    </tr>\n",
       "    <tr>\n",
       "      <th>4</th>\n",
       "      <td>‘This year has been very good’: readers’ UK bu...</td>\n",
       "      <td>Readers share their favourite sightings over t...</td>\n",
       "      <td>['Guardian readers']</td>\n",
       "      <td>‘Constant companions to our gardening’A peacoc...</td>\n",
       "      <td>2023-12-19</td>\n",
       "    </tr>\n",
       "  </tbody>\n",
       "</table>\n",
       "</div>"
      ],
      "text/plain": [
       "                                               Title  \\\n",
       "0   Liz Truss ‘will approve more oil drilling if ...   \n",
       "1  Renewed Highland golf course plan has environm...   \n",
       "2   Visiting green spaces deters mental health dr...   \n",
       "3  Bought too much red cabbage? Turn it into a fe...   \n",
       "4  ‘This year has been very good’: readers’ UK bu...   \n",
       "\n",
       "                                          Intro Text  \\\n",
       "0  Tory leadership candidate criticised by campai...   \n",
       "1  Scottish government rejected a new links at Co...   \n",
       "2  Positive effects were stronger among those rep...   \n",
       "3  This fantastic vegan centrepiece makes full us...   \n",
       "4  Readers share their favourite sightings over t...   \n",
       "\n",
       "                            Authors  \\\n",
       "0    ['Rob Davies', '@ByRobDavies']   \n",
       "1  ['Ewan Murray', '@mrewanmurray']   \n",
       "2  ['Damien Gayle', '@damiengayle']   \n",
       "3                      ['Tom Hunt']   \n",
       "4              ['Guardian readers']   \n",
       "\n",
       "                                        Article Text Date Published  \n",
       "0  Liz Truss will sign off on a push for more oil...     2022-08-30  \n",
       "1  It is an area so tranquil that the notion of b...     2021-03-22  \n",
       "2  Visits to parks, community gardens and other u...     2023-01-17  \n",
       "3  I devised today’s nut roast for Oddbox, a veg ...     2023-12-22  \n",
       "4  ‘Constant companions to our gardening’A peacoc...     2023-12-19  "
      ]
     },
     "execution_count": 112,
     "metadata": {},
     "output_type": "execute_result"
    }
   ],
   "source": [
    "df = pd.read_csv(\"/Users/enrique/code/EFRdev/08-Final-Project/SolarSoundBytes/raw_data/guardian_environment_news.csv\")\n",
    "df.head()"
   ]
  },
  {
   "cell_type": "code",
   "execution_count": 113,
   "id": "f258a5ff",
   "metadata": {},
   "outputs": [
    {
     "data": {
      "text/plain": [
       "(30059, 5)"
      ]
     },
     "execution_count": 113,
     "metadata": {},
     "output_type": "execute_result"
    }
   ],
   "source": [
    "df.shape"
   ]
  },
  {
   "cell_type": "markdown",
   "id": "b91c9216",
   "metadata": {},
   "source": [
    "# Delete or Impute Nulls Values"
   ]
  },
  {
   "cell_type": "code",
   "execution_count": 114,
   "id": "b4c0fdb5",
   "metadata": {},
   "outputs": [
    {
     "name": "stdout",
     "output_type": "stream",
     "text": [
      "Title              948\n",
      "Intro Text          82\n",
      "Authors           4570\n",
      "Article Text       368\n",
      "Date Published    2441\n",
      "dtype: int64\n"
     ]
    }
   ],
   "source": [
    "print(df.isnull().sum())"
   ]
  },
  {
   "cell_type": "code",
   "execution_count": 115,
   "id": "86c648d8",
   "metadata": {},
   "outputs": [
    {
     "data": {
      "text/plain": [
       "(23404, 5)"
      ]
     },
     "execution_count": 115,
     "metadata": {},
     "output_type": "execute_result"
    }
   ],
   "source": [
    "df = df.dropna(subset =['Article Text', 'Date Published', 'Authors'])\n",
    "df.shape"
   ]
  },
  {
   "cell_type": "code",
   "execution_count": 116,
   "id": "06049ab0",
   "metadata": {},
   "outputs": [],
   "source": [
    "df['Title'] = df['Title'].fillna('No Title')\n",
    "df['Intro Text'] = df['Intro Text'].fillna('No Intro Text')"
   ]
  },
  {
   "cell_type": "code",
   "execution_count": 117,
   "id": "92089261",
   "metadata": {},
   "outputs": [
    {
     "name": "stdout",
     "output_type": "stream",
     "text": [
      "Title             0\n",
      "Intro Text        0\n",
      "Authors           0\n",
      "Article Text      0\n",
      "Date Published    0\n",
      "dtype: int64\n"
     ]
    },
    {
     "data": {
      "text/plain": [
       "(23404, 5)"
      ]
     },
     "execution_count": 117,
     "metadata": {},
     "output_type": "execute_result"
    }
   ],
   "source": [
    "print(df.isnull().sum())\n",
    "\n",
    "df.shape"
   ]
  },
  {
   "cell_type": "code",
   "execution_count": 118,
   "id": "c08116f7",
   "metadata": {},
   "outputs": [
    {
     "data": {
      "text/html": [
       "<div>\n",
       "<style scoped>\n",
       "    .dataframe tbody tr th:only-of-type {\n",
       "        vertical-align: middle;\n",
       "    }\n",
       "\n",
       "    .dataframe tbody tr th {\n",
       "        vertical-align: top;\n",
       "    }\n",
       "\n",
       "    .dataframe thead th {\n",
       "        text-align: right;\n",
       "    }\n",
       "</style>\n",
       "<table border=\"1\" class=\"dataframe\">\n",
       "  <thead>\n",
       "    <tr style=\"text-align: right;\">\n",
       "      <th></th>\n",
       "      <th>Title</th>\n",
       "      <th>Intro Text</th>\n",
       "      <th>Authors</th>\n",
       "      <th>Article Text</th>\n",
       "      <th>Date Published</th>\n",
       "    </tr>\n",
       "  </thead>\n",
       "  <tbody>\n",
       "    <tr>\n",
       "      <th>0</th>\n",
       "      <td>Liz Truss ‘will approve more oil drilling if ...</td>\n",
       "      <td>Tory leadership candidate criticised by campai...</td>\n",
       "      <td>['Rob Davies', '@ByRobDavies']</td>\n",
       "      <td>Liz Truss will sign off on a push for more oil...</td>\n",
       "      <td>2022-08-30</td>\n",
       "    </tr>\n",
       "    <tr>\n",
       "      <th>1</th>\n",
       "      <td>Renewed Highland golf course plan has environm...</td>\n",
       "      <td>Scottish government rejected a new links at Co...</td>\n",
       "      <td>['Ewan Murray', '@mrewanmurray']</td>\n",
       "      <td>It is an area so tranquil that the notion of b...</td>\n",
       "      <td>2021-03-22</td>\n",
       "    </tr>\n",
       "    <tr>\n",
       "      <th>2</th>\n",
       "      <td>Visiting green spaces deters mental health dr...</td>\n",
       "      <td>Positive effects were stronger among those rep...</td>\n",
       "      <td>['Damien Gayle', '@damiengayle']</td>\n",
       "      <td>Visits to parks, community gardens and other u...</td>\n",
       "      <td>2023-01-17</td>\n",
       "    </tr>\n",
       "    <tr>\n",
       "      <th>3</th>\n",
       "      <td>Bought too much red cabbage? Turn it into a fe...</td>\n",
       "      <td>This fantastic vegan centrepiece makes full us...</td>\n",
       "      <td>['Tom Hunt']</td>\n",
       "      <td>I devised today’s nut roast for Oddbox, a veg ...</td>\n",
       "      <td>2023-12-22</td>\n",
       "    </tr>\n",
       "    <tr>\n",
       "      <th>4</th>\n",
       "      <td>‘This year has been very good’: readers’ UK bu...</td>\n",
       "      <td>Readers share their favourite sightings over t...</td>\n",
       "      <td>['Guardian readers']</td>\n",
       "      <td>‘Constant companions to our gardening’A peacoc...</td>\n",
       "      <td>2023-12-19</td>\n",
       "    </tr>\n",
       "  </tbody>\n",
       "</table>\n",
       "</div>"
      ],
      "text/plain": [
       "                                               Title  \\\n",
       "0   Liz Truss ‘will approve more oil drilling if ...   \n",
       "1  Renewed Highland golf course plan has environm...   \n",
       "2   Visiting green spaces deters mental health dr...   \n",
       "3  Bought too much red cabbage? Turn it into a fe...   \n",
       "4  ‘This year has been very good’: readers’ UK bu...   \n",
       "\n",
       "                                          Intro Text  \\\n",
       "0  Tory leadership candidate criticised by campai...   \n",
       "1  Scottish government rejected a new links at Co...   \n",
       "2  Positive effects were stronger among those rep...   \n",
       "3  This fantastic vegan centrepiece makes full us...   \n",
       "4  Readers share their favourite sightings over t...   \n",
       "\n",
       "                            Authors  \\\n",
       "0    ['Rob Davies', '@ByRobDavies']   \n",
       "1  ['Ewan Murray', '@mrewanmurray']   \n",
       "2  ['Damien Gayle', '@damiengayle']   \n",
       "3                      ['Tom Hunt']   \n",
       "4              ['Guardian readers']   \n",
       "\n",
       "                                        Article Text Date Published  \n",
       "0  Liz Truss will sign off on a push for more oil...     2022-08-30  \n",
       "1  It is an area so tranquil that the notion of b...     2021-03-22  \n",
       "2  Visits to parks, community gardens and other u...     2023-01-17  \n",
       "3  I devised today’s nut roast for Oddbox, a veg ...     2023-12-22  \n",
       "4  ‘Constant companions to our gardening’A peacoc...     2023-12-19  "
      ]
     },
     "execution_count": 118,
     "metadata": {},
     "output_type": "execute_result"
    }
   ],
   "source": [
    "df.head()"
   ]
  },
  {
   "cell_type": "markdown",
   "id": "bdb74258",
   "metadata": {},
   "source": [
    "# Text Cleaning:\n",
    "**Preprocessing:** lowercase, delete numbers, punctuation and symbols (#\"*!&%), splitting, tokenizing?, removing stopwords, lemmatizing"
   ]
  },
  {
   "cell_type": "code",
   "execution_count": 123,
   "id": "04e43ad5",
   "metadata": {},
   "outputs": [
    {
     "data": {
      "text/html": [
       "<div>\n",
       "<style scoped>\n",
       "    .dataframe tbody tr th:only-of-type {\n",
       "        vertical-align: middle;\n",
       "    }\n",
       "\n",
       "    .dataframe tbody tr th {\n",
       "        vertical-align: top;\n",
       "    }\n",
       "\n",
       "    .dataframe thead th {\n",
       "        text-align: right;\n",
       "    }\n",
       "</style>\n",
       "<table border=\"1\" class=\"dataframe\">\n",
       "  <thead>\n",
       "    <tr style=\"text-align: right;\">\n",
       "      <th></th>\n",
       "      <th>Date Published</th>\n",
       "      <th>Clean Title</th>\n",
       "      <th>Clean Intro Text</th>\n",
       "      <th>Clean Article Text</th>\n",
       "      <th>Author_Domain</th>\n",
       "    </tr>\n",
       "  </thead>\n",
       "  <tbody>\n",
       "    <tr>\n",
       "      <th>0</th>\n",
       "      <td>2022-08-30</td>\n",
       "      <td>liz truss ‘will approve oil drilling becomes pm’</td>\n",
       "      <td>tory leadership candidate criticised campaigne...</td>\n",
       "      <td>liz truss sign push oil drilling north sea win...</td>\n",
       "      <td>rob davy byrobdavies</td>\n",
       "    </tr>\n",
       "    <tr>\n",
       "      <th>1</th>\n",
       "      <td>2021-03-22</td>\n",
       "      <td>renewed highland golf course plan environmenta...</td>\n",
       "      <td>scottish government rejected new link coul pro...</td>\n",
       "      <td>area tranquil notion bitter dispute hugely ano...</td>\n",
       "      <td>ewan murray mrewanmurray</td>\n",
       "    </tr>\n",
       "    <tr>\n",
       "      <th>2</th>\n",
       "      <td>2023-01-17</td>\n",
       "      <td>visiting green space deters mental health drug...</td>\n",
       "      <td>positive effect stronger among reporting lowes...</td>\n",
       "      <td>visit park community garden urban green space ...</td>\n",
       "      <td>damien gayle damiengayle</td>\n",
       "    </tr>\n",
       "    <tr>\n",
       "      <th>3</th>\n",
       "      <td>2023-12-22</td>\n",
       "      <td>bought much red cabbage turn festive nut roast...</td>\n",
       "      <td>fantastic vegan centrepiece make full use oute...</td>\n",
       "      <td>devised today’s nut roast oddbox veg box outfi...</td>\n",
       "      <td>tom hunt</td>\n",
       "    </tr>\n",
       "    <tr>\n",
       "      <th>4</th>\n",
       "      <td>2023-12-19</td>\n",
       "      <td>‘this year good’ readers’ uk butterfly sighting</td>\n",
       "      <td>reader share favourite sighting summer news nu...</td>\n",
       "      <td>‘constant companion gardening’a peacock butter...</td>\n",
       "      <td>guardian reader</td>\n",
       "    </tr>\n",
       "  </tbody>\n",
       "</table>\n",
       "</div>"
      ],
      "text/plain": [
       "  Date Published                                        Clean Title  \\\n",
       "0     2022-08-30   liz truss ‘will approve oil drilling becomes pm’   \n",
       "1     2021-03-22  renewed highland golf course plan environmenta...   \n",
       "2     2023-01-17  visiting green space deters mental health drug...   \n",
       "3     2023-12-22  bought much red cabbage turn festive nut roast...   \n",
       "4     2023-12-19    ‘this year good’ readers’ uk butterfly sighting   \n",
       "\n",
       "                                    Clean Intro Text  \\\n",
       "0  tory leadership candidate criticised campaigne...   \n",
       "1  scottish government rejected new link coul pro...   \n",
       "2  positive effect stronger among reporting lowes...   \n",
       "3  fantastic vegan centrepiece make full use oute...   \n",
       "4  reader share favourite sighting summer news nu...   \n",
       "\n",
       "                                  Clean Article Text             Author_Domain  \n",
       "0  liz truss sign push oil drilling north sea win...      rob davy byrobdavies  \n",
       "1  area tranquil notion bitter dispute hugely ano...  ewan murray mrewanmurray  \n",
       "2  visit park community garden urban green space ...  damien gayle damiengayle  \n",
       "3  devised today’s nut roast oddbox veg box outfi...                  tom hunt  \n",
       "4  ‘constant companion gardening’a peacock butter...           guardian reader  "
      ]
     },
     "execution_count": 123,
     "metadata": {},
     "output_type": "execute_result"
    }
   ],
   "source": [
    "stop_words = set(stopwords.words('english'))\n",
    "lemmatizer = WordNetLemmatizer()\n",
    "\n",
    "def preprocess_text(text):\n",
    "    text = text.lower()\n",
    "    text = text.translate(str.maketrans(\"\",\"\", string.punctuation))\n",
    "    text = ''.join(char for char in text if not char.isdigit())\n",
    "\n",
    "    tokens = text.split()\n",
    "    tokens = [word for word in tokens if word not in stop_words]\n",
    "    tokens = [lemmatizer.lemmatize(word) for word in tokens]\n",
    "\n",
    "    return ' '.join(tokens)\n",
    "\n",
    "df['Clean Title'] = df['Title'].apply(preprocess_text)\n",
    "df['Clean Intro Text'] = df['Intro Text'].apply(preprocess_text)\n",
    "df['Clean Article Text'] = df['Article Text'].apply(preprocess_text)\n",
    "df['Author_Domain'] = df['Authors'].apply(preprocess_text)\n",
    "df_clean = df.copy()\n",
    "\n",
    "df_clean = df.drop(columns=['Title','Intro Text','Article Text', 'Authors'])\n",
    "df_clean.head()"
   ]
  },
  {
   "cell_type": "code",
   "execution_count": null,
   "id": "8d0fc51d",
   "metadata": {},
   "outputs": [
    {
     "name": "stdout",
     "output_type": "stream",
     "text": [
      "datetime64[ns]\n",
      "datetime64[ns]\n"
     ]
    },
    {
     "name": "stderr",
     "output_type": "stream",
     "text": [
      "/var/folders/52/7ccrs33x6bl334rw1cb76c0h0000gn/T/ipykernel_12232/2779779486.py:1: UserWarning: Parsing dates in %Y-%m-%d format when dayfirst=True was specified. Pass `dayfirst=False` or specify a format to silence this warning.\n",
      "  df_clean['Date Published'] = pd.to_datetime(df_clean['Date Published'], dayfirst=True, errors='coerce')\n"
     ]
    }
   ],
   "source": [
    "df_clean['Date Published'] = pd.to_datetime(df_clean['Date Published'], dayfirst=True, errors='coerce')\n",
    "print(df_clean['Date Published'].dtype)"
   ]
  },
  {
   "cell_type": "code",
   "execution_count": 124,
   "id": "221ae770",
   "metadata": {},
   "outputs": [
    {
     "data": {
      "text/html": [
       "<div>\n",
       "<style scoped>\n",
       "    .dataframe tbody tr th:only-of-type {\n",
       "        vertical-align: middle;\n",
       "    }\n",
       "\n",
       "    .dataframe tbody tr th {\n",
       "        vertical-align: top;\n",
       "    }\n",
       "\n",
       "    .dataframe thead th {\n",
       "        text-align: right;\n",
       "    }\n",
       "</style>\n",
       "<table border=\"1\" class=\"dataframe\">\n",
       "  <thead>\n",
       "    <tr style=\"text-align: right;\">\n",
       "      <th></th>\n",
       "      <th>Date Published</th>\n",
       "      <th>Clean Title</th>\n",
       "      <th>Clean Intro Text</th>\n",
       "      <th>Clean Article Text</th>\n",
       "      <th>Author_Domain</th>\n",
       "    </tr>\n",
       "  </thead>\n",
       "  <tbody>\n",
       "    <tr>\n",
       "      <th>0</th>\n",
       "      <td>2022-08-30</td>\n",
       "      <td>liz truss ‘will approve oil drilling becomes pm’</td>\n",
       "      <td>tory leadership candidate criticised campaigne...</td>\n",
       "      <td>liz truss sign push oil drilling north sea win...</td>\n",
       "      <td>rob davy byrobdavies</td>\n",
       "    </tr>\n",
       "    <tr>\n",
       "      <th>1</th>\n",
       "      <td>2021-03-22</td>\n",
       "      <td>renewed highland golf course plan environmenta...</td>\n",
       "      <td>scottish government rejected new link coul pro...</td>\n",
       "      <td>area tranquil notion bitter dispute hugely ano...</td>\n",
       "      <td>ewan murray mrewanmurray</td>\n",
       "    </tr>\n",
       "    <tr>\n",
       "      <th>2</th>\n",
       "      <td>2023-01-17</td>\n",
       "      <td>visiting green space deters mental health drug...</td>\n",
       "      <td>positive effect stronger among reporting lowes...</td>\n",
       "      <td>visit park community garden urban green space ...</td>\n",
       "      <td>damien gayle damiengayle</td>\n",
       "    </tr>\n",
       "    <tr>\n",
       "      <th>3</th>\n",
       "      <td>2023-12-22</td>\n",
       "      <td>bought much red cabbage turn festive nut roast...</td>\n",
       "      <td>fantastic vegan centrepiece make full use oute...</td>\n",
       "      <td>devised today’s nut roast oddbox veg box outfi...</td>\n",
       "      <td>tom hunt</td>\n",
       "    </tr>\n",
       "    <tr>\n",
       "      <th>4</th>\n",
       "      <td>2023-12-19</td>\n",
       "      <td>‘this year good’ readers’ uk butterfly sighting</td>\n",
       "      <td>reader share favourite sighting summer news nu...</td>\n",
       "      <td>‘constant companion gardening’a peacock butter...</td>\n",
       "      <td>guardian reader</td>\n",
       "    </tr>\n",
       "    <tr>\n",
       "      <th>...</th>\n",
       "      <td>...</td>\n",
       "      <td>...</td>\n",
       "      <td>...</td>\n",
       "      <td>...</td>\n",
       "      <td>...</td>\n",
       "    </tr>\n",
       "    <tr>\n",
       "      <th>30053</th>\n",
       "      <td>2021-08-23</td>\n",
       "      <td>pacific ocean’s rising acidity cause dungeness...</td>\n",
       "      <td>acidity making shell crab larva vulnerable pre...</td>\n",
       "      <td>pacific ocean becoming acidic starting dissolv...</td>\n",
       "      <td>lauren aratani</td>\n",
       "    </tr>\n",
       "    <tr>\n",
       "      <th>30054</th>\n",
       "      <td>2020-11-12</td>\n",
       "      <td>climate change could make insurance expensive ...</td>\n",
       "      <td>munich world’s largest reinsurance firm warns ...</td>\n",
       "      <td>insurer warned climate change could make cover...</td>\n",
       "      <td>arthur neslen</td>\n",
       "    </tr>\n",
       "    <tr>\n",
       "      <th>30055</th>\n",
       "      <td>2021-06-05</td>\n",
       "      <td>republican lawmaker pitch carbon tax defiance ...</td>\n",
       "      <td>representative carlos curbelo proposed tax car...</td>\n",
       "      <td>republican lawmaker proposed u introduce tax c...</td>\n",
       "      <td>oliver milman new york olliemilman</td>\n",
       "    </tr>\n",
       "    <tr>\n",
       "      <th>30056</th>\n",
       "      <td>2018-04-25</td>\n",
       "      <td>mp call urgent investigation water buyback</td>\n",
       "      <td>crossparty group asks auditor general seek inf...</td>\n",
       "      <td>crossparty group federal mp asked auditor gene...</td>\n",
       "      <td>anne davy</td>\n",
       "    </tr>\n",
       "    <tr>\n",
       "      <th>30058</th>\n",
       "      <td>2018-05-27</td>\n",
       "      <td>climate crisis must overshadowed covid johnson...</td>\n",
       "      <td>uk host online event marking fifth anniversary...</td>\n",
       "      <td>world cannot allow climate emergency overshado...</td>\n",
       "      <td>fiona harvey environment correspondent</td>\n",
       "    </tr>\n",
       "  </tbody>\n",
       "</table>\n",
       "<p>23404 rows × 5 columns</p>\n",
       "</div>"
      ],
      "text/plain": [
       "      Date Published                                        Clean Title  \\\n",
       "0         2022-08-30   liz truss ‘will approve oil drilling becomes pm’   \n",
       "1         2021-03-22  renewed highland golf course plan environmenta...   \n",
       "2         2023-01-17  visiting green space deters mental health drug...   \n",
       "3         2023-12-22  bought much red cabbage turn festive nut roast...   \n",
       "4         2023-12-19    ‘this year good’ readers’ uk butterfly sighting   \n",
       "...              ...                                                ...   \n",
       "30053     2021-08-23  pacific ocean’s rising acidity cause dungeness...   \n",
       "30054     2020-11-12  climate change could make insurance expensive ...   \n",
       "30055     2021-06-05  republican lawmaker pitch carbon tax defiance ...   \n",
       "30056     2018-04-25         mp call urgent investigation water buyback   \n",
       "30058     2018-05-27  climate crisis must overshadowed covid johnson...   \n",
       "\n",
       "                                        Clean Intro Text  \\\n",
       "0      tory leadership candidate criticised campaigne...   \n",
       "1      scottish government rejected new link coul pro...   \n",
       "2      positive effect stronger among reporting lowes...   \n",
       "3      fantastic vegan centrepiece make full use oute...   \n",
       "4      reader share favourite sighting summer news nu...   \n",
       "...                                                  ...   \n",
       "30053  acidity making shell crab larva vulnerable pre...   \n",
       "30054  munich world’s largest reinsurance firm warns ...   \n",
       "30055  representative carlos curbelo proposed tax car...   \n",
       "30056  crossparty group asks auditor general seek inf...   \n",
       "30058  uk host online event marking fifth anniversary...   \n",
       "\n",
       "                                      Clean Article Text  \\\n",
       "0      liz truss sign push oil drilling north sea win...   \n",
       "1      area tranquil notion bitter dispute hugely ano...   \n",
       "2      visit park community garden urban green space ...   \n",
       "3      devised today’s nut roast oddbox veg box outfi...   \n",
       "4      ‘constant companion gardening’a peacock butter...   \n",
       "...                                                  ...   \n",
       "30053  pacific ocean becoming acidic starting dissolv...   \n",
       "30054  insurer warned climate change could make cover...   \n",
       "30055  republican lawmaker proposed u introduce tax c...   \n",
       "30056  crossparty group federal mp asked auditor gene...   \n",
       "30058  world cannot allow climate emergency overshado...   \n",
       "\n",
       "                                Author_Domain  \n",
       "0                        rob davy byrobdavies  \n",
       "1                    ewan murray mrewanmurray  \n",
       "2                    damien gayle damiengayle  \n",
       "3                                    tom hunt  \n",
       "4                             guardian reader  \n",
       "...                                       ...  \n",
       "30053                          lauren aratani  \n",
       "30054                           arthur neslen  \n",
       "30055      oliver milman new york olliemilman  \n",
       "30056                               anne davy  \n",
       "30058  fiona harvey environment correspondent  \n",
       "\n",
       "[23404 rows x 5 columns]"
      ]
     },
     "execution_count": 124,
     "metadata": {},
     "output_type": "execute_result"
    }
   ],
   "source": [
    "df_clean"
   ]
  },
  {
   "cell_type": "code",
   "execution_count": null,
   "id": "abcc6118",
   "metadata": {},
   "outputs": [],
   "source": []
  }
 ],
 "metadata": {
  "kernelspec": {
   "display_name": "SolarSoundBytes",
   "language": "python",
   "name": "python3"
  },
  "language_info": {
   "codemirror_mode": {
    "name": "ipython",
    "version": 3
   },
   "file_extension": ".py",
   "mimetype": "text/x-python",
   "name": "python",
   "nbconvert_exporter": "python",
   "pygments_lexer": "ipython3",
   "version": "3.10.6"
  }
 },
 "nbformat": 4,
 "nbformat_minor": 5
}
