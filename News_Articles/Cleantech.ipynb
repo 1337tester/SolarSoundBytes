{
 "cells": [
  {
   "cell_type": "code",
   "execution_count": 6,
   "id": "9c2d4742",
   "metadata": {},
   "outputs": [],
   "source": [
    "import pandas as pd\n",
    "import numpy as np\n",
    "import string\n",
    "import re\n",
    "import nltk\n",
    "from nltk.tokenize import word_tokenize\n",
    "from nltk.corpus import stopwords\n",
    "from nltk.stem import WordNetLemmatizer\n",
    "from datetime import datetime\n"
   ]
  },
  {
   "cell_type": "markdown",
   "id": "4c87e616",
   "metadata": {},
   "source": [
    "# Dataset Overview"
   ]
  },
  {
   "cell_type": "code",
   "execution_count": 7,
   "id": "c5c92095",
   "metadata": {},
   "outputs": [
    {
     "data": {
      "text/html": [
       "<div>\n",
       "<style scoped>\n",
       "    .dataframe tbody tr th:only-of-type {\n",
       "        vertical-align: middle;\n",
       "    }\n",
       "\n",
       "    .dataframe tbody tr th {\n",
       "        vertical-align: top;\n",
       "    }\n",
       "\n",
       "    .dataframe thead th {\n",
       "        text-align: right;\n",
       "    }\n",
       "</style>\n",
       "<table border=\"1\" class=\"dataframe\">\n",
       "  <thead>\n",
       "    <tr style=\"text-align: right;\">\n",
       "      <th></th>\n",
       "      <th>Unnamed: 0</th>\n",
       "      <th>title</th>\n",
       "      <th>date</th>\n",
       "      <th>author</th>\n",
       "      <th>content</th>\n",
       "      <th>domain</th>\n",
       "      <th>url</th>\n",
       "    </tr>\n",
       "  </thead>\n",
       "  <tbody>\n",
       "    <tr>\n",
       "      <th>0</th>\n",
       "      <td>93320</td>\n",
       "      <td>XPeng Delivered ~100,000 Vehicles In 2021</td>\n",
       "      <td>2022-01-02</td>\n",
       "      <td>NaN</td>\n",
       "      <td>['Chinese automotive startup XPeng has shown o...</td>\n",
       "      <td>cleantechnica</td>\n",
       "      <td>https://cleantechnica.com/2022/01/02/xpeng-del...</td>\n",
       "    </tr>\n",
       "    <tr>\n",
       "      <th>1</th>\n",
       "      <td>93321</td>\n",
       "      <td>Green Hydrogen: Drop In Bucket Or Big Splash?</td>\n",
       "      <td>2022-01-02</td>\n",
       "      <td>NaN</td>\n",
       "      <td>['Sinopec has laid plans to build the largest ...</td>\n",
       "      <td>cleantechnica</td>\n",
       "      <td>https://cleantechnica.com/2022/01/02/its-a-gre...</td>\n",
       "    </tr>\n",
       "    <tr>\n",
       "      <th>2</th>\n",
       "      <td>98159</td>\n",
       "      <td>World’ s largest floating PV plant goes online...</td>\n",
       "      <td>2022-01-03</td>\n",
       "      <td>NaN</td>\n",
       "      <td>['Huaneng Power International has switched on ...</td>\n",
       "      <td>pv-magazine</td>\n",
       "      <td>https://www.pv-magazine.com/2022/01/03/worlds-...</td>\n",
       "    </tr>\n",
       "    <tr>\n",
       "      <th>3</th>\n",
       "      <td>98158</td>\n",
       "      <td>Iran wants to deploy 10 GW of renewables over ...</td>\n",
       "      <td>2022-01-03</td>\n",
       "      <td>NaN</td>\n",
       "      <td>['According to the Iranian authorities, there ...</td>\n",
       "      <td>pv-magazine</td>\n",
       "      <td>https://www.pv-magazine.com/2022/01/03/iran-wa...</td>\n",
       "    </tr>\n",
       "    <tr>\n",
       "      <th>4</th>\n",
       "      <td>31128</td>\n",
       "      <td>Eastern Interconnection Power Grid Said ‘ Bein...</td>\n",
       "      <td>2022-01-03</td>\n",
       "      <td>NaN</td>\n",
       "      <td>['Sign in to get the best natural gas news and...</td>\n",
       "      <td>naturalgasintel</td>\n",
       "      <td>https://www.naturalgasintel.com/eastern-interc...</td>\n",
       "    </tr>\n",
       "  </tbody>\n",
       "</table>\n",
       "</div>"
      ],
      "text/plain": [
       "   Unnamed: 0                                              title        date  \\\n",
       "0       93320          XPeng Delivered ~100,000 Vehicles In 2021  2022-01-02   \n",
       "1       93321      Green Hydrogen: Drop In Bucket Or Big Splash?  2022-01-02   \n",
       "2       98159  World’ s largest floating PV plant goes online...  2022-01-03   \n",
       "3       98158  Iran wants to deploy 10 GW of renewables over ...  2022-01-03   \n",
       "4       31128  Eastern Interconnection Power Grid Said ‘ Bein...  2022-01-03   \n",
       "\n",
       "   author                                            content           domain  \\\n",
       "0     NaN  ['Chinese automotive startup XPeng has shown o...    cleantechnica   \n",
       "1     NaN  ['Sinopec has laid plans to build the largest ...    cleantechnica   \n",
       "2     NaN  ['Huaneng Power International has switched on ...      pv-magazine   \n",
       "3     NaN  ['According to the Iranian authorities, there ...      pv-magazine   \n",
       "4     NaN  ['Sign in to get the best natural gas news and...  naturalgasintel   \n",
       "\n",
       "                                                 url  \n",
       "0  https://cleantechnica.com/2022/01/02/xpeng-del...  \n",
       "1  https://cleantechnica.com/2022/01/02/its-a-gre...  \n",
       "2  https://www.pv-magazine.com/2022/01/03/worlds-...  \n",
       "3  https://www.pv-magazine.com/2022/01/03/iran-wa...  \n",
       "4  https://www.naturalgasintel.com/eastern-interc...  "
      ]
     },
     "execution_count": 7,
     "metadata": {},
     "output_type": "execute_result"
    }
   ],
   "source": [
    "df = pd.read_csv(\"/Users/enrique/code/EFRdev/08-Final-Project/SolarSoundBytes/raw_data/cleantech_media_dataset_v3_2024-10-28.csv\")\n",
    "df.head()"
   ]
  },
  {
   "cell_type": "code",
   "execution_count": 8,
   "id": "bcc9f593",
   "metadata": {},
   "outputs": [
    {
     "data": {
      "text/plain": [
       "(20111, 7)"
      ]
     },
     "execution_count": 8,
     "metadata": {},
     "output_type": "execute_result"
    }
   ],
   "source": [
    "df.shape\n"
   ]
  },
  {
   "cell_type": "code",
   "execution_count": 9,
   "id": "2c73a1bf",
   "metadata": {},
   "outputs": [],
   "source": [
    "df['date'] = pd.to_datetime(df['date'], dayfirst=True, errors='coerce')\n"
   ]
  },
  {
   "cell_type": "code",
   "execution_count": 10,
   "id": "251df26a",
   "metadata": {},
   "outputs": [
    {
     "data": {
      "text/plain": [
       "12966"
      ]
     },
     "execution_count": 10,
     "metadata": {},
     "output_type": "execute_result"
    }
   ],
   "source": [
    "df['date'].isna().sum()"
   ]
  },
  {
   "cell_type": "code",
   "execution_count": 11,
   "id": "0a2cd07f",
   "metadata": {},
   "outputs": [
    {
     "data": {
      "text/plain": [
       "array(['cleantechnica', 'pv-magazine', 'naturalgasintel', 'energyvoice',\n",
       "       'solarpowerworldonline', 'solarindustrymag', 'thinkgeoenergy',\n",
       "       'energy-xprt', 'azocleantech', 'pv-tech', 'rechargenews',\n",
       "       'solarpowerportal.co', 'energyintel', 'greenprophet', 'ecofriend',\n",
       "       'eurosolar', 'greenairnews', 'all-energy', 'iea', 'decarbxpo',\n",
       "       'biofuels-news', 'solarquarter', 'storagesummit', 'indorenergy',\n",
       "       'bex-asia'], dtype=object)"
      ]
     },
     "execution_count": 11,
     "metadata": {},
     "output_type": "execute_result"
    }
   ],
   "source": [
    "unique_domains = df['domain'].unique()\n",
    "unique_domains"
   ]
  },
  {
   "cell_type": "code",
   "execution_count": 12,
   "id": "d38ff6a9",
   "metadata": {},
   "outputs": [
    {
     "data": {
      "text/html": [
       "<div>\n",
       "<style scoped>\n",
       "    .dataframe tbody tr th:only-of-type {\n",
       "        vertical-align: middle;\n",
       "    }\n",
       "\n",
       "    .dataframe tbody tr th {\n",
       "        vertical-align: top;\n",
       "    }\n",
       "\n",
       "    .dataframe thead th {\n",
       "        text-align: right;\n",
       "    }\n",
       "</style>\n",
       "<table border=\"1\" class=\"dataframe\">\n",
       "  <thead>\n",
       "    <tr style=\"text-align: right;\">\n",
       "      <th></th>\n",
       "      <th>Unnamed: 0</th>\n",
       "      <th>title</th>\n",
       "      <th>date</th>\n",
       "      <th>author</th>\n",
       "      <th>content</th>\n",
       "      <th>domain</th>\n",
       "      <th>url</th>\n",
       "    </tr>\n",
       "  </thead>\n",
       "  <tbody>\n",
       "    <tr>\n",
       "      <th>0</th>\n",
       "      <td>93320</td>\n",
       "      <td>XPeng Delivered ~100,000 Vehicles In 2021</td>\n",
       "      <td>2022-02-01</td>\n",
       "      <td>NaN</td>\n",
       "      <td>['Chinese automotive startup XPeng has shown o...</td>\n",
       "      <td>cleantechnica</td>\n",
       "      <td>https://cleantechnica.com/2022/01/02/xpeng-del...</td>\n",
       "    </tr>\n",
       "    <tr>\n",
       "      <th>1</th>\n",
       "      <td>93321</td>\n",
       "      <td>Green Hydrogen: Drop In Bucket Or Big Splash?</td>\n",
       "      <td>2022-02-01</td>\n",
       "      <td>NaN</td>\n",
       "      <td>['Sinopec has laid plans to build the largest ...</td>\n",
       "      <td>cleantechnica</td>\n",
       "      <td>https://cleantechnica.com/2022/01/02/its-a-gre...</td>\n",
       "    </tr>\n",
       "    <tr>\n",
       "      <th>2</th>\n",
       "      <td>98159</td>\n",
       "      <td>World’ s largest floating PV plant goes online...</td>\n",
       "      <td>2022-03-01</td>\n",
       "      <td>NaN</td>\n",
       "      <td>['Huaneng Power International has switched on ...</td>\n",
       "      <td>pv-magazine</td>\n",
       "      <td>https://www.pv-magazine.com/2022/01/03/worlds-...</td>\n",
       "    </tr>\n",
       "    <tr>\n",
       "      <th>3</th>\n",
       "      <td>98158</td>\n",
       "      <td>Iran wants to deploy 10 GW of renewables over ...</td>\n",
       "      <td>2022-03-01</td>\n",
       "      <td>NaN</td>\n",
       "      <td>['According to the Iranian authorities, there ...</td>\n",
       "      <td>pv-magazine</td>\n",
       "      <td>https://www.pv-magazine.com/2022/01/03/iran-wa...</td>\n",
       "    </tr>\n",
       "    <tr>\n",
       "      <th>6</th>\n",
       "      <td>42776</td>\n",
       "      <td>BP: Commitment to Scotland is ‘ unique differe...</td>\n",
       "      <td>2022-03-01</td>\n",
       "      <td>NaN</td>\n",
       "      <td>['BP’ s “ long-term ” commitment to Scotland i...</td>\n",
       "      <td>energyvoice</td>\n",
       "      <td>https://www.energyvoice.com/renewables-energy-...</td>\n",
       "    </tr>\n",
       "    <tr>\n",
       "      <th>...</th>\n",
       "      <td>...</td>\n",
       "      <td>...</td>\n",
       "      <td>...</td>\n",
       "      <td>...</td>\n",
       "      <td>...</td>\n",
       "      <td>...</td>\n",
       "      <td>...</td>\n",
       "    </tr>\n",
       "    <tr>\n",
       "      <th>20101</th>\n",
       "      <td>101432</td>\n",
       "      <td>European Commission offers share of €4.8 billi...</td>\n",
       "      <td>NaT</td>\n",
       "      <td>NaN</td>\n",
       "      <td>['The European Commission is offering 85 net-z...</td>\n",
       "      <td>pv-magazine</td>\n",
       "      <td>https://www.pv-magazine.com/2024/10/24/europea...</td>\n",
       "    </tr>\n",
       "    <tr>\n",
       "      <th>20102</th>\n",
       "      <td>101433</td>\n",
       "      <td>Sunwind Energy’ s new PV planter combines cult...</td>\n",
       "      <td>NaT</td>\n",
       "      <td>NaN</td>\n",
       "      <td>['Specializing in the design of custom solar s...</td>\n",
       "      <td>pv-magazine</td>\n",
       "      <td>https://www.pv-magazine.com/2024/10/24/sunwind...</td>\n",
       "    </tr>\n",
       "    <tr>\n",
       "      <th>20108</th>\n",
       "      <td>101434</td>\n",
       "      <td>Australia has 7.8 GW of utility-scale batterie...</td>\n",
       "      <td>NaT</td>\n",
       "      <td>NaN</td>\n",
       "      <td>['The volume of large-scale battery energy sto...</td>\n",
       "      <td>pv-magazine</td>\n",
       "      <td>https://www.pv-magazine.com/2024/10/24/austral...</td>\n",
       "    </tr>\n",
       "    <tr>\n",
       "      <th>20109</th>\n",
       "      <td>101428</td>\n",
       "      <td>Residential PV prices in Germany drop 25% with...</td>\n",
       "      <td>NaT</td>\n",
       "      <td>NaN</td>\n",
       "      <td>['The comparison site Selfmade Energy shows, i...</td>\n",
       "      <td>pv-magazine</td>\n",
       "      <td>https://www.pv-magazine.com/2024/10/24/residen...</td>\n",
       "    </tr>\n",
       "    <tr>\n",
       "      <th>20110</th>\n",
       "      <td>101431</td>\n",
       "      <td>KAUST, Helmholtz-Zentrum Berlin present 31.2% ...</td>\n",
       "      <td>NaT</td>\n",
       "      <td>NaN</td>\n",
       "      <td>['The perovskite-silicon tandem device has a t...</td>\n",
       "      <td>pv-magazine</td>\n",
       "      <td>https://www.pv-magazine.com/2024/10/24/kaust-h...</td>\n",
       "    </tr>\n",
       "  </tbody>\n",
       "</table>\n",
       "<p>7913 rows × 7 columns</p>\n",
       "</div>"
      ],
      "text/plain": [
       "       Unnamed: 0                                              title  \\\n",
       "0           93320          XPeng Delivered ~100,000 Vehicles In 2021   \n",
       "1           93321      Green Hydrogen: Drop In Bucket Or Big Splash?   \n",
       "2           98159  World’ s largest floating PV plant goes online...   \n",
       "3           98158  Iran wants to deploy 10 GW of renewables over ...   \n",
       "6           42776  BP: Commitment to Scotland is ‘ unique differe...   \n",
       "...           ...                                                ...   \n",
       "20101      101432  European Commission offers share of €4.8 billi...   \n",
       "20102      101433  Sunwind Energy’ s new PV planter combines cult...   \n",
       "20108      101434  Australia has 7.8 GW of utility-scale batterie...   \n",
       "20109      101428  Residential PV prices in Germany drop 25% with...   \n",
       "20110      101431  KAUST, Helmholtz-Zentrum Berlin present 31.2% ...   \n",
       "\n",
       "            date  author                                            content  \\\n",
       "0     2022-02-01     NaN  ['Chinese automotive startup XPeng has shown o...   \n",
       "1     2022-02-01     NaN  ['Sinopec has laid plans to build the largest ...   \n",
       "2     2022-03-01     NaN  ['Huaneng Power International has switched on ...   \n",
       "3     2022-03-01     NaN  ['According to the Iranian authorities, there ...   \n",
       "6     2022-03-01     NaN  ['BP’ s “ long-term ” commitment to Scotland i...   \n",
       "...          ...     ...                                                ...   \n",
       "20101        NaT     NaN  ['The European Commission is offering 85 net-z...   \n",
       "20102        NaT     NaN  ['Specializing in the design of custom solar s...   \n",
       "20108        NaT     NaN  ['The volume of large-scale battery energy sto...   \n",
       "20109        NaT     NaN  ['The comparison site Selfmade Energy shows, i...   \n",
       "20110        NaT     NaN  ['The perovskite-silicon tandem device has a t...   \n",
       "\n",
       "              domain                                                url  \n",
       "0      cleantechnica  https://cleantechnica.com/2022/01/02/xpeng-del...  \n",
       "1      cleantechnica  https://cleantechnica.com/2022/01/02/its-a-gre...  \n",
       "2        pv-magazine  https://www.pv-magazine.com/2022/01/03/worlds-...  \n",
       "3        pv-magazine  https://www.pv-magazine.com/2022/01/03/iran-wa...  \n",
       "6        energyvoice  https://www.energyvoice.com/renewables-energy-...  \n",
       "...              ...                                                ...  \n",
       "20101    pv-magazine  https://www.pv-magazine.com/2024/10/24/europea...  \n",
       "20102    pv-magazine  https://www.pv-magazine.com/2024/10/24/sunwind...  \n",
       "20108    pv-magazine  https://www.pv-magazine.com/2024/10/24/austral...  \n",
       "20109    pv-magazine  https://www.pv-magazine.com/2024/10/24/residen...  \n",
       "20110    pv-magazine  https://www.pv-magazine.com/2024/10/24/kaust-h...  \n",
       "\n",
       "[7913 rows x 7 columns]"
      ]
     },
     "execution_count": 12,
     "metadata": {},
     "output_type": "execute_result"
    }
   ],
   "source": [
    "uk_domains = ['energyvoice', 'solarpowerportal.co', 'biofuels-news', 'pv-magazine', 'thinkgeoenergy', 'cleantechnica']\n",
    "df_uk = df[df['domain'].isin(uk_domains)].copy()\n",
    "df_uk"
   ]
  },
  {
   "cell_type": "code",
   "execution_count": 13,
   "id": "f258a5ff",
   "metadata": {},
   "outputs": [
    {
     "data": {
      "text/plain": [
       "(7913, 7)"
      ]
     },
     "execution_count": 13,
     "metadata": {},
     "output_type": "execute_result"
    }
   ],
   "source": [
    "df_uk.shape"
   ]
  },
  {
   "cell_type": "code",
   "execution_count": 14,
   "id": "31277ef7",
   "metadata": {},
   "outputs": [
    {
     "data": {
      "text/plain": [
       "4547"
      ]
     },
     "execution_count": 14,
     "metadata": {},
     "output_type": "execute_result"
    }
   ],
   "source": [
    "df_uk['date'].isna().sum()"
   ]
  },
  {
   "cell_type": "markdown",
   "id": "283c6ba7",
   "metadata": {},
   "source": [
    "## There are NOT a lot of dates in this dataset! \n",
    "Luckly this dataset contains URL column where I can fetch the date in the format \"YYYY/MM/DD\""
   ]
  },
  {
   "cell_type": "code",
   "execution_count": 15,
   "id": "0757833e",
   "metadata": {},
   "outputs": [],
   "source": [
    "def extract_date_from_url(url):\n",
    "    # Match YYYY/MM/DD pattern\n",
    "    match = re.search(r'/(\\d{4})/(\\d{2})/(\\d{2})/', url)\n",
    "    if match:\n",
    "        try:\n",
    "            # Format to standard datetime or string\n",
    "            return datetime.strptime('/'.join(match.groups()), '%Y/%m/%d').date()\n",
    "        except ValueError:\n",
    "            return None\n",
    "    return None\n",
    "\n",
    "# Apply only to missing dates\n",
    "df_uk['date'] = df_uk.apply(\n",
    "    lambda row: extract_date_from_url(row['url']) if pd.isna(row['date']) else row['date'],\n",
    "    axis=1\n",
    ")"
   ]
  },
  {
   "cell_type": "code",
   "execution_count": 16,
   "id": "a7051102",
   "metadata": {},
   "outputs": [
    {
     "data": {
      "text/plain": [
       "<bound method NDFrame.head of 150      https://www.solarpowerportal.co.uk/cfd_portfol...\n",
       "154      https://www.thinkgeoenergy.com/drilling-begins...\n",
       "156      https://www.thinkgeoenergy.com/bc-canada-first...\n",
       "170      https://www.energyvoice.com/renewables-energy-...\n",
       "176      https://www.energyvoice.com/renewables-energy-...\n",
       "                               ...                        \n",
       "20082    https://www.pv-magazine.com/press-releases/sol...\n",
       "20086    https://www.pv-magazine.com/press-releases/jin...\n",
       "20091    https://www.pv-magazine.com/press-releases/hua...\n",
       "20094    https://www.pv-magazine.com/press-releases/atw...\n",
       "20095    https://www.pv-magazine.com/webinars/the-impac...\n",
       "Name: url, Length: 2093, dtype: object>"
      ]
     },
     "execution_count": 16,
     "metadata": {},
     "output_type": "execute_result"
    }
   ],
   "source": [
    "df_uk[df_uk['date'].isna()]['url'].head"
   ]
  },
  {
   "cell_type": "code",
   "execution_count": 17,
   "id": "93a53ec5",
   "metadata": {},
   "outputs": [
    {
     "data": {
      "text/plain": [
       "2093"
      ]
     },
     "execution_count": 17,
     "metadata": {},
     "output_type": "execute_result"
    }
   ],
   "source": [
    "df_uk['date'].isna().sum()\n"
   ]
  },
  {
   "cell_type": "markdown",
   "id": "9b165007",
   "metadata": {},
   "source": [
    "There are still 2093 articles without date... we are going to drop them."
   ]
  },
  {
   "cell_type": "code",
   "execution_count": 18,
   "id": "8e7b232e",
   "metadata": {},
   "outputs": [
    {
     "data": {
      "text/plain": [
       "(5820, 7)"
      ]
     },
     "execution_count": 18,
     "metadata": {},
     "output_type": "execute_result"
    }
   ],
   "source": [
    "df_uk = df_uk.dropna(subset=['date']).copy()\n",
    "df_uk.shape"
   ]
  },
  {
   "cell_type": "markdown",
   "id": "b91c9216",
   "metadata": {},
   "source": [
    "# Delete or Impute Nulls Values"
   ]
  },
  {
   "cell_type": "code",
   "execution_count": 19,
   "id": "06049ab0",
   "metadata": {},
   "outputs": [
    {
     "data": {
      "text/html": [
       "<div>\n",
       "<style scoped>\n",
       "    .dataframe tbody tr th:only-of-type {\n",
       "        vertical-align: middle;\n",
       "    }\n",
       "\n",
       "    .dataframe tbody tr th {\n",
       "        vertical-align: top;\n",
       "    }\n",
       "\n",
       "    .dataframe thead th {\n",
       "        text-align: right;\n",
       "    }\n",
       "</style>\n",
       "<table border=\"1\" class=\"dataframe\">\n",
       "  <thead>\n",
       "    <tr style=\"text-align: right;\">\n",
       "      <th></th>\n",
       "      <th>Unnamed: 0</th>\n",
       "      <th>title</th>\n",
       "      <th>date</th>\n",
       "      <th>author</th>\n",
       "      <th>content</th>\n",
       "      <th>domain</th>\n",
       "      <th>url</th>\n",
       "    </tr>\n",
       "  </thead>\n",
       "  <tbody>\n",
       "    <tr>\n",
       "      <th>0</th>\n",
       "      <td>93320</td>\n",
       "      <td>XPeng Delivered ~100,000 Vehicles In 2021</td>\n",
       "      <td>2022-02-01 00:00:00</td>\n",
       "      <td>NaN</td>\n",
       "      <td>['Chinese automotive startup XPeng has shown o...</td>\n",
       "      <td>cleantechnica</td>\n",
       "      <td>https://cleantechnica.com/2022/01/02/xpeng-del...</td>\n",
       "    </tr>\n",
       "    <tr>\n",
       "      <th>1</th>\n",
       "      <td>93321</td>\n",
       "      <td>Green Hydrogen: Drop In Bucket Or Big Splash?</td>\n",
       "      <td>2022-02-01 00:00:00</td>\n",
       "      <td>NaN</td>\n",
       "      <td>['Sinopec has laid plans to build the largest ...</td>\n",
       "      <td>cleantechnica</td>\n",
       "      <td>https://cleantechnica.com/2022/01/02/its-a-gre...</td>\n",
       "    </tr>\n",
       "    <tr>\n",
       "      <th>2</th>\n",
       "      <td>98159</td>\n",
       "      <td>World’ s largest floating PV plant goes online...</td>\n",
       "      <td>2022-03-01 00:00:00</td>\n",
       "      <td>NaN</td>\n",
       "      <td>['Huaneng Power International has switched on ...</td>\n",
       "      <td>pv-magazine</td>\n",
       "      <td>https://www.pv-magazine.com/2022/01/03/worlds-...</td>\n",
       "    </tr>\n",
       "    <tr>\n",
       "      <th>3</th>\n",
       "      <td>98158</td>\n",
       "      <td>Iran wants to deploy 10 GW of renewables over ...</td>\n",
       "      <td>2022-03-01 00:00:00</td>\n",
       "      <td>NaN</td>\n",
       "      <td>['According to the Iranian authorities, there ...</td>\n",
       "      <td>pv-magazine</td>\n",
       "      <td>https://www.pv-magazine.com/2022/01/03/iran-wa...</td>\n",
       "    </tr>\n",
       "    <tr>\n",
       "      <th>6</th>\n",
       "      <td>42776</td>\n",
       "      <td>BP: Commitment to Scotland is ‘ unique differe...</td>\n",
       "      <td>2022-03-01 00:00:00</td>\n",
       "      <td>NaN</td>\n",
       "      <td>['BP’ s “ long-term ” commitment to Scotland i...</td>\n",
       "      <td>energyvoice</td>\n",
       "      <td>https://www.energyvoice.com/renewables-energy-...</td>\n",
       "    </tr>\n",
       "  </tbody>\n",
       "</table>\n",
       "</div>"
      ],
      "text/plain": [
       "   Unnamed: 0                                              title  \\\n",
       "0       93320          XPeng Delivered ~100,000 Vehicles In 2021   \n",
       "1       93321      Green Hydrogen: Drop In Bucket Or Big Splash?   \n",
       "2       98159  World’ s largest floating PV plant goes online...   \n",
       "3       98158  Iran wants to deploy 10 GW of renewables over ...   \n",
       "6       42776  BP: Commitment to Scotland is ‘ unique differe...   \n",
       "\n",
       "                  date  author  \\\n",
       "0  2022-02-01 00:00:00     NaN   \n",
       "1  2022-02-01 00:00:00     NaN   \n",
       "2  2022-03-01 00:00:00     NaN   \n",
       "3  2022-03-01 00:00:00     NaN   \n",
       "6  2022-03-01 00:00:00     NaN   \n",
       "\n",
       "                                             content         domain  \\\n",
       "0  ['Chinese automotive startup XPeng has shown o...  cleantechnica   \n",
       "1  ['Sinopec has laid plans to build the largest ...  cleantechnica   \n",
       "2  ['Huaneng Power International has switched on ...    pv-magazine   \n",
       "3  ['According to the Iranian authorities, there ...    pv-magazine   \n",
       "6  ['BP’ s “ long-term ” commitment to Scotland i...    energyvoice   \n",
       "\n",
       "                                                 url  \n",
       "0  https://cleantechnica.com/2022/01/02/xpeng-del...  \n",
       "1  https://cleantechnica.com/2022/01/02/its-a-gre...  \n",
       "2  https://www.pv-magazine.com/2022/01/03/worlds-...  \n",
       "3  https://www.pv-magazine.com/2022/01/03/iran-wa...  \n",
       "6  https://www.energyvoice.com/renewables-energy-...  "
      ]
     },
     "execution_count": 19,
     "metadata": {},
     "output_type": "execute_result"
    }
   ],
   "source": [
    "df_uk.head()"
   ]
  },
  {
   "cell_type": "code",
   "execution_count": 20,
   "id": "19dfdb4c",
   "metadata": {},
   "outputs": [],
   "source": [
    "df_uk = df_uk.drop(columns=['author'])"
   ]
  },
  {
   "cell_type": "code",
   "execution_count": 21,
   "id": "b4c0fdb5",
   "metadata": {},
   "outputs": [
    {
     "name": "stdout",
     "output_type": "stream",
     "text": [
      "Unnamed: 0    0\n",
      "title         0\n",
      "date          0\n",
      "content       0\n",
      "domain        0\n",
      "url           0\n",
      "dtype: int64\n"
     ]
    },
    {
     "data": {
      "text/plain": [
       "(5820, 6)"
      ]
     },
     "execution_count": 21,
     "metadata": {},
     "output_type": "execute_result"
    }
   ],
   "source": [
    "print(df_uk.isnull().sum())\n",
    "df_uk.shape"
   ]
  },
  {
   "cell_type": "markdown",
   "id": "bdb74258",
   "metadata": {},
   "source": [
    "# Text Cleaning:\n",
    "**Preprocessing:** lowercase, delete numbers, punctuation and symbols (#\"*!&%), splitting, tokenizing?, removing stopwords, lemmatizing"
   ]
  },
  {
   "cell_type": "code",
   "execution_count": 22,
   "id": "04e43ad5",
   "metadata": {},
   "outputs": [
    {
     "data": {
      "text/html": [
       "<div>\n",
       "<style scoped>\n",
       "    .dataframe tbody tr th:only-of-type {\n",
       "        vertical-align: middle;\n",
       "    }\n",
       "\n",
       "    .dataframe tbody tr th {\n",
       "        vertical-align: top;\n",
       "    }\n",
       "\n",
       "    .dataframe thead th {\n",
       "        text-align: right;\n",
       "    }\n",
       "</style>\n",
       "<table border=\"1\" class=\"dataframe\">\n",
       "  <thead>\n",
       "    <tr style=\"text-align: right;\">\n",
       "      <th></th>\n",
       "      <th>date</th>\n",
       "      <th>domain</th>\n",
       "      <th>Clean Title</th>\n",
       "      <th>Clean Content</th>\n",
       "    </tr>\n",
       "  </thead>\n",
       "  <tbody>\n",
       "    <tr>\n",
       "      <th>0</th>\n",
       "      <td>2022-02-01 00:00:00</td>\n",
       "      <td>cleantechnica</td>\n",
       "      <td>xpeng delivered vehicle</td>\n",
       "      <td>chinese automotive startup xpeng shown one dra...</td>\n",
       "    </tr>\n",
       "    <tr>\n",
       "      <th>1</th>\n",
       "      <td>2022-02-01 00:00:00</td>\n",
       "      <td>cleantechnica</td>\n",
       "      <td>green hydrogen drop bucket big splash</td>\n",
       "      <td>sinopec laid plan build largest green hydrogen...</td>\n",
       "    </tr>\n",
       "    <tr>\n",
       "      <th>2</th>\n",
       "      <td>2022-03-01 00:00:00</td>\n",
       "      <td>pv-magazine</td>\n",
       "      <td>world’ largest floating pv plant go online chi...</td>\n",
       "      <td>huaneng power international switched mw floati...</td>\n",
       "    </tr>\n",
       "    <tr>\n",
       "      <th>3</th>\n",
       "      <td>2022-03-01 00:00:00</td>\n",
       "      <td>pv-magazine</td>\n",
       "      <td>iran want deploy gw renewables next four year ...</td>\n",
       "      <td>according iranian authority currently gw renew...</td>\n",
       "    </tr>\n",
       "    <tr>\n",
       "      <th>6</th>\n",
       "      <td>2022-03-01 00:00:00</td>\n",
       "      <td>energyvoice</td>\n",
       "      <td>bp commitment scotland ‘ unique differentiator...</td>\n",
       "      <td>bp’ “ longterm ” commitment scotland key selli...</td>\n",
       "    </tr>\n",
       "  </tbody>\n",
       "</table>\n",
       "</div>"
      ],
      "text/plain": [
       "                  date         domain  \\\n",
       "0  2022-02-01 00:00:00  cleantechnica   \n",
       "1  2022-02-01 00:00:00  cleantechnica   \n",
       "2  2022-03-01 00:00:00    pv-magazine   \n",
       "3  2022-03-01 00:00:00    pv-magazine   \n",
       "6  2022-03-01 00:00:00    energyvoice   \n",
       "\n",
       "                                         Clean Title  \\\n",
       "0                            xpeng delivered vehicle   \n",
       "1              green hydrogen drop bucket big splash   \n",
       "2  world’ largest floating pv plant go online chi...   \n",
       "3  iran want deploy gw renewables next four year ...   \n",
       "6  bp commitment scotland ‘ unique differentiator...   \n",
       "\n",
       "                                       Clean Content  \n",
       "0  chinese automotive startup xpeng shown one dra...  \n",
       "1  sinopec laid plan build largest green hydrogen...  \n",
       "2  huaneng power international switched mw floati...  \n",
       "3  according iranian authority currently gw renew...  \n",
       "6  bp’ “ longterm ” commitment scotland key selli...  "
      ]
     },
     "execution_count": 22,
     "metadata": {},
     "output_type": "execute_result"
    }
   ],
   "source": [
    "stop_words = set(stopwords.words('english'))\n",
    "lemmatizer = WordNetLemmatizer()\n",
    "\n",
    "def preprocess_text(text):\n",
    "    text = text.lower()\n",
    "    text = text.translate(str.maketrans(\"\",\"\", string.punctuation))\n",
    "    text = ''.join(char for char in text if not char.isdigit())\n",
    "\n",
    "    tokens = text.split()\n",
    "    tokens = [word for word in tokens if word not in stop_words]\n",
    "    tokens = [lemmatizer.lemmatize(word) for word in tokens]\n",
    "\n",
    "    return ' '.join(tokens)\n",
    "\n",
    "df_uk['Clean Title'] = df_uk['title'].apply(preprocess_text)\n",
    "df_uk['Clean Content'] = df_uk['content'].apply(preprocess_text)\n",
    "df_uk_clean = df_uk.copy()\n",
    "\n",
    "df_uk_clean = df_uk.drop(columns=['title','content','url', 'Unnamed: 0'])\n",
    "df_uk_clean.head()"
   ]
  },
  {
   "cell_type": "markdown",
   "id": "04301a28",
   "metadata": {},
   "source": [
    "### Date column needs to be **dtype** format!"
   ]
  },
  {
   "cell_type": "code",
   "execution_count": 23,
   "id": "63d6a250",
   "metadata": {},
   "outputs": [
    {
     "name": "stdout",
     "output_type": "stream",
     "text": [
      "object\n"
     ]
    }
   ],
   "source": [
    "print(df_uk_clean['date'].dtype)"
   ]
  },
  {
   "cell_type": "code",
   "execution_count": 24,
   "id": "eecbc928",
   "metadata": {},
   "outputs": [
    {
     "name": "stdout",
     "output_type": "stream",
     "text": [
      "datetime64[ns]\n"
     ]
    }
   ],
   "source": [
    "df_uk_clean['date'] = pd.to_datetime(df_uk_clean['date'], dayfirst=True, errors='coerce')\n",
    "print(df_uk_clean['date'].dtype)"
   ]
  },
  {
   "cell_type": "code",
   "execution_count": 25,
   "id": "75af3321",
   "metadata": {},
   "outputs": [
    {
     "data": {
      "text/html": [
       "<div>\n",
       "<style scoped>\n",
       "    .dataframe tbody tr th:only-of-type {\n",
       "        vertical-align: middle;\n",
       "    }\n",
       "\n",
       "    .dataframe tbody tr th {\n",
       "        vertical-align: top;\n",
       "    }\n",
       "\n",
       "    .dataframe thead th {\n",
       "        text-align: right;\n",
       "    }\n",
       "</style>\n",
       "<table border=\"1\" class=\"dataframe\">\n",
       "  <thead>\n",
       "    <tr style=\"text-align: right;\">\n",
       "      <th></th>\n",
       "      <th>date</th>\n",
       "      <th>domain</th>\n",
       "      <th>Clean Title</th>\n",
       "      <th>Clean Content</th>\n",
       "    </tr>\n",
       "  </thead>\n",
       "  <tbody>\n",
       "    <tr>\n",
       "      <th>0</th>\n",
       "      <td>2022-02-01</td>\n",
       "      <td>cleantechnica</td>\n",
       "      <td>xpeng delivered vehicle</td>\n",
       "      <td>chinese automotive startup xpeng shown one dra...</td>\n",
       "    </tr>\n",
       "    <tr>\n",
       "      <th>1</th>\n",
       "      <td>2022-02-01</td>\n",
       "      <td>cleantechnica</td>\n",
       "      <td>green hydrogen drop bucket big splash</td>\n",
       "      <td>sinopec laid plan build largest green hydrogen...</td>\n",
       "    </tr>\n",
       "    <tr>\n",
       "      <th>2</th>\n",
       "      <td>2022-03-01</td>\n",
       "      <td>pv-magazine</td>\n",
       "      <td>world’ largest floating pv plant go online chi...</td>\n",
       "      <td>huaneng power international switched mw floati...</td>\n",
       "    </tr>\n",
       "    <tr>\n",
       "      <th>3</th>\n",
       "      <td>2022-03-01</td>\n",
       "      <td>pv-magazine</td>\n",
       "      <td>iran want deploy gw renewables next four year ...</td>\n",
       "      <td>according iranian authority currently gw renew...</td>\n",
       "    </tr>\n",
       "    <tr>\n",
       "      <th>6</th>\n",
       "      <td>2022-03-01</td>\n",
       "      <td>energyvoice</td>\n",
       "      <td>bp commitment scotland ‘ unique differentiator...</td>\n",
       "      <td>bp’ “ longterm ” commitment scotland key selli...</td>\n",
       "    </tr>\n",
       "  </tbody>\n",
       "</table>\n",
       "</div>"
      ],
      "text/plain": [
       "        date         domain  \\\n",
       "0 2022-02-01  cleantechnica   \n",
       "1 2022-02-01  cleantechnica   \n",
       "2 2022-03-01    pv-magazine   \n",
       "3 2022-03-01    pv-magazine   \n",
       "6 2022-03-01    energyvoice   \n",
       "\n",
       "                                         Clean Title  \\\n",
       "0                            xpeng delivered vehicle   \n",
       "1              green hydrogen drop bucket big splash   \n",
       "2  world’ largest floating pv plant go online chi...   \n",
       "3  iran want deploy gw renewables next four year ...   \n",
       "6  bp commitment scotland ‘ unique differentiator...   \n",
       "\n",
       "                                       Clean Content  \n",
       "0  chinese automotive startup xpeng shown one dra...  \n",
       "1  sinopec laid plan build largest green hydrogen...  \n",
       "2  huaneng power international switched mw floati...  \n",
       "3  according iranian authority currently gw renew...  \n",
       "6  bp’ “ longterm ” commitment scotland key selli...  "
      ]
     },
     "execution_count": 25,
     "metadata": {},
     "output_type": "execute_result"
    }
   ],
   "source": [
    "df_uk_clean.head()"
   ]
  },
  {
   "cell_type": "markdown",
   "id": "334ad824",
   "metadata": {},
   "source": [
    "# Change the column names to match \"TheGuardian Dataset\":\n",
    "\"Date Published, Clean Title, Clean Article Text, Author/Domain\""
   ]
  },
  {
   "cell_type": "code",
   "execution_count": 26,
   "id": "36832a6f",
   "metadata": {},
   "outputs": [
    {
     "data": {
      "text/html": [
       "<div>\n",
       "<style scoped>\n",
       "    .dataframe tbody tr th:only-of-type {\n",
       "        vertical-align: middle;\n",
       "    }\n",
       "\n",
       "    .dataframe tbody tr th {\n",
       "        vertical-align: top;\n",
       "    }\n",
       "\n",
       "    .dataframe thead th {\n",
       "        text-align: right;\n",
       "    }\n",
       "</style>\n",
       "<table border=\"1\" class=\"dataframe\">\n",
       "  <thead>\n",
       "    <tr style=\"text-align: right;\">\n",
       "      <th></th>\n",
       "      <th>Date Published</th>\n",
       "      <th>Author_Domain</th>\n",
       "      <th>Clean Title</th>\n",
       "      <th>Clean Article Text</th>\n",
       "    </tr>\n",
       "  </thead>\n",
       "  <tbody>\n",
       "    <tr>\n",
       "      <th>0</th>\n",
       "      <td>2022-02-01</td>\n",
       "      <td>cleantechnica</td>\n",
       "      <td>xpeng delivered vehicle</td>\n",
       "      <td>chinese automotive startup xpeng shown one dra...</td>\n",
       "    </tr>\n",
       "    <tr>\n",
       "      <th>1</th>\n",
       "      <td>2022-02-01</td>\n",
       "      <td>cleantechnica</td>\n",
       "      <td>green hydrogen drop bucket big splash</td>\n",
       "      <td>sinopec laid plan build largest green hydrogen...</td>\n",
       "    </tr>\n",
       "    <tr>\n",
       "      <th>2</th>\n",
       "      <td>2022-03-01</td>\n",
       "      <td>pv-magazine</td>\n",
       "      <td>world’ largest floating pv plant go online chi...</td>\n",
       "      <td>huaneng power international switched mw floati...</td>\n",
       "    </tr>\n",
       "    <tr>\n",
       "      <th>3</th>\n",
       "      <td>2022-03-01</td>\n",
       "      <td>pv-magazine</td>\n",
       "      <td>iran want deploy gw renewables next four year ...</td>\n",
       "      <td>according iranian authority currently gw renew...</td>\n",
       "    </tr>\n",
       "    <tr>\n",
       "      <th>6</th>\n",
       "      <td>2022-03-01</td>\n",
       "      <td>energyvoice</td>\n",
       "      <td>bp commitment scotland ‘ unique differentiator...</td>\n",
       "      <td>bp’ “ longterm ” commitment scotland key selli...</td>\n",
       "    </tr>\n",
       "    <tr>\n",
       "      <th>...</th>\n",
       "      <td>...</td>\n",
       "      <td>...</td>\n",
       "      <td>...</td>\n",
       "      <td>...</td>\n",
       "    </tr>\n",
       "    <tr>\n",
       "      <th>20101</th>\n",
       "      <td>2024-10-24</td>\n",
       "      <td>pv-magazine</td>\n",
       "      <td>european commission offer share € billion fund...</td>\n",
       "      <td>european commission offering netzero project s...</td>\n",
       "    </tr>\n",
       "    <tr>\n",
       "      <th>20102</th>\n",
       "      <td>2024-10-24</td>\n",
       "      <td>pv-magazine</td>\n",
       "      <td>sunwind energy’ new pv planter combine cultiva...</td>\n",
       "      <td>specializing design custom solar system sunwin...</td>\n",
       "    </tr>\n",
       "    <tr>\n",
       "      <th>20108</th>\n",
       "      <td>2024-10-24</td>\n",
       "      <td>pv-magazine</td>\n",
       "      <td>australia gw utilityscale battery construction...</td>\n",
       "      <td>volume largescale battery energy storage proje...</td>\n",
       "    </tr>\n",
       "    <tr>\n",
       "      <th>20109</th>\n",
       "      <td>2024-10-24</td>\n",
       "      <td>pv-magazine</td>\n",
       "      <td>residential pv price germany drop within month...</td>\n",
       "      <td>comparison site selfmade energy show addition ...</td>\n",
       "    </tr>\n",
       "    <tr>\n",
       "      <th>20110</th>\n",
       "      <td>2024-10-24</td>\n",
       "      <td>pv-magazine</td>\n",
       "      <td>kaust helmholtzzentrum berlin present efficien...</td>\n",
       "      <td>perovskitesilicon tandem device two terminal c...</td>\n",
       "    </tr>\n",
       "  </tbody>\n",
       "</table>\n",
       "<p>5820 rows × 4 columns</p>\n",
       "</div>"
      ],
      "text/plain": [
       "      Date Published  Author_Domain  \\\n",
       "0         2022-02-01  cleantechnica   \n",
       "1         2022-02-01  cleantechnica   \n",
       "2         2022-03-01    pv-magazine   \n",
       "3         2022-03-01    pv-magazine   \n",
       "6         2022-03-01    energyvoice   \n",
       "...              ...            ...   \n",
       "20101     2024-10-24    pv-magazine   \n",
       "20102     2024-10-24    pv-magazine   \n",
       "20108     2024-10-24    pv-magazine   \n",
       "20109     2024-10-24    pv-magazine   \n",
       "20110     2024-10-24    pv-magazine   \n",
       "\n",
       "                                             Clean Title  \\\n",
       "0                                xpeng delivered vehicle   \n",
       "1                  green hydrogen drop bucket big splash   \n",
       "2      world’ largest floating pv plant go online chi...   \n",
       "3      iran want deploy gw renewables next four year ...   \n",
       "6      bp commitment scotland ‘ unique differentiator...   \n",
       "...                                                  ...   \n",
       "20101  european commission offer share € billion fund...   \n",
       "20102  sunwind energy’ new pv planter combine cultiva...   \n",
       "20108  australia gw utilityscale battery construction...   \n",
       "20109  residential pv price germany drop within month...   \n",
       "20110  kaust helmholtzzentrum berlin present efficien...   \n",
       "\n",
       "                                      Clean Article Text  \n",
       "0      chinese automotive startup xpeng shown one dra...  \n",
       "1      sinopec laid plan build largest green hydrogen...  \n",
       "2      huaneng power international switched mw floati...  \n",
       "3      according iranian authority currently gw renew...  \n",
       "6      bp’ “ longterm ” commitment scotland key selli...  \n",
       "...                                                  ...  \n",
       "20101  european commission offering netzero project s...  \n",
       "20102  specializing design custom solar system sunwin...  \n",
       "20108  volume largescale battery energy storage proje...  \n",
       "20109  comparison site selfmade energy show addition ...  \n",
       "20110  perovskitesilicon tandem device two terminal c...  \n",
       "\n",
       "[5820 rows x 4 columns]"
      ]
     },
     "execution_count": 26,
     "metadata": {},
     "output_type": "execute_result"
    }
   ],
   "source": [
    "df_uk_clean = df_uk_clean.rename(columns={\n",
    "    'date' : 'Date Published',\n",
    "    'Clean Content' : 'Clean Article Text',\n",
    "    'domain' : 'Author_Domain'\n",
    "    })\n",
    "df_uk_clean"
   ]
  },
  {
   "cell_type": "markdown",
   "id": "ea7d55c6",
   "metadata": {},
   "source": [
    "# Sentiment Analysis Testing\n",
    "Let's try different models, starting with the basic from \"Your first Transformers Challenge\" -- **\"twitter-roberta-base-sentiment-latest\"**"
   ]
  },
  {
   "cell_type": "code",
   "execution_count": 27,
   "id": "bc17e58d",
   "metadata": {},
   "outputs": [
    {
     "name": "stdout",
     "output_type": "stream",
     "text": [
      "Requirement already satisfied: transformers in /Users/enrique/.pyenv/versions/3.10.6/envs/SolarSoundBytes/lib/python3.10/site-packages (4.52.4)\n",
      "Requirement already satisfied: torch in /Users/enrique/.pyenv/versions/3.10.6/envs/SolarSoundBytes/lib/python3.10/site-packages (2.7.0)\n",
      "Requirement already satisfied: filelock in /Users/enrique/.pyenv/versions/3.10.6/envs/SolarSoundBytes/lib/python3.10/site-packages (from transformers) (3.18.0)\n",
      "Requirement already satisfied: huggingface-hub<1.0,>=0.30.0 in /Users/enrique/.pyenv/versions/3.10.6/envs/SolarSoundBytes/lib/python3.10/site-packages (from transformers) (0.32.4)\n",
      "Requirement already satisfied: numpy>=1.17 in /Users/enrique/.pyenv/versions/3.10.6/envs/SolarSoundBytes/lib/python3.10/site-packages (from transformers) (1.26.4)\n",
      "Requirement already satisfied: packaging>=20.0 in /Users/enrique/.pyenv/versions/3.10.6/envs/SolarSoundBytes/lib/python3.10/site-packages (from transformers) (25.0)\n",
      "Requirement already satisfied: pyyaml>=5.1 in /Users/enrique/.pyenv/versions/3.10.6/envs/SolarSoundBytes/lib/python3.10/site-packages (from transformers) (6.0.2)\n",
      "Requirement already satisfied: regex!=2019.12.17 in /Users/enrique/.pyenv/versions/3.10.6/envs/SolarSoundBytes/lib/python3.10/site-packages (from transformers) (2024.11.6)\n",
      "Requirement already satisfied: requests in /Users/enrique/.pyenv/versions/3.10.6/envs/SolarSoundBytes/lib/python3.10/site-packages (from transformers) (2.32.3)\n",
      "Requirement already satisfied: tokenizers<0.22,>=0.21 in /Users/enrique/.pyenv/versions/3.10.6/envs/SolarSoundBytes/lib/python3.10/site-packages (from transformers) (0.21.1)\n",
      "Requirement already satisfied: safetensors>=0.4.3 in /Users/enrique/.pyenv/versions/3.10.6/envs/SolarSoundBytes/lib/python3.10/site-packages (from transformers) (0.5.3)\n",
      "Requirement already satisfied: tqdm>=4.27 in /Users/enrique/.pyenv/versions/3.10.6/envs/SolarSoundBytes/lib/python3.10/site-packages (from transformers) (4.67.1)\n",
      "Requirement already satisfied: fsspec>=2023.5.0 in /Users/enrique/.pyenv/versions/3.10.6/envs/SolarSoundBytes/lib/python3.10/site-packages (from huggingface-hub<1.0,>=0.30.0->transformers) (2025.5.1)\n",
      "Requirement already satisfied: typing-extensions>=3.7.4.3 in /Users/enrique/.pyenv/versions/3.10.6/envs/SolarSoundBytes/lib/python3.10/site-packages (from huggingface-hub<1.0,>=0.30.0->transformers) (4.14.0)\n",
      "Requirement already satisfied: hf-xet<2.0.0,>=1.1.2 in /Users/enrique/.pyenv/versions/3.10.6/envs/SolarSoundBytes/lib/python3.10/site-packages (from huggingface-hub<1.0,>=0.30.0->transformers) (1.1.2)\n",
      "Requirement already satisfied: sympy>=1.13.3 in /Users/enrique/.pyenv/versions/3.10.6/envs/SolarSoundBytes/lib/python3.10/site-packages (from torch) (1.14.0)\n",
      "Requirement already satisfied: networkx in /Users/enrique/.pyenv/versions/3.10.6/envs/SolarSoundBytes/lib/python3.10/site-packages (from torch) (3.4.2)\n",
      "Requirement already satisfied: jinja2 in /Users/enrique/.pyenv/versions/3.10.6/envs/SolarSoundBytes/lib/python3.10/site-packages (from torch) (3.1.6)\n",
      "Requirement already satisfied: mpmath<1.4,>=1.1.0 in /Users/enrique/.pyenv/versions/3.10.6/envs/SolarSoundBytes/lib/python3.10/site-packages (from sympy>=1.13.3->torch) (1.3.0)\n",
      "Requirement already satisfied: MarkupSafe>=2.0 in /Users/enrique/.pyenv/versions/3.10.6/envs/SolarSoundBytes/lib/python3.10/site-packages (from jinja2->torch) (3.0.2)\n",
      "Requirement already satisfied: charset-normalizer<4,>=2 in /Users/enrique/.pyenv/versions/3.10.6/envs/SolarSoundBytes/lib/python3.10/site-packages (from requests->transformers) (3.4.2)\n",
      "Requirement already satisfied: idna<4,>=2.5 in /Users/enrique/.pyenv/versions/3.10.6/envs/SolarSoundBytes/lib/python3.10/site-packages (from requests->transformers) (3.10)\n",
      "Requirement already satisfied: urllib3<3,>=1.21.1 in /Users/enrique/.pyenv/versions/3.10.6/envs/SolarSoundBytes/lib/python3.10/site-packages (from requests->transformers) (2.4.0)\n",
      "Requirement already satisfied: certifi>=2017.4.17 in /Users/enrique/.pyenv/versions/3.10.6/envs/SolarSoundBytes/lib/python3.10/site-packages (from requests->transformers) (2025.4.26)\n"
     ]
    }
   ],
   "source": [
    "!pip install transformers torch"
   ]
  },
  {
   "cell_type": "code",
   "execution_count": 28,
   "id": "fb34fd26",
   "metadata": {},
   "outputs": [],
   "source": [
    "from transformers import pipeline\n",
    "from transformers import AutoTokenizer, AutoModelForSequenceClassification\n",
    "import torch"
   ]
  },
  {
   "cell_type": "code",
   "execution_count": 36,
   "id": "803be1d9",
   "metadata": {},
   "outputs": [
    {
     "name": "stderr",
     "output_type": "stream",
     "text": [
      "Device set to use mps:0\n"
     ]
    }
   ],
   "source": [
    "sentiment_pipeline = pipeline(\"sentiment-analysis\", model=\"distilbert-base-uncased-finetuned-sst-2-english\")\n",
    "\n",
    "#sentiment_pipeline(\"Transformers are awesome!\")[0]['label']"
   ]
  },
  {
   "cell_type": "code",
   "execution_count": 37,
   "id": "c5da5033",
   "metadata": {},
   "outputs": [],
   "source": [
    "def analyze_sentiment(text):\n",
    "    try:\n",
    "        result = sentiment_pipeline(text[:500])[0]  # Evitar textos muy largos\n",
    "        return pd.Series([result['label'], result['score']])\n",
    "    except:\n",
    "        return pd.Series([None, None])"
   ]
  },
  {
   "cell_type": "code",
   "execution_count": 38,
   "id": "b57f998c",
   "metadata": {},
   "outputs": [
    {
     "data": {
      "text/html": [
       "<div>\n",
       "<style scoped>\n",
       "    .dataframe tbody tr th:only-of-type {\n",
       "        vertical-align: middle;\n",
       "    }\n",
       "\n",
       "    .dataframe tbody tr th {\n",
       "        vertical-align: top;\n",
       "    }\n",
       "\n",
       "    .dataframe thead th {\n",
       "        text-align: right;\n",
       "    }\n",
       "</style>\n",
       "<table border=\"1\" class=\"dataframe\">\n",
       "  <thead>\n",
       "    <tr style=\"text-align: right;\">\n",
       "      <th></th>\n",
       "      <th>Date Published</th>\n",
       "      <th>Author_Domain</th>\n",
       "      <th>Clean Title</th>\n",
       "      <th>Clean Article Text</th>\n",
       "      <th>sentiment</th>\n",
       "      <th>sentiment_conf</th>\n",
       "    </tr>\n",
       "  </thead>\n",
       "  <tbody>\n",
       "    <tr>\n",
       "      <th>0</th>\n",
       "      <td>2022-02-01</td>\n",
       "      <td>cleantechnica</td>\n",
       "      <td>xpeng delivered vehicle</td>\n",
       "      <td>chinese automotive startup xpeng shown one dra...</td>\n",
       "      <td>POSITIVE</td>\n",
       "      <td>0.992461</td>\n",
       "    </tr>\n",
       "    <tr>\n",
       "      <th>1</th>\n",
       "      <td>2022-02-01</td>\n",
       "      <td>cleantechnica</td>\n",
       "      <td>green hydrogen drop bucket big splash</td>\n",
       "      <td>sinopec laid plan build largest green hydrogen...</td>\n",
       "      <td>NEGATIVE</td>\n",
       "      <td>0.939906</td>\n",
       "    </tr>\n",
       "    <tr>\n",
       "      <th>2</th>\n",
       "      <td>2022-03-01</td>\n",
       "      <td>pv-magazine</td>\n",
       "      <td>world’ largest floating pv plant go online chi...</td>\n",
       "      <td>huaneng power international switched mw floati...</td>\n",
       "      <td>NEGATIVE</td>\n",
       "      <td>0.709697</td>\n",
       "    </tr>\n",
       "    <tr>\n",
       "      <th>3</th>\n",
       "      <td>2022-03-01</td>\n",
       "      <td>pv-magazine</td>\n",
       "      <td>iran want deploy gw renewables next four year ...</td>\n",
       "      <td>according iranian authority currently gw renew...</td>\n",
       "      <td>POSITIVE</td>\n",
       "      <td>0.654343</td>\n",
       "    </tr>\n",
       "    <tr>\n",
       "      <th>6</th>\n",
       "      <td>2022-03-01</td>\n",
       "      <td>energyvoice</td>\n",
       "      <td>bp commitment scotland ‘ unique differentiator...</td>\n",
       "      <td>bp’ “ longterm ” commitment scotland key selli...</td>\n",
       "      <td>NEGATIVE</td>\n",
       "      <td>0.956339</td>\n",
       "    </tr>\n",
       "  </tbody>\n",
       "</table>\n",
       "</div>"
      ],
      "text/plain": [
       "  Date Published  Author_Domain  \\\n",
       "0     2022-02-01  cleantechnica   \n",
       "1     2022-02-01  cleantechnica   \n",
       "2     2022-03-01    pv-magazine   \n",
       "3     2022-03-01    pv-magazine   \n",
       "6     2022-03-01    energyvoice   \n",
       "\n",
       "                                         Clean Title  \\\n",
       "0                            xpeng delivered vehicle   \n",
       "1              green hydrogen drop bucket big splash   \n",
       "2  world’ largest floating pv plant go online chi...   \n",
       "3  iran want deploy gw renewables next four year ...   \n",
       "6  bp commitment scotland ‘ unique differentiator...   \n",
       "\n",
       "                                  Clean Article Text sentiment  sentiment_conf  \n",
       "0  chinese automotive startup xpeng shown one dra...  POSITIVE        0.992461  \n",
       "1  sinopec laid plan build largest green hydrogen...  NEGATIVE        0.939906  \n",
       "2  huaneng power international switched mw floati...  NEGATIVE        0.709697  \n",
       "3  according iranian authority currently gw renew...  POSITIVE        0.654343  \n",
       "6  bp’ “ longterm ” commitment scotland key selli...  NEGATIVE        0.956339  "
      ]
     },
     "execution_count": 38,
     "metadata": {},
     "output_type": "execute_result"
    }
   ],
   "source": [
    "df_uk_clean[['sentiment', 'sentiment_conf']] = df_uk_clean['Clean Article Text'].apply(analyze_sentiment)\n",
    "df_uk_clean.head()"
   ]
  },
  {
   "cell_type": "code",
   "execution_count": 39,
   "id": "a40a8cfb",
   "metadata": {},
   "outputs": [
    {
     "data": {
      "text/plain": [
       "sentiment\n",
       "NEGATIVE    3599\n",
       "POSITIVE    2221\n",
       "Name: count, dtype: int64"
      ]
     },
     "execution_count": 39,
     "metadata": {},
     "output_type": "execute_result"
    }
   ],
   "source": [
    "df_uk_clean['sentiment'].value_counts()"
   ]
  },
  {
   "cell_type": "code",
   "execution_count": 34,
   "id": "413c4aed",
   "metadata": {},
   "outputs": [
    {
     "data": {
      "text/plain": [
       "array(['topcon solar panel price falling germany amid industry struggle – pv magazine international',\n",
       "       'remeredzai joseph kuhudzai author cleantechnica page',\n",
       "       'ediesel truck cost electric truck — counting operation',\n",
       "       'last drop diesel cartel',\n",
       "       'climate disaster hit solar southern brazil – pv magazine international',\n",
       "       'new icct report european trucking fatal flaw favoring hydrogen',\n",
       "       'indonesian government abolishes net metering – pv magazine international',\n",
       "       'renewable energy becomes flash point america culture war',\n",
       "       'snow lake lithium part lithium please cleantech talk',\n",
       "       'green hydrogen headed'], dtype=object)"
      ]
     },
     "execution_count": 34,
     "metadata": {},
     "output_type": "execute_result"
    }
   ],
   "source": [
    "df_uk_clean[df_uk_clean['sentiment']=='negative'].sample(10)['Clean Title'].values\n"
   ]
  },
  {
   "cell_type": "code",
   "execution_count": null,
   "id": "9b2a6e96",
   "metadata": {},
   "outputs": [],
   "source": []
  },
  {
   "cell_type": "code",
   "execution_count": 65,
   "id": "cb5695ee",
   "metadata": {},
   "outputs": [
    {
     "name": "stdout",
     "output_type": "stream",
     "text": [
      "['weekend read chaotic leadership leaf south african dark – pv magazine international'\n",
      " 'big solar project negative impact property value say u study – pv magazine international'\n",
      " 'new technique repair solder interconnection failure solar panel – pv magazine international'\n",
      " 'afghanistan – pv magazine international'\n",
      " 'aerial survey explore geothermal potential lower saxony germany'\n",
      " 'iea pvps – pv magazine international'\n",
      " 'college team compete wind energy water energy tech — winner announced'\n",
      " 'jamaican utility launch solarplusstorage wind project tender – pv magazine international'\n",
      " 'breakthrough producing perovskite solar cell ai – pv magazine international'\n",
      " 'hemetsberger wage battle gender parity solarpower europe – pv magazine international']\n"
     ]
    }
   ],
   "source": [
    "print(df_uk_clean[df_uk_clean['sentiment'] == 'NEGATIVE'].sample(10)['Clean Title'].values)"
   ]
  },
  {
   "cell_type": "code",
   "execution_count": 58,
   "id": "9c7e2063",
   "metadata": {},
   "outputs": [
    {
     "data": {
      "text/plain": [
       "sentiment\n",
       "NEGATIVE    0.618385\n",
       "POSITIVE    0.381615\n",
       "Name: proportion, dtype: float64"
      ]
     },
     "execution_count": 58,
     "metadata": {},
     "output_type": "execute_result"
    }
   ],
   "source": [
    "df_uk_clean['sentiment'].value_counts(normalize=True)"
   ]
  },
  {
   "cell_type": "code",
   "execution_count": null,
   "id": "15e034f4",
   "metadata": {},
   "outputs": [],
   "source": []
  },
  {
   "cell_type": "code",
   "execution_count": null,
   "id": "ce45363d",
   "metadata": {},
   "outputs": [],
   "source": []
  },
  {
   "cell_type": "code",
   "execution_count": null,
   "id": "d1e99983",
   "metadata": {},
   "outputs": [],
   "source": []
  },
  {
   "cell_type": "code",
   "execution_count": null,
   "id": "dc2c9ae3",
   "metadata": {},
   "outputs": [],
   "source": []
  },
  {
   "cell_type": "code",
   "execution_count": null,
   "id": "cf188cd8",
   "metadata": {},
   "outputs": [],
   "source": []
  },
  {
   "cell_type": "code",
   "execution_count": null,
   "id": "b6aeb7d9",
   "metadata": {},
   "outputs": [],
   "source": []
  }
 ],
 "metadata": {
  "kernelspec": {
   "display_name": "SolarSoundBytes",
   "language": "python",
   "name": "python3"
  },
  "language_info": {
   "codemirror_mode": {
    "name": "ipython",
    "version": 3
   },
   "file_extension": ".py",
   "mimetype": "text/x-python",
   "name": "python",
   "nbconvert_exporter": "python",
   "pygments_lexer": "ipython3",
   "version": "3.10.6"
  }
 },
 "nbformat": 4,
 "nbformat_minor": 5
}
